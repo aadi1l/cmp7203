{
  "cells": [
    {
      "cell_type": "code",
      "execution_count": 1,
      "metadata": {
        "colab": {
          "base_uri": "https://localhost:8080/",
          "height": 163
        },
        "id": "421CipvIe3uY",
        "outputId": "609947cc-dbb0-41ad-eca5-556063677673"
      },
      "outputs": [
        {
          "output_type": "display_data",
          "data": {
            "text/plain": [
              "<IPython.core.display.HTML object>"
            ],
            "text/html": [
              "\n",
              "     <input type=\"file\" id=\"files-40efee97-425b-4106-bd7d-c683f05d9df6\" name=\"files[]\" multiple disabled\n",
              "        style=\"border:none\" />\n",
              "     <output id=\"result-40efee97-425b-4106-bd7d-c683f05d9df6\">\n",
              "      Upload widget is only available when the cell has been executed in the\n",
              "      current browser session. Please rerun this cell to enable.\n",
              "      </output>\n",
              "      <script>// Copyright 2017 Google LLC\n",
              "//\n",
              "// Licensed under the Apache License, Version 2.0 (the \"License\");\n",
              "// you may not use this file except in compliance with the License.\n",
              "// You may obtain a copy of the License at\n",
              "//\n",
              "//      http://www.apache.org/licenses/LICENSE-2.0\n",
              "//\n",
              "// Unless required by applicable law or agreed to in writing, software\n",
              "// distributed under the License is distributed on an \"AS IS\" BASIS,\n",
              "// WITHOUT WARRANTIES OR CONDITIONS OF ANY KIND, either express or implied.\n",
              "// See the License for the specific language governing permissions and\n",
              "// limitations under the License.\n",
              "\n",
              "/**\n",
              " * @fileoverview Helpers for google.colab Python module.\n",
              " */\n",
              "(function(scope) {\n",
              "function span(text, styleAttributes = {}) {\n",
              "  const element = document.createElement('span');\n",
              "  element.textContent = text;\n",
              "  for (const key of Object.keys(styleAttributes)) {\n",
              "    element.style[key] = styleAttributes[key];\n",
              "  }\n",
              "  return element;\n",
              "}\n",
              "\n",
              "// Max number of bytes which will be uploaded at a time.\n",
              "const MAX_PAYLOAD_SIZE = 100 * 1024;\n",
              "\n",
              "function _uploadFiles(inputId, outputId) {\n",
              "  const steps = uploadFilesStep(inputId, outputId);\n",
              "  const outputElement = document.getElementById(outputId);\n",
              "  // Cache steps on the outputElement to make it available for the next call\n",
              "  // to uploadFilesContinue from Python.\n",
              "  outputElement.steps = steps;\n",
              "\n",
              "  return _uploadFilesContinue(outputId);\n",
              "}\n",
              "\n",
              "// This is roughly an async generator (not supported in the browser yet),\n",
              "// where there are multiple asynchronous steps and the Python side is going\n",
              "// to poll for completion of each step.\n",
              "// This uses a Promise to block the python side on completion of each step,\n",
              "// then passes the result of the previous step as the input to the next step.\n",
              "function _uploadFilesContinue(outputId) {\n",
              "  const outputElement = document.getElementById(outputId);\n",
              "  const steps = outputElement.steps;\n",
              "\n",
              "  const next = steps.next(outputElement.lastPromiseValue);\n",
              "  return Promise.resolve(next.value.promise).then((value) => {\n",
              "    // Cache the last promise value to make it available to the next\n",
              "    // step of the generator.\n",
              "    outputElement.lastPromiseValue = value;\n",
              "    return next.value.response;\n",
              "  });\n",
              "}\n",
              "\n",
              "/**\n",
              " * Generator function which is called between each async step of the upload\n",
              " * process.\n",
              " * @param {string} inputId Element ID of the input file picker element.\n",
              " * @param {string} outputId Element ID of the output display.\n",
              " * @return {!Iterable<!Object>} Iterable of next steps.\n",
              " */\n",
              "function* uploadFilesStep(inputId, outputId) {\n",
              "  const inputElement = document.getElementById(inputId);\n",
              "  inputElement.disabled = false;\n",
              "\n",
              "  const outputElement = document.getElementById(outputId);\n",
              "  outputElement.innerHTML = '';\n",
              "\n",
              "  const pickedPromise = new Promise((resolve) => {\n",
              "    inputElement.addEventListener('change', (e) => {\n",
              "      resolve(e.target.files);\n",
              "    });\n",
              "  });\n",
              "\n",
              "  const cancel = document.createElement('button');\n",
              "  inputElement.parentElement.appendChild(cancel);\n",
              "  cancel.textContent = 'Cancel upload';\n",
              "  const cancelPromise = new Promise((resolve) => {\n",
              "    cancel.onclick = () => {\n",
              "      resolve(null);\n",
              "    };\n",
              "  });\n",
              "\n",
              "  // Wait for the user to pick the files.\n",
              "  const files = yield {\n",
              "    promise: Promise.race([pickedPromise, cancelPromise]),\n",
              "    response: {\n",
              "      action: 'starting',\n",
              "    }\n",
              "  };\n",
              "\n",
              "  cancel.remove();\n",
              "\n",
              "  // Disable the input element since further picks are not allowed.\n",
              "  inputElement.disabled = true;\n",
              "\n",
              "  if (!files) {\n",
              "    return {\n",
              "      response: {\n",
              "        action: 'complete',\n",
              "      }\n",
              "    };\n",
              "  }\n",
              "\n",
              "  for (const file of files) {\n",
              "    const li = document.createElement('li');\n",
              "    li.append(span(file.name, {fontWeight: 'bold'}));\n",
              "    li.append(span(\n",
              "        `(${file.type || 'n/a'}) - ${file.size} bytes, ` +\n",
              "        `last modified: ${\n",
              "            file.lastModifiedDate ? file.lastModifiedDate.toLocaleDateString() :\n",
              "                                    'n/a'} - `));\n",
              "    const percent = span('0% done');\n",
              "    li.appendChild(percent);\n",
              "\n",
              "    outputElement.appendChild(li);\n",
              "\n",
              "    const fileDataPromise = new Promise((resolve) => {\n",
              "      const reader = new FileReader();\n",
              "      reader.onload = (e) => {\n",
              "        resolve(e.target.result);\n",
              "      };\n",
              "      reader.readAsArrayBuffer(file);\n",
              "    });\n",
              "    // Wait for the data to be ready.\n",
              "    let fileData = yield {\n",
              "      promise: fileDataPromise,\n",
              "      response: {\n",
              "        action: 'continue',\n",
              "      }\n",
              "    };\n",
              "\n",
              "    // Use a chunked sending to avoid message size limits. See b/62115660.\n",
              "    let position = 0;\n",
              "    do {\n",
              "      const length = Math.min(fileData.byteLength - position, MAX_PAYLOAD_SIZE);\n",
              "      const chunk = new Uint8Array(fileData, position, length);\n",
              "      position += length;\n",
              "\n",
              "      const base64 = btoa(String.fromCharCode.apply(null, chunk));\n",
              "      yield {\n",
              "        response: {\n",
              "          action: 'append',\n",
              "          file: file.name,\n",
              "          data: base64,\n",
              "        },\n",
              "      };\n",
              "\n",
              "      let percentDone = fileData.byteLength === 0 ?\n",
              "          100 :\n",
              "          Math.round((position / fileData.byteLength) * 100);\n",
              "      percent.textContent = `${percentDone}% done`;\n",
              "\n",
              "    } while (position < fileData.byteLength);\n",
              "  }\n",
              "\n",
              "  // All done.\n",
              "  yield {\n",
              "    response: {\n",
              "      action: 'complete',\n",
              "    }\n",
              "  };\n",
              "}\n",
              "\n",
              "scope.google = scope.google || {};\n",
              "scope.google.colab = scope.google.colab || {};\n",
              "scope.google.colab._files = {\n",
              "  _uploadFiles,\n",
              "  _uploadFilesContinue,\n",
              "};\n",
              "})(self);\n",
              "</script> "
            ]
          },
          "metadata": {}
        },
        {
          "output_type": "stream",
          "name": "stdout",
          "text": [
            "Saving chat-data.zip to chat-data.zip\n",
            "Saving combined-data.csv to combined-data.csv\n",
            "Saving flamingo-data.zip to flamingo-data.zip\n"
          ]
        },
        {
          "output_type": "execute_result",
          "data": {
            "text/plain": [
              "'/usr/bin/python3'"
            ],
            "application/vnd.google.colaboratory.intrinsic+json": {
              "type": "string"
            }
          },
          "metadata": {},
          "execution_count": 1
        }
      ],
      "source": [
        "from google.colab import files\n",
        "uploaded = files.upload()\n",
        "\n",
        "\n",
        "import sys, os\n",
        "\n",
        "sys.path\n",
        "sys.executable"
      ]
    },
    {
      "cell_type": "code",
      "execution_count": 2,
      "metadata": {
        "colab": {
          "base_uri": "https://localhost:8080/"
        },
        "id": "kzS0wLo6kfok",
        "outputId": "4f9438d2-d6c1-4bdf-c46a-656ade8bf29f"
      },
      "outputs": [
        {
          "output_type": "stream",
          "name": "stdout",
          "text": [
            "Reading package lists... Done\n",
            "Building dependency tree       \n",
            "Reading state information... Done\n",
            "The following additional packages will be installed:\n",
            "  libxtst6 openjdk-8-jre-headless\n",
            "Suggested packages:\n",
            "  openjdk-8-demo openjdk-8-source libnss-mdns fonts-dejavu-extra\n",
            "  fonts-ipafont-gothic fonts-ipafont-mincho fonts-wqy-microhei\n",
            "  fonts-wqy-zenhei fonts-indic\n",
            "The following NEW packages will be installed:\n",
            "  libxtst6 openjdk-8-jdk-headless openjdk-8-jre-headless\n",
            "0 upgraded, 3 newly installed, 0 to remove and 24 not upgraded.\n",
            "Need to get 36.5 MB of archives.\n",
            "After this operation, 144 MB of additional disk space will be used.\n",
            "Get:1 http://archive.ubuntu.com/ubuntu focal/main amd64 libxtst6 amd64 2:1.2.3-1 [12.8 kB]\n",
            "Get:2 http://archive.ubuntu.com/ubuntu focal-updates/universe amd64 openjdk-8-jre-headless amd64 8u362-ga-0ubuntu1~20.04.1 [28.2 MB]\n",
            "Get:3 http://archive.ubuntu.com/ubuntu focal-updates/universe amd64 openjdk-8-jdk-headless amd64 8u362-ga-0ubuntu1~20.04.1 [8,282 kB]\n",
            "Fetched 36.5 MB in 2s (20.6 MB/s)\n",
            "Selecting previously unselected package libxtst6:amd64.\n",
            "(Reading database ... 122520 files and directories currently installed.)\n",
            "Preparing to unpack .../libxtst6_2%3a1.2.3-1_amd64.deb ...\n",
            "Unpacking libxtst6:amd64 (2:1.2.3-1) ...\n",
            "Selecting previously unselected package openjdk-8-jre-headless:amd64.\n",
            "Preparing to unpack .../openjdk-8-jre-headless_8u362-ga-0ubuntu1~20.04.1_amd64.deb ...\n",
            "Unpacking openjdk-8-jre-headless:amd64 (8u362-ga-0ubuntu1~20.04.1) ...\n",
            "Selecting previously unselected package openjdk-8-jdk-headless:amd64.\n",
            "Preparing to unpack .../openjdk-8-jdk-headless_8u362-ga-0ubuntu1~20.04.1_amd64.deb ...\n",
            "Unpacking openjdk-8-jdk-headless:amd64 (8u362-ga-0ubuntu1~20.04.1) ...\n",
            "Setting up libxtst6:amd64 (2:1.2.3-1) ...\n",
            "Setting up openjdk-8-jre-headless:amd64 (8u362-ga-0ubuntu1~20.04.1) ...\n",
            "update-alternatives: using /usr/lib/jvm/java-8-openjdk-amd64/jre/bin/orbd to provide /usr/bin/orbd (orbd) in auto mode\n",
            "update-alternatives: using /usr/lib/jvm/java-8-openjdk-amd64/jre/bin/servertool to provide /usr/bin/servertool (servertool) in auto mode\n",
            "update-alternatives: using /usr/lib/jvm/java-8-openjdk-amd64/jre/bin/tnameserv to provide /usr/bin/tnameserv (tnameserv) in auto mode\n",
            "Setting up openjdk-8-jdk-headless:amd64 (8u362-ga-0ubuntu1~20.04.1) ...\n",
            "update-alternatives: using /usr/lib/jvm/java-8-openjdk-amd64/bin/idlj to provide /usr/bin/idlj (idlj) in auto mode\n",
            "update-alternatives: using /usr/lib/jvm/java-8-openjdk-amd64/bin/wsimport to provide /usr/bin/wsimport (wsimport) in auto mode\n",
            "update-alternatives: using /usr/lib/jvm/java-8-openjdk-amd64/bin/jsadebugd to provide /usr/bin/jsadebugd (jsadebugd) in auto mode\n",
            "update-alternatives: using /usr/lib/jvm/java-8-openjdk-amd64/bin/native2ascii to provide /usr/bin/native2ascii (native2ascii) in auto mode\n",
            "update-alternatives: using /usr/lib/jvm/java-8-openjdk-amd64/bin/javah to provide /usr/bin/javah (javah) in auto mode\n",
            "update-alternatives: using /usr/lib/jvm/java-8-openjdk-amd64/bin/hsdb to provide /usr/bin/hsdb (hsdb) in auto mode\n",
            "update-alternatives: using /usr/lib/jvm/java-8-openjdk-amd64/bin/clhsdb to provide /usr/bin/clhsdb (clhsdb) in auto mode\n",
            "update-alternatives: using /usr/lib/jvm/java-8-openjdk-amd64/bin/xjc to provide /usr/bin/xjc (xjc) in auto mode\n",
            "update-alternatives: using /usr/lib/jvm/java-8-openjdk-amd64/bin/schemagen to provide /usr/bin/schemagen (schemagen) in auto mode\n",
            "update-alternatives: using /usr/lib/jvm/java-8-openjdk-amd64/bin/extcheck to provide /usr/bin/extcheck (extcheck) in auto mode\n",
            "update-alternatives: using /usr/lib/jvm/java-8-openjdk-amd64/bin/jhat to provide /usr/bin/jhat (jhat) in auto mode\n",
            "update-alternatives: using /usr/lib/jvm/java-8-openjdk-amd64/bin/wsgen to provide /usr/bin/wsgen (wsgen) in auto mode\n",
            "Processing triggers for libc-bin (2.31-0ubuntu9.9) ...\n"
          ]
        }
      ],
      "source": [
        "!apt-get install openjdk-8-jdk-headless"
      ]
    },
    {
      "cell_type": "code",
      "execution_count": 3,
      "metadata": {
        "colab": {
          "base_uri": "https://localhost:8080/"
        },
        "id": "dgr5gfcCl7aV",
        "outputId": "155d9c2f-d2e2-4776-c906-72377bb1c5c6"
      },
      "outputs": [
        {
          "output_type": "stream",
          "name": "stdout",
          "text": [
            "--2023-05-17 10:24:14--  https://archive.apache.org/dist/spark/spark-3.2.1/spark-3.2.1-bin-hadoop2.7.tgz\n",
            "Resolving archive.apache.org (archive.apache.org)... 138.201.131.134, 2a01:4f8:172:2ec5::2\n",
            "Connecting to archive.apache.org (archive.apache.org)|138.201.131.134|:443... connected.\n",
            "HTTP request sent, awaiting response... 200 OK\n",
            "Length: 272637746 (260M) [application/x-gzip]\n",
            "Saving to: ‘spark-3.2.1-bin-hadoop2.7.tgz’\n",
            "\n",
            "spark-3.2.1-bin-had 100%[===================>] 260.01M  99.9KB/s    in 44m 26s \n",
            "\n",
            "2023-05-17 11:08:41 (99.9 KB/s) - ‘spark-3.2.1-bin-hadoop2.7.tgz’ saved [272637746/272637746]\n",
            "\n"
          ]
        }
      ],
      "source": [
        "!wget https://archive.apache.org/dist/spark/spark-3.2.1/spark-3.2.1-bin-hadoop2.7.tgz"
      ]
    },
    {
      "cell_type": "code",
      "execution_count": 4,
      "metadata": {
        "id": "nCZQQe0Ell3u"
      },
      "outputs": [],
      "source": [
        "!tar xf /content/spark-3.2.1-bin-hadoop2.7.tgz"
      ]
    },
    {
      "cell_type": "code",
      "execution_count": 5,
      "metadata": {
        "id": "Hv1Jlxndmk6O",
        "colab": {
          "base_uri": "https://localhost:8080/"
        },
        "outputId": "4e3e3786-2432-48f1-e692-33db694af6ca"
      },
      "outputs": [
        {
          "output_type": "stream",
          "name": "stdout",
          "text": [
            "Looking in indexes: https://pypi.org/simple, https://us-python.pkg.dev/colab-wheels/public/simple/\n",
            "Collecting pyspark\n",
            "  Downloading pyspark-3.4.0.tar.gz (310.8 MB)\n",
            "\u001b[2K     \u001b[90m━━━━━━━━━━━━━━━━━━━━━━━━━━━━━━━━━━━━━━━\u001b[0m \u001b[32m310.8/310.8 MB\u001b[0m \u001b[31m4.2 MB/s\u001b[0m eta \u001b[36m0:00:00\u001b[0m\n",
            "\u001b[?25h  Preparing metadata (setup.py) ... \u001b[?25l\u001b[?25hdone\n",
            "Requirement already satisfied: py4j==0.10.9.7 in /usr/local/lib/python3.10/dist-packages (from pyspark) (0.10.9.7)\n",
            "Building wheels for collected packages: pyspark\n",
            "  Building wheel for pyspark (setup.py) ... \u001b[?25l\u001b[?25hdone\n",
            "  Created wheel for pyspark: filename=pyspark-3.4.0-py2.py3-none-any.whl size=311317130 sha256=b99b4fa9d97c37fb0765c214cac92bccbfe4086971614a7796c3db542e6fa594\n",
            "  Stored in directory: /root/.cache/pip/wheels/7b/1b/4b/3363a1d04368e7ff0d408e57ff57966fcdf00583774e761327\n",
            "Successfully built pyspark\n",
            "Installing collected packages: pyspark\n",
            "Successfully installed pyspark-3.4.0\n"
          ]
        }
      ],
      "source": [
        "!pip install -q findspark\n",
        "!pip install pyspark"
      ]
    },
    {
      "cell_type": "code",
      "execution_count": 6,
      "metadata": {
        "colab": {
          "base_uri": "https://localhost:8080/",
          "height": 35
        },
        "id": "1oP12N3xmp_s",
        "outputId": "1fabc37c-5a56-433a-a888-808a338cdd34"
      },
      "outputs": [
        {
          "output_type": "execute_result",
          "data": {
            "text/plain": [
              "'/content/spark-3.2.1-bin-hadoop2.7'"
            ],
            "application/vnd.google.colaboratory.intrinsic+json": {
              "type": "string"
            }
          },
          "metadata": {},
          "execution_count": 6
        }
      ],
      "source": [
        "import os\n",
        "\n",
        "os.environ[\"JAVA_HOME\"] =  \"/usr/lib/jvm/java-8-openjdk-amd64\"\n",
        "os.environ[\"SPARK_HOME\"] = \"/content/spark-3.2.1-bin-hadoop2.7\"\n",
        "\n",
        "\n",
        "import findspark\n",
        "\n",
        "findspark.init()\n",
        "findspark.find()\n"
      ]
    },
    {
      "cell_type": "code",
      "execution_count": 63,
      "metadata": {
        "id": "j2ApjVaeoJ2Z",
        "colab": {
          "base_uri": "https://localhost:8080/",
          "height": 246
        },
        "outputId": "07e608d5-b30c-452f-c5da-7ab1da281953"
      },
      "outputs": [
        {
          "output_type": "error",
          "ename": "ValueError",
          "evalue": "ignored",
          "traceback": [
            "\u001b[0;31m---------------------------------------------------------------------------\u001b[0m",
            "\u001b[0;31mValueError\u001b[0m                                Traceback (most recent call last)",
            "\u001b[0;32m<ipython-input-63-5f8b997b4738>\u001b[0m in \u001b[0;36m<cell line: 4>\u001b[0;34m()\u001b[0m\n\u001b[1;32m      2\u001b[0m \u001b[0;34m\u001b[0m\u001b[0m\n\u001b[1;32m      3\u001b[0m \u001b[0;34m\u001b[0m\u001b[0m\n\u001b[0;32m----> 4\u001b[0;31m \u001b[0msc\u001b[0m \u001b[0;34m=\u001b[0m \u001b[0mpyspark\u001b[0m\u001b[0;34m.\u001b[0m\u001b[0mSparkContext\u001b[0m\u001b[0;34m(\u001b[0m\u001b[0mmaster\u001b[0m\u001b[0;34m=\u001b[0m\u001b[0;34m\"local[*]\"\u001b[0m\u001b[0;34m,\u001b[0m \u001b[0mappName\u001b[0m\u001b[0;34m=\u001b[0m\u001b[0;34m\"FirstExample\"\u001b[0m\u001b[0;34m)\u001b[0m\u001b[0;34m\u001b[0m\u001b[0;34m\u001b[0m\u001b[0m\n\u001b[0m",
            "\u001b[0;32m/content/spark-3.2.1-bin-hadoop2.7/python/pyspark/context.py\u001b[0m in \u001b[0;36m__init__\u001b[0;34m(self, master, appName, sparkHome, pyFiles, environment, batchSize, serializer, conf, gateway, jsc, profiler_cls)\u001b[0m\n\u001b[1;32m    142\u001b[0m                 \" is not allowed as it is a security risk.\")\n\u001b[1;32m    143\u001b[0m \u001b[0;34m\u001b[0m\u001b[0m\n\u001b[0;32m--> 144\u001b[0;31m         \u001b[0mSparkContext\u001b[0m\u001b[0;34m.\u001b[0m\u001b[0m_ensure_initialized\u001b[0m\u001b[0;34m(\u001b[0m\u001b[0mself\u001b[0m\u001b[0;34m,\u001b[0m \u001b[0mgateway\u001b[0m\u001b[0;34m=\u001b[0m\u001b[0mgateway\u001b[0m\u001b[0;34m,\u001b[0m \u001b[0mconf\u001b[0m\u001b[0;34m=\u001b[0m\u001b[0mconf\u001b[0m\u001b[0;34m)\u001b[0m\u001b[0;34m\u001b[0m\u001b[0;34m\u001b[0m\u001b[0m\n\u001b[0m\u001b[1;32m    145\u001b[0m         \u001b[0;32mtry\u001b[0m\u001b[0;34m:\u001b[0m\u001b[0;34m\u001b[0m\u001b[0;34m\u001b[0m\u001b[0m\n\u001b[1;32m    146\u001b[0m             self._do_init(master, appName, sparkHome, pyFiles, environment, batchSize, serializer,\n",
            "\u001b[0;32m/content/spark-3.2.1-bin-hadoop2.7/python/pyspark/context.py\u001b[0m in \u001b[0;36m_ensure_initialized\u001b[0;34m(cls, instance, gateway, conf)\u001b[0m\n\u001b[1;32m    348\u001b[0m \u001b[0;34m\u001b[0m\u001b[0m\n\u001b[1;32m    349\u001b[0m                     \u001b[0;31m# Raise error if there is already a running Spark context\u001b[0m\u001b[0;34m\u001b[0m\u001b[0;34m\u001b[0m\u001b[0m\n\u001b[0;32m--> 350\u001b[0;31m                     raise ValueError(\n\u001b[0m\u001b[1;32m    351\u001b[0m                         \u001b[0;34m\"Cannot run multiple SparkContexts at once; \"\u001b[0m\u001b[0;34m\u001b[0m\u001b[0;34m\u001b[0m\u001b[0m\n\u001b[1;32m    352\u001b[0m                         \u001b[0;34m\"existing SparkContext(app=%s, master=%s)\"\u001b[0m\u001b[0;34m\u001b[0m\u001b[0;34m\u001b[0m\u001b[0m\n",
            "\u001b[0;31mValueError\u001b[0m: Cannot run multiple SparkContexts at once; existing SparkContext(app=FirstExample, master=local[*]) created by __init__ at <ipython-input-7-a7017f453af2>:4 "
          ]
        }
      ],
      "source": [
        "import pyspark\n",
        "\n",
        "\n",
        "sc = pyspark.SparkContext(master=\"local[*]\", appName=\"FirstExample\")"
      ]
    },
    {
      "cell_type": "code",
      "execution_count": 8,
      "metadata": {
        "id": "AE4QF-ydptxI"
      },
      "outputs": [],
      "source": [
        "sc.setLogLevel(\"ERROR\")"
      ]
    },
    {
      "cell_type": "code",
      "execution_count": 9,
      "metadata": {
        "id": "ep9QGsdlpxHQ"
      },
      "outputs": [],
      "source": [
        "from pyspark.sql import SparkSession\n",
        "\n",
        "spark = SparkSession.builder.master(\"local\").appName(\"assessment_bigdata\").config(\"spark.ui.port\", \"4050\").getOrCreate()"
      ]
    },
    {
      "cell_type": "code",
      "execution_count": 10,
      "metadata": {
        "colab": {
          "base_uri": "https://localhost:8080/",
          "height": 221
        },
        "id": "CFz-LYvZrb4V",
        "outputId": "7e4ac71c-2260-4b1d-a14d-89c60f65d607"
      },
      "outputs": [
        {
          "output_type": "execute_result",
          "data": {
            "text/plain": [
              "<pyspark.sql.session.SparkSession at 0x7ff23015d900>"
            ],
            "text/html": [
              "\n",
              "            <div>\n",
              "                <p><b>SparkSession - in-memory</b></p>\n",
              "                \n",
              "        <div>\n",
              "            <p><b>SparkContext</b></p>\n",
              "\n",
              "            <p><a href=\"http://19361dd0e3fd:4040\">Spark UI</a></p>\n",
              "\n",
              "            <dl>\n",
              "              <dt>Version</dt>\n",
              "                <dd><code>v3.2.1</code></dd>\n",
              "              <dt>Master</dt>\n",
              "                <dd><code>local[*]</code></dd>\n",
              "              <dt>AppName</dt>\n",
              "                <dd><code>FirstExample</code></dd>\n",
              "            </dl>\n",
              "        </div>\n",
              "        \n",
              "            </div>\n",
              "        "
            ]
          },
          "metadata": {},
          "execution_count": 10
        }
      ],
      "source": [
        "spark"
      ]
    },
    {
      "cell_type": "code",
      "execution_count": 11,
      "metadata": {
        "colab": {
          "base_uri": "https://localhost:8080/"
        },
        "id": "3Z53zyZVrgw2",
        "outputId": "e678b72c-bb8e-44dd-98d8-f598143c9aab"
      },
      "outputs": [
        {
          "output_type": "stream",
          "name": "stdout",
          "text": [
            "Archive:  /content/chat-data.zip\n",
            "   creating: chat-data/\n",
            "  inflating: __MACOSX/._chat-data    \n",
            "  inflating: chat-data/chat_leave_team_chat.csv  \n",
            "  inflating: __MACOSX/chat-data/._chat_leave_team_chat.csv  \n",
            "  inflating: chat-data/chat_join_team_chat.csv  \n",
            "  inflating: __MACOSX/chat-data/._chat_join_team_chat.csv  \n",
            "  inflating: chat-data/chat_respond_team_chat.csv  \n",
            "  inflating: __MACOSX/chat-data/._chat_respond_team_chat.csv  \n",
            "  inflating: chat-data/chat_mention_team_chat.csv  \n",
            "  inflating: __MACOSX/chat-data/._chat_mention_team_chat.csv  \n",
            "Archive:  /content/flamingo-data.zip\n",
            "   creating: flamingo-data/\n",
            "  inflating: __MACOSX/._flamingo-data  \n",
            "  inflating: flamingo-data/level-events.csv  \n",
            "  inflating: __MACOSX/flamingo-data/._level-events.csv  \n",
            "  inflating: flamingo-data/game-clicks.csv  \n",
            "  inflating: __MACOSX/flamingo-data/._game-clicks.csv  \n",
            "  inflating: flamingo-data/users.csv  \n",
            "  inflating: __MACOSX/flamingo-data/._users.csv  \n",
            "  inflating: flamingo-data/ad-clicks.csv  \n",
            "  inflating: __MACOSX/flamingo-data/._ad-clicks.csv  \n",
            "  inflating: flamingo-data/buy-clicks.csv  \n",
            "  inflating: __MACOSX/flamingo-data/._buy-clicks.csv  \n",
            "  inflating: flamingo-data/user-session.csv  \n",
            "  inflating: __MACOSX/flamingo-data/._user-session.csv  \n",
            "  inflating: flamingo-data/team-assignments.csv  \n",
            "  inflating: __MACOSX/flamingo-data/._team-assignments.csv  \n",
            "  inflating: flamingo-data/team.csv  \n",
            "  inflating: __MACOSX/flamingo-data/._team.csv  \n"
          ]
        }
      ],
      "source": [
        "# UNZIPPING THE DATASET FILES\n",
        "\n",
        "\n",
        "!unzip \"/content/chat-data.zip\"\n",
        "!unzip \"/content/flamingo-data.zip\"\n",
        "\n"
      ]
    },
    {
      "cell_type": "code",
      "execution_count": 12,
      "metadata": {
        "id": "ZJ7sdD5JwppF"
      },
      "outputs": [],
      "source": [
        "\n",
        "buy_clicks_df = spark.read.csv(\"/content/flamingo-data/buy-clicks.csv\", header=True, inferSchema=True)"
      ]
    },
    {
      "cell_type": "code",
      "execution_count": 13,
      "metadata": {
        "id": "lldQMnrwxG6T",
        "colab": {
          "base_uri": "https://localhost:8080/"
        },
        "outputId": "1959c738-d3b3-4278-8ac4-02ec78f91401"
      },
      "outputs": [
        {
          "output_type": "stream",
          "name": "stdout",
          "text": [
            "root\n",
            " |-- timestamp: string (nullable = true)\n",
            " |-- txId: integer (nullable = true)\n",
            " |-- userSessionId: integer (nullable = true)\n",
            " |-- team: integer (nullable = true)\n",
            " |-- userId: integer (nullable = true)\n",
            " |-- buyId: integer (nullable = true)\n",
            " |-- price: double (nullable = true)\n",
            "\n"
          ]
        }
      ],
      "source": [
        "buy_clicks_df.printSchema()"
      ]
    },
    {
      "cell_type": "code",
      "execution_count": 20,
      "metadata": {
        "id": "5Uzi72fXxbNL",
        "colab": {
          "base_uri": "https://localhost:8080/"
        },
        "outputId": "ec11e576-1ac1-4364-d359-0b0a4c7f20f8"
      },
      "outputs": [
        {
          "output_type": "stream",
          "name": "stdout",
          "text": [
            "+-------------------+----+-------------+----+------+-----+-----+\n",
            "|          timestamp|txId|userSessionId|team|userId|buyId|price|\n",
            "+-------------------+----+-------------+----+------+-----+-----+\n",
            "|2016-05-26 15:36:54|6004|         5820|   9|  1300|    2|  3.0|\n",
            "|2016-05-26 15:36:54|6005|         5775|  35|   868|    4| 10.0|\n",
            "|2016-05-26 15:36:54|6006|         5679|  97|   819|    5| 20.0|\n",
            "|2016-05-26 16:36:54|6067|         5665|  18|   121|    2|  3.0|\n",
            "|2016-05-26 17:06:54|6093|         5709|  11|  2222|    5| 20.0|\n",
            "+-------------------+----+-------------+----+------+-----+-----+\n",
            "only showing top 5 rows\n",
            "\n"
          ]
        }
      ],
      "source": [
        "buy_clicks_df.show(5)"
      ]
    },
    {
      "cell_type": "code",
      "execution_count": 21,
      "metadata": {
        "id": "N3eGtYdryAaO",
        "colab": {
          "base_uri": "https://localhost:8080/",
          "height": 300
        },
        "outputId": "7ada480b-fbb6-4fec-d5f7-a5f4df7b24c0"
      },
      "outputs": [
        {
          "output_type": "execute_result",
          "data": {
            "text/plain": [
              "                   0                   1                   2  \\\n",
              "summary        count                mean              stddev   \n",
              "timestamp       2947                None                None   \n",
              "txId            2947   25443.01085850017   9343.543792592367   \n",
              "userSessionId   2947   22884.75229046488    8669.35362676463   \n",
              "team            2947   70.31896844248388   40.27452540199273   \n",
              "userId          2947  1187.4591109602986   685.7038088341923   \n",
              "buyId           2947   2.530709195792331  1.7799870722907862   \n",
              "price           2947   7.263997285374957   7.076313004712134   \n",
              "\n",
              "                                 3                    4  \n",
              "summary                        min                  max  \n",
              "timestamp      2016-05-26 15:36:54  2016-06-16 10:36:54  \n",
              "txId                          6004                39842  \n",
              "userSessionId                 5652                39275  \n",
              "team                             2                  178  \n",
              "userId                           1                 2387  \n",
              "buyId                            0                    5  \n",
              "price                          1.0                 20.0  "
            ],
            "text/html": [
              "\n",
              "  <div id=\"df-ea2f1705-38d3-4ece-9702-db9778504458\">\n",
              "    <div class=\"colab-df-container\">\n",
              "      <div>\n",
              "<style scoped>\n",
              "    .dataframe tbody tr th:only-of-type {\n",
              "        vertical-align: middle;\n",
              "    }\n",
              "\n",
              "    .dataframe tbody tr th {\n",
              "        vertical-align: top;\n",
              "    }\n",
              "\n",
              "    .dataframe thead th {\n",
              "        text-align: right;\n",
              "    }\n",
              "</style>\n",
              "<table border=\"1\" class=\"dataframe\">\n",
              "  <thead>\n",
              "    <tr style=\"text-align: right;\">\n",
              "      <th></th>\n",
              "      <th>0</th>\n",
              "      <th>1</th>\n",
              "      <th>2</th>\n",
              "      <th>3</th>\n",
              "      <th>4</th>\n",
              "    </tr>\n",
              "  </thead>\n",
              "  <tbody>\n",
              "    <tr>\n",
              "      <th>summary</th>\n",
              "      <td>count</td>\n",
              "      <td>mean</td>\n",
              "      <td>stddev</td>\n",
              "      <td>min</td>\n",
              "      <td>max</td>\n",
              "    </tr>\n",
              "    <tr>\n",
              "      <th>timestamp</th>\n",
              "      <td>2947</td>\n",
              "      <td>None</td>\n",
              "      <td>None</td>\n",
              "      <td>2016-05-26 15:36:54</td>\n",
              "      <td>2016-06-16 10:36:54</td>\n",
              "    </tr>\n",
              "    <tr>\n",
              "      <th>txId</th>\n",
              "      <td>2947</td>\n",
              "      <td>25443.01085850017</td>\n",
              "      <td>9343.543792592367</td>\n",
              "      <td>6004</td>\n",
              "      <td>39842</td>\n",
              "    </tr>\n",
              "    <tr>\n",
              "      <th>userSessionId</th>\n",
              "      <td>2947</td>\n",
              "      <td>22884.75229046488</td>\n",
              "      <td>8669.35362676463</td>\n",
              "      <td>5652</td>\n",
              "      <td>39275</td>\n",
              "    </tr>\n",
              "    <tr>\n",
              "      <th>team</th>\n",
              "      <td>2947</td>\n",
              "      <td>70.31896844248388</td>\n",
              "      <td>40.27452540199273</td>\n",
              "      <td>2</td>\n",
              "      <td>178</td>\n",
              "    </tr>\n",
              "    <tr>\n",
              "      <th>userId</th>\n",
              "      <td>2947</td>\n",
              "      <td>1187.4591109602986</td>\n",
              "      <td>685.7038088341923</td>\n",
              "      <td>1</td>\n",
              "      <td>2387</td>\n",
              "    </tr>\n",
              "    <tr>\n",
              "      <th>buyId</th>\n",
              "      <td>2947</td>\n",
              "      <td>2.530709195792331</td>\n",
              "      <td>1.7799870722907862</td>\n",
              "      <td>0</td>\n",
              "      <td>5</td>\n",
              "    </tr>\n",
              "    <tr>\n",
              "      <th>price</th>\n",
              "      <td>2947</td>\n",
              "      <td>7.263997285374957</td>\n",
              "      <td>7.076313004712134</td>\n",
              "      <td>1.0</td>\n",
              "      <td>20.0</td>\n",
              "    </tr>\n",
              "  </tbody>\n",
              "</table>\n",
              "</div>\n",
              "      <button class=\"colab-df-convert\" onclick=\"convertToInteractive('df-ea2f1705-38d3-4ece-9702-db9778504458')\"\n",
              "              title=\"Convert this dataframe to an interactive table.\"\n",
              "              style=\"display:none;\">\n",
              "        \n",
              "  <svg xmlns=\"http://www.w3.org/2000/svg\" height=\"24px\"viewBox=\"0 0 24 24\"\n",
              "       width=\"24px\">\n",
              "    <path d=\"M0 0h24v24H0V0z\" fill=\"none\"/>\n",
              "    <path d=\"M18.56 5.44l.94 2.06.94-2.06 2.06-.94-2.06-.94-.94-2.06-.94 2.06-2.06.94zm-11 1L8.5 8.5l.94-2.06 2.06-.94-2.06-.94L8.5 2.5l-.94 2.06-2.06.94zm10 10l.94 2.06.94-2.06 2.06-.94-2.06-.94-.94-2.06-.94 2.06-2.06.94z\"/><path d=\"M17.41 7.96l-1.37-1.37c-.4-.4-.92-.59-1.43-.59-.52 0-1.04.2-1.43.59L10.3 9.45l-7.72 7.72c-.78.78-.78 2.05 0 2.83L4 21.41c.39.39.9.59 1.41.59.51 0 1.02-.2 1.41-.59l7.78-7.78 2.81-2.81c.8-.78.8-2.07 0-2.86zM5.41 20L4 18.59l7.72-7.72 1.47 1.35L5.41 20z\"/>\n",
              "  </svg>\n",
              "      </button>\n",
              "      \n",
              "  <style>\n",
              "    .colab-df-container {\n",
              "      display:flex;\n",
              "      flex-wrap:wrap;\n",
              "      gap: 12px;\n",
              "    }\n",
              "\n",
              "    .colab-df-convert {\n",
              "      background-color: #E8F0FE;\n",
              "      border: none;\n",
              "      border-radius: 50%;\n",
              "      cursor: pointer;\n",
              "      display: none;\n",
              "      fill: #1967D2;\n",
              "      height: 32px;\n",
              "      padding: 0 0 0 0;\n",
              "      width: 32px;\n",
              "    }\n",
              "\n",
              "    .colab-df-convert:hover {\n",
              "      background-color: #E2EBFA;\n",
              "      box-shadow: 0px 1px 2px rgba(60, 64, 67, 0.3), 0px 1px 3px 1px rgba(60, 64, 67, 0.15);\n",
              "      fill: #174EA6;\n",
              "    }\n",
              "\n",
              "    [theme=dark] .colab-df-convert {\n",
              "      background-color: #3B4455;\n",
              "      fill: #D2E3FC;\n",
              "    }\n",
              "\n",
              "    [theme=dark] .colab-df-convert:hover {\n",
              "      background-color: #434B5C;\n",
              "      box-shadow: 0px 1px 3px 1px rgba(0, 0, 0, 0.15);\n",
              "      filter: drop-shadow(0px 1px 2px rgba(0, 0, 0, 0.3));\n",
              "      fill: #FFFFFF;\n",
              "    }\n",
              "  </style>\n",
              "\n",
              "      <script>\n",
              "        const buttonEl =\n",
              "          document.querySelector('#df-ea2f1705-38d3-4ece-9702-db9778504458 button.colab-df-convert');\n",
              "        buttonEl.style.display =\n",
              "          google.colab.kernel.accessAllowed ? 'block' : 'none';\n",
              "\n",
              "        async function convertToInteractive(key) {\n",
              "          const element = document.querySelector('#df-ea2f1705-38d3-4ece-9702-db9778504458');\n",
              "          const dataTable =\n",
              "            await google.colab.kernel.invokeFunction('convertToInteractive',\n",
              "                                                     [key], {});\n",
              "          if (!dataTable) return;\n",
              "\n",
              "          const docLinkHtml = 'Like what you see? Visit the ' +\n",
              "            '<a target=\"_blank\" href=https://colab.research.google.com/notebooks/data_table.ipynb>data table notebook</a>'\n",
              "            + ' to learn more about interactive tables.';\n",
              "          element.innerHTML = '';\n",
              "          dataTable['output_type'] = 'display_data';\n",
              "          await google.colab.output.renderOutput(dataTable, element);\n",
              "          const docLink = document.createElement('div');\n",
              "          docLink.innerHTML = docLinkHtml;\n",
              "          element.appendChild(docLink);\n",
              "        }\n",
              "      </script>\n",
              "    </div>\n",
              "  </div>\n",
              "  "
            ]
          },
          "metadata": {},
          "execution_count": 21
        }
      ],
      "source": [
        "buy_clicks_df.describe().toPandas().transpose()"
      ]
    },
    {
      "cell_type": "code",
      "execution_count": 22,
      "metadata": {
        "id": "iqCVPh6bxfHm",
        "colab": {
          "base_uri": "https://localhost:8080/"
        },
        "outputId": "2b12894b-7a91-4ded-9aa8-bed3e5dd408f"
      },
      "outputs": [
        {
          "output_type": "stream",
          "name": "stdout",
          "text": [
            "+-------------------+------+-----------+--------+----------+-------+\n",
            "|          timestamp|userId|       nick| twitter|       dob|country|\n",
            "+-------------------+------+-----------+--------+----------+-------+\n",
            "|2012-06-19 14:53:41|   442|   pcjIOBKW|@SZhyOHv|1994-07-20|     BA|\n",
            "|2012-06-19 19:29:01|   949|    vAOfUkf|  @nkkNo|1971-04-22|     HU|\n",
            "|2012-06-20 19:34:59|  1654|     qOOXSQ|  @SwOlw|1970-04-19|     IS|\n",
            "|2012-06-21 01:18:29|  1586|    px4gW51|@IrCHTnE|1965-11-23|     AM|\n",
            "|2012-06-21 15:35:00|   599|9gkfwRC73Uc| @VJj0Az|1994-08-23|     CC|\n",
            "+-------------------+------+-----------+--------+----------+-------+\n",
            "only showing top 5 rows\n",
            "\n"
          ]
        }
      ],
      "source": [
        "############################### EXPLORATORY DATA ANALYSIS\n",
        "\n",
        "users_df = spark.read.csv(\"/content/flamingo-data/users.csv\", header=True, inferSchema=True)\n",
        "team_df = spark.read.csv(\"/content/flamingo-data/team.csv\", header=True, inferSchema=True)\n",
        "adclicks_df = spark.read.csv(\"/content/flamingo-data/ad-clicks.csv\", header=True, inferSchema=True)\n",
        "buyclicks_df = spark.read.csv(\"/content/flamingo-data/buy-clicks.csv\", header=True, inferSchema=True)\n",
        "\n",
        "users_df.show(5)\n",
        "\n",
        "\n",
        "\n"
      ]
    },
    {
      "cell_type": "code",
      "execution_count": 23,
      "metadata": {
        "id": "2C9vZfLd03N5",
        "colab": {
          "base_uri": "https://localhost:8080/"
        },
        "outputId": "92277a18-e85d-4948-f7b4-381f86f9f353"
      },
      "outputs": [
        {
          "output_type": "stream",
          "name": "stdout",
          "text": [
            "+-------------------+------+-----------+--------+----------+-------+---+\n",
            "|          timestamp|userId|       nick| twitter|       dob|country|age|\n",
            "+-------------------+------+-----------+--------+----------+-------+---+\n",
            "|2012-06-19 14:53:41|   442|   pcjIOBKW|@SZhyOHv|1994-07-20|     BA| 28|\n",
            "|2012-06-19 19:29:01|   949|    vAOfUkf|  @nkkNo|1971-04-22|     HU| 52|\n",
            "|2012-06-20 19:34:59|  1654|     qOOXSQ|  @SwOlw|1970-04-19|     IS| 53|\n",
            "|2012-06-21 01:18:29|  1586|    px4gW51|@IrCHTnE|1965-11-23|     AM| 57|\n",
            "|2012-06-21 15:35:00|   599|9gkfwRC73Uc| @VJj0Az|1994-08-23|     CC| 28|\n",
            "+-------------------+------+-----------+--------+----------+-------+---+\n",
            "only showing top 5 rows\n",
            "\n"
          ]
        }
      ],
      "source": [
        "###### CONVERT DOB TO AGE\n",
        "\n",
        "from pyspark.sql import functions as f\n",
        "\n",
        "\n",
        "\n",
        "# Resource for below Code : https://stackoverflow.com/questions/62148704/date-difference-in-years-in-pyspark-dataframe\n",
        "\n",
        "users_with_age_df = users_df.withColumn(\"age\",   (f.months_between(f.current_date(), f.col('dob')) / 12).cast('int'))\n",
        "\n",
        "users_with_age_df.show(5)\n",
        "\n"
      ]
    },
    {
      "cell_type": "code",
      "execution_count": null,
      "metadata": {
        "id": "57x0IO3W2xSX",
        "colab": {
          "base_uri": "https://localhost:8080/"
        },
        "outputId": "e3d3b03a-86af-4f16-cdbc-072411f5eeef"
      },
      "outputs": [
        {
          "output_type": "stream",
          "name": "stdout",
          "text": [
            "+-------------------+------+-----------+----------+----------+-------+---+\n",
            "|          timestamp|userId|       nick|   twitter|       dob|country|age|\n",
            "+-------------------+------+-----------+----------+----------+-------+---+\n",
            "|2012-06-19 14:53:41|   442|   pcjIOBKW|  @SZhyOHv|1994-07-20|     BA| 28|\n",
            "|2012-06-19 19:29:01|   949|    vAOfUkf|    @nkkNo|1971-04-22|     HU| 52|\n",
            "|2012-06-20 19:34:59|  1654|     qOOXSQ|    @SwOlw|1970-04-19|     IS| 53|\n",
            "|2012-06-21 01:18:29|  1586|    px4gW51|  @IrCHTnE|1965-11-23|     AM| 57|\n",
            "|2012-06-21 15:35:00|   599|9gkfwRC73Uc|   @VJj0Az|1994-08-23|     CC| 28|\n",
            "|2012-06-22 11:36:19|   952| BRbb3VOTti|   @b4OK6K|1986-09-11|     MH| 36|\n",
            "|2012-06-23 08:11:18|  1056|    fGCIAtI| @IgDsdWdU|1991-11-28|     SM| 31|\n",
            "|2012-06-23 10:54:19|    91|tpDfgi3S0N9|   @LvTHGO|1977-07-03|     BZ| 45|\n",
            "|2012-06-23 14:59:26|   809| LkNRpRW6Ez|@ROrRkXwdh|1951-09-25|     PF| 71|\n",
            "|2012-06-23 17:40:35|    75|     fNWewX|   @OXqLyv|1979-11-12|     JO| 43|\n",
            "|2012-06-23 17:57:05|  2224|   rvXvUU9J|  @YexGCPm|1996-08-27|     GW| 26|\n",
            "|2012-06-24 05:29:24|   361|    Pk8oT6o|    @9YksF|1980-10-18|     CK| 42|\n",
            "|2012-06-24 23:33:59|   584|TBRJ3YueQCa|    @QsYLb|1957-02-17|     MD| 66|\n",
            "|2012-06-25 01:48:50|   295|zBxoWozeDlB| @An4tm5np|1977-03-02|     HK| 46|\n",
            "|2012-06-25 02:01:25|  1493|     GnvF8P|  @KnN5TLT|1979-10-05|     QA| 43|\n",
            "|2012-06-25 06:38:10|  1605|  m7eHxdgoz| @tcfAzJ3m|1981-10-23|     ZA| 41|\n",
            "|2012-06-25 15:04:21|   848|  ZWIRmprJd| @qrP2pQcE|1989-06-20|     SE| 33|\n",
            "|2012-06-25 16:53:28|   962|  19aggoZfQ|  @u5Smf32|1949-08-12|     MM| 73|\n",
            "|2012-06-26 15:12:33|  2034| olBz6o3Ulg| @lxLPvLKK|1983-12-04|     FO| 39|\n",
            "|2012-06-26 22:42:21|   379|  R1Mk1AVrv|    @UGHdE|1980-05-03|     DJ| 43|\n",
            "+-------------------+------+-----------+----------+----------+-------+---+\n",
            "only showing top 20 rows\n",
            "\n"
          ]
        }
      ],
      "source": [
        "# list(users_with_age_df.toPandas()[\"age\"].values)\n",
        "users_with_age_df.show()"
      ]
    },
    {
      "cell_type": "code",
      "execution_count": null,
      "metadata": {
        "id": "3L6sgBKE5NLB",
        "colab": {
          "base_uri": "https://localhost:8080/",
          "height": 81
        },
        "outputId": "6fb8d555-1acf-4fa7-836d-94e00a0d4cdc"
      },
      "outputs": [
        {
          "output_type": "execute_result",
          "data": {
            "text/plain": [
              "      count       mean        std   min   25%   50%   75%   max\n",
              "age  2393.0  46.160886  14.070015  24.0  34.0  44.0  57.0  76.0"
            ],
            "text/html": [
              "\n",
              "  <div id=\"df-fb79b6a3-28a9-499f-96a0-49ff30242df5\">\n",
              "    <div class=\"colab-df-container\">\n",
              "      <div>\n",
              "<style scoped>\n",
              "    .dataframe tbody tr th:only-of-type {\n",
              "        vertical-align: middle;\n",
              "    }\n",
              "\n",
              "    .dataframe tbody tr th {\n",
              "        vertical-align: top;\n",
              "    }\n",
              "\n",
              "    .dataframe thead th {\n",
              "        text-align: right;\n",
              "    }\n",
              "</style>\n",
              "<table border=\"1\" class=\"dataframe\">\n",
              "  <thead>\n",
              "    <tr style=\"text-align: right;\">\n",
              "      <th></th>\n",
              "      <th>count</th>\n",
              "      <th>mean</th>\n",
              "      <th>std</th>\n",
              "      <th>min</th>\n",
              "      <th>25%</th>\n",
              "      <th>50%</th>\n",
              "      <th>75%</th>\n",
              "      <th>max</th>\n",
              "    </tr>\n",
              "  </thead>\n",
              "  <tbody>\n",
              "    <tr>\n",
              "      <th>age</th>\n",
              "      <td>2393.0</td>\n",
              "      <td>46.160886</td>\n",
              "      <td>14.070015</td>\n",
              "      <td>24.0</td>\n",
              "      <td>34.0</td>\n",
              "      <td>44.0</td>\n",
              "      <td>57.0</td>\n",
              "      <td>76.0</td>\n",
              "    </tr>\n",
              "  </tbody>\n",
              "</table>\n",
              "</div>\n",
              "      <button class=\"colab-df-convert\" onclick=\"convertToInteractive('df-fb79b6a3-28a9-499f-96a0-49ff30242df5')\"\n",
              "              title=\"Convert this dataframe to an interactive table.\"\n",
              "              style=\"display:none;\">\n",
              "        \n",
              "  <svg xmlns=\"http://www.w3.org/2000/svg\" height=\"24px\"viewBox=\"0 0 24 24\"\n",
              "       width=\"24px\">\n",
              "    <path d=\"M0 0h24v24H0V0z\" fill=\"none\"/>\n",
              "    <path d=\"M18.56 5.44l.94 2.06.94-2.06 2.06-.94-2.06-.94-.94-2.06-.94 2.06-2.06.94zm-11 1L8.5 8.5l.94-2.06 2.06-.94-2.06-.94L8.5 2.5l-.94 2.06-2.06.94zm10 10l.94 2.06.94-2.06 2.06-.94-2.06-.94-.94-2.06-.94 2.06-2.06.94z\"/><path d=\"M17.41 7.96l-1.37-1.37c-.4-.4-.92-.59-1.43-.59-.52 0-1.04.2-1.43.59L10.3 9.45l-7.72 7.72c-.78.78-.78 2.05 0 2.83L4 21.41c.39.39.9.59 1.41.59.51 0 1.02-.2 1.41-.59l7.78-7.78 2.81-2.81c.8-.78.8-2.07 0-2.86zM5.41 20L4 18.59l7.72-7.72 1.47 1.35L5.41 20z\"/>\n",
              "  </svg>\n",
              "      </button>\n",
              "      \n",
              "  <style>\n",
              "    .colab-df-container {\n",
              "      display:flex;\n",
              "      flex-wrap:wrap;\n",
              "      gap: 12px;\n",
              "    }\n",
              "\n",
              "    .colab-df-convert {\n",
              "      background-color: #E8F0FE;\n",
              "      border: none;\n",
              "      border-radius: 50%;\n",
              "      cursor: pointer;\n",
              "      display: none;\n",
              "      fill: #1967D2;\n",
              "      height: 32px;\n",
              "      padding: 0 0 0 0;\n",
              "      width: 32px;\n",
              "    }\n",
              "\n",
              "    .colab-df-convert:hover {\n",
              "      background-color: #E2EBFA;\n",
              "      box-shadow: 0px 1px 2px rgba(60, 64, 67, 0.3), 0px 1px 3px 1px rgba(60, 64, 67, 0.15);\n",
              "      fill: #174EA6;\n",
              "    }\n",
              "\n",
              "    [theme=dark] .colab-df-convert {\n",
              "      background-color: #3B4455;\n",
              "      fill: #D2E3FC;\n",
              "    }\n",
              "\n",
              "    [theme=dark] .colab-df-convert:hover {\n",
              "      background-color: #434B5C;\n",
              "      box-shadow: 0px 1px 3px 1px rgba(0, 0, 0, 0.15);\n",
              "      filter: drop-shadow(0px 1px 2px rgba(0, 0, 0, 0.3));\n",
              "      fill: #FFFFFF;\n",
              "    }\n",
              "  </style>\n",
              "\n",
              "      <script>\n",
              "        const buttonEl =\n",
              "          document.querySelector('#df-fb79b6a3-28a9-499f-96a0-49ff30242df5 button.colab-df-convert');\n",
              "        buttonEl.style.display =\n",
              "          google.colab.kernel.accessAllowed ? 'block' : 'none';\n",
              "\n",
              "        async function convertToInteractive(key) {\n",
              "          const element = document.querySelector('#df-fb79b6a3-28a9-499f-96a0-49ff30242df5');\n",
              "          const dataTable =\n",
              "            await google.colab.kernel.invokeFunction('convertToInteractive',\n",
              "                                                     [key], {});\n",
              "          if (!dataTable) return;\n",
              "\n",
              "          const docLinkHtml = 'Like what you see? Visit the ' +\n",
              "            '<a target=\"_blank\" href=https://colab.research.google.com/notebooks/data_table.ipynb>data table notebook</a>'\n",
              "            + ' to learn more about interactive tables.';\n",
              "          element.innerHTML = '';\n",
              "          dataTable['output_type'] = 'display_data';\n",
              "          await google.colab.output.renderOutput(dataTable, element);\n",
              "          const docLink = document.createElement('div');\n",
              "          docLink.innerHTML = docLinkHtml;\n",
              "          element.appendChild(docLink);\n",
              "        }\n",
              "      </script>\n",
              "    </div>\n",
              "  </div>\n",
              "  "
            ]
          },
          "metadata": {},
          "execution_count": 19
        }
      ],
      "source": [
        "users_with_age_df.toPandas()[[\"age\"]].describe().transpose()"
      ]
    },
    {
      "cell_type": "code",
      "source": [
        "from pyspark.sql.functions import udf\n",
        "\n",
        "\n",
        "age_range = udf(lambda age: '< 20' if age < 20 else \n",
        "                       '20-29' if (age >= 20 and age < 30) else\n",
        "                       '30-39' if (age >= 30 and age < 40) else\n",
        "                       '40-49' if (age >= 40 and age < 50) else        \n",
        "                       '50-59' if (age >= 50 and age < 60) else\n",
        "                       '60-70' if (age >= 60 and age < 70) else\n",
        "                       '70-79' if (age >= 70 and age < 79) else\n",
        "                       '80-100' if (age >= 80 and age < 101)  else \"\"    \n",
        "                       )\n",
        "\n",
        "users_with_age_df = users_with_age_df.withColumn('age_group', age_range(users_with_age_df.age))\n",
        "users_with_age_df.show()"
      ],
      "metadata": {
        "colab": {
          "base_uri": "https://localhost:8080/"
        },
        "id": "ZFvBNVujHxr2",
        "outputId": "af5c0e9b-8fc5-492f-887f-c173d0cff78c"
      },
      "execution_count": null,
      "outputs": [
        {
          "output_type": "stream",
          "name": "stdout",
          "text": [
            "+-------------------+------+-----------+----------+----------+-------+---+---------+\n",
            "|          timestamp|userId|       nick|   twitter|       dob|country|age|age_group|\n",
            "+-------------------+------+-----------+----------+----------+-------+---+---------+\n",
            "|2012-06-19 14:53:41|   442|   pcjIOBKW|  @SZhyOHv|1994-07-20|     BA| 28|    20-29|\n",
            "|2012-06-19 19:29:01|   949|    vAOfUkf|    @nkkNo|1971-04-22|     HU| 52|    50-59|\n",
            "|2012-06-20 19:34:59|  1654|     qOOXSQ|    @SwOlw|1970-04-19|     IS| 53|    50-59|\n",
            "|2012-06-21 01:18:29|  1586|    px4gW51|  @IrCHTnE|1965-11-23|     AM| 57|    50-59|\n",
            "|2012-06-21 15:35:00|   599|9gkfwRC73Uc|   @VJj0Az|1994-08-23|     CC| 28|    20-29|\n",
            "|2012-06-22 11:36:19|   952| BRbb3VOTti|   @b4OK6K|1986-09-11|     MH| 36|    30-39|\n",
            "|2012-06-23 08:11:18|  1056|    fGCIAtI| @IgDsdWdU|1991-11-28|     SM| 31|    30-39|\n",
            "|2012-06-23 10:54:19|    91|tpDfgi3S0N9|   @LvTHGO|1977-07-03|     BZ| 45|    40-49|\n",
            "|2012-06-23 14:59:26|   809| LkNRpRW6Ez|@ROrRkXwdh|1951-09-25|     PF| 71|    70-79|\n",
            "|2012-06-23 17:40:35|    75|     fNWewX|   @OXqLyv|1979-11-12|     JO| 43|    40-49|\n",
            "|2012-06-23 17:57:05|  2224|   rvXvUU9J|  @YexGCPm|1996-08-27|     GW| 26|    20-29|\n",
            "|2012-06-24 05:29:24|   361|    Pk8oT6o|    @9YksF|1980-10-18|     CK| 42|    40-49|\n",
            "|2012-06-24 23:33:59|   584|TBRJ3YueQCa|    @QsYLb|1957-02-17|     MD| 66|    60-70|\n",
            "|2012-06-25 01:48:50|   295|zBxoWozeDlB| @An4tm5np|1977-03-02|     HK| 46|    40-49|\n",
            "|2012-06-25 02:01:25|  1493|     GnvF8P|  @KnN5TLT|1979-10-05|     QA| 43|    40-49|\n",
            "|2012-06-25 06:38:10|  1605|  m7eHxdgoz| @tcfAzJ3m|1981-10-23|     ZA| 41|    40-49|\n",
            "|2012-06-25 15:04:21|   848|  ZWIRmprJd| @qrP2pQcE|1989-06-20|     SE| 33|    30-39|\n",
            "|2012-06-25 16:53:28|   962|  19aggoZfQ|  @u5Smf32|1949-08-12|     MM| 73|    70-79|\n",
            "|2012-06-26 15:12:33|  2034| olBz6o3Ulg| @lxLPvLKK|1983-12-04|     FO| 39|    30-39|\n",
            "|2012-06-26 22:42:21|   379|  R1Mk1AVrv|    @UGHdE|1980-05-03|     DJ| 43|    40-49|\n",
            "+-------------------+------+-----------+----------+----------+-------+---+---------+\n",
            "only showing top 20 rows\n",
            "\n"
          ]
        }
      ]
    },
    {
      "cell_type": "code",
      "source": [
        "data = users_with_age_df.toPandas()\n",
        "data.loc[data['age']<=19, 'age_group'] = 'teenage'\n",
        "data.loc[data['age'].between(20,35), 'age_group'] = '20-35'\n",
        "data.loc[data['age'].between(36,50), 'age_group'] = '36-50'\n",
        "data.loc[data['age'].between(51,65), 'age_group'] = '51-65'\n",
        "data.loc[data['age'].between(66,100), 'age_group'] = '66-100'\n",
        "\n",
        "data\n",
        "\n"
      ],
      "metadata": {
        "colab": {
          "base_uri": "https://localhost:8080/",
          "height": 424
        },
        "id": "SisA83dZ-yTK",
        "outputId": "cbd13166-69bd-4f66-8bd6-a60d8b86727d"
      },
      "execution_count": null,
      "outputs": [
        {
          "output_type": "execute_result",
          "data": {
            "text/plain": [
              "                timestamp  userId         nick     twitter         dob  \\\n",
              "0     2012-06-19 14:53:41     442     pcjIOBKW    @SZhyOHv  1994-07-20   \n",
              "1     2012-06-19 19:29:01     949      vAOfUkf      @nkkNo  1971-04-22   \n",
              "2     2012-06-20 19:34:59    1654       qOOXSQ      @SwOlw  1970-04-19   \n",
              "3     2012-06-21 01:18:29    1586      px4gW51    @IrCHTnE  1965-11-23   \n",
              "4     2012-06-21 15:35:00     599  9gkfwRC73Uc     @VJj0Az  1994-08-23   \n",
              "...                   ...     ...          ...         ...         ...   \n",
              "2388  2016-06-11 05:17:17    2312    CJOHXgqKh  @ZomNVFWoF  1996-10-05   \n",
              "2389  2016-06-14 03:19:04     100      lJexGia  @BYQ14xmNd  1987-05-25   \n",
              "2390  2016-06-14 10:40:22     651   iynipG41EV  @nXTCcg7sV  1987-04-08   \n",
              "2391  2016-06-15 16:33:25    2390   hH9wrFLdTt    @KimUIQF  1991-03-02   \n",
              "2392  2016-06-16 05:39:34    2032  qN1yFPzBziE  @LjYnHRVjD  1997-07-22   \n",
              "\n",
              "     country  age age_group  \n",
              "0         BA   28     20-35  \n",
              "1         HU   52     51-65  \n",
              "2         IS   53     51-65  \n",
              "3         AM   57     51-65  \n",
              "4         CC   28     20-35  \n",
              "...      ...  ...       ...  \n",
              "2388      MT   26     20-35  \n",
              "2389      CR   35     20-35  \n",
              "2390      CI   36     36-50  \n",
              "2391      TK   32     20-35  \n",
              "2392      JP   25     20-35  \n",
              "\n",
              "[2393 rows x 8 columns]"
            ],
            "text/html": [
              "\n",
              "  <div id=\"df-0a4c8a49-2409-4b4c-ac59-94b919937322\">\n",
              "    <div class=\"colab-df-container\">\n",
              "      <div>\n",
              "<style scoped>\n",
              "    .dataframe tbody tr th:only-of-type {\n",
              "        vertical-align: middle;\n",
              "    }\n",
              "\n",
              "    .dataframe tbody tr th {\n",
              "        vertical-align: top;\n",
              "    }\n",
              "\n",
              "    .dataframe thead th {\n",
              "        text-align: right;\n",
              "    }\n",
              "</style>\n",
              "<table border=\"1\" class=\"dataframe\">\n",
              "  <thead>\n",
              "    <tr style=\"text-align: right;\">\n",
              "      <th></th>\n",
              "      <th>timestamp</th>\n",
              "      <th>userId</th>\n",
              "      <th>nick</th>\n",
              "      <th>twitter</th>\n",
              "      <th>dob</th>\n",
              "      <th>country</th>\n",
              "      <th>age</th>\n",
              "      <th>age_group</th>\n",
              "    </tr>\n",
              "  </thead>\n",
              "  <tbody>\n",
              "    <tr>\n",
              "      <th>0</th>\n",
              "      <td>2012-06-19 14:53:41</td>\n",
              "      <td>442</td>\n",
              "      <td>pcjIOBKW</td>\n",
              "      <td>@SZhyOHv</td>\n",
              "      <td>1994-07-20</td>\n",
              "      <td>BA</td>\n",
              "      <td>28</td>\n",
              "      <td>20-35</td>\n",
              "    </tr>\n",
              "    <tr>\n",
              "      <th>1</th>\n",
              "      <td>2012-06-19 19:29:01</td>\n",
              "      <td>949</td>\n",
              "      <td>vAOfUkf</td>\n",
              "      <td>@nkkNo</td>\n",
              "      <td>1971-04-22</td>\n",
              "      <td>HU</td>\n",
              "      <td>52</td>\n",
              "      <td>51-65</td>\n",
              "    </tr>\n",
              "    <tr>\n",
              "      <th>2</th>\n",
              "      <td>2012-06-20 19:34:59</td>\n",
              "      <td>1654</td>\n",
              "      <td>qOOXSQ</td>\n",
              "      <td>@SwOlw</td>\n",
              "      <td>1970-04-19</td>\n",
              "      <td>IS</td>\n",
              "      <td>53</td>\n",
              "      <td>51-65</td>\n",
              "    </tr>\n",
              "    <tr>\n",
              "      <th>3</th>\n",
              "      <td>2012-06-21 01:18:29</td>\n",
              "      <td>1586</td>\n",
              "      <td>px4gW51</td>\n",
              "      <td>@IrCHTnE</td>\n",
              "      <td>1965-11-23</td>\n",
              "      <td>AM</td>\n",
              "      <td>57</td>\n",
              "      <td>51-65</td>\n",
              "    </tr>\n",
              "    <tr>\n",
              "      <th>4</th>\n",
              "      <td>2012-06-21 15:35:00</td>\n",
              "      <td>599</td>\n",
              "      <td>9gkfwRC73Uc</td>\n",
              "      <td>@VJj0Az</td>\n",
              "      <td>1994-08-23</td>\n",
              "      <td>CC</td>\n",
              "      <td>28</td>\n",
              "      <td>20-35</td>\n",
              "    </tr>\n",
              "    <tr>\n",
              "      <th>...</th>\n",
              "      <td>...</td>\n",
              "      <td>...</td>\n",
              "      <td>...</td>\n",
              "      <td>...</td>\n",
              "      <td>...</td>\n",
              "      <td>...</td>\n",
              "      <td>...</td>\n",
              "      <td>...</td>\n",
              "    </tr>\n",
              "    <tr>\n",
              "      <th>2388</th>\n",
              "      <td>2016-06-11 05:17:17</td>\n",
              "      <td>2312</td>\n",
              "      <td>CJOHXgqKh</td>\n",
              "      <td>@ZomNVFWoF</td>\n",
              "      <td>1996-10-05</td>\n",
              "      <td>MT</td>\n",
              "      <td>26</td>\n",
              "      <td>20-35</td>\n",
              "    </tr>\n",
              "    <tr>\n",
              "      <th>2389</th>\n",
              "      <td>2016-06-14 03:19:04</td>\n",
              "      <td>100</td>\n",
              "      <td>lJexGia</td>\n",
              "      <td>@BYQ14xmNd</td>\n",
              "      <td>1987-05-25</td>\n",
              "      <td>CR</td>\n",
              "      <td>35</td>\n",
              "      <td>20-35</td>\n",
              "    </tr>\n",
              "    <tr>\n",
              "      <th>2390</th>\n",
              "      <td>2016-06-14 10:40:22</td>\n",
              "      <td>651</td>\n",
              "      <td>iynipG41EV</td>\n",
              "      <td>@nXTCcg7sV</td>\n",
              "      <td>1987-04-08</td>\n",
              "      <td>CI</td>\n",
              "      <td>36</td>\n",
              "      <td>36-50</td>\n",
              "    </tr>\n",
              "    <tr>\n",
              "      <th>2391</th>\n",
              "      <td>2016-06-15 16:33:25</td>\n",
              "      <td>2390</td>\n",
              "      <td>hH9wrFLdTt</td>\n",
              "      <td>@KimUIQF</td>\n",
              "      <td>1991-03-02</td>\n",
              "      <td>TK</td>\n",
              "      <td>32</td>\n",
              "      <td>20-35</td>\n",
              "    </tr>\n",
              "    <tr>\n",
              "      <th>2392</th>\n",
              "      <td>2016-06-16 05:39:34</td>\n",
              "      <td>2032</td>\n",
              "      <td>qN1yFPzBziE</td>\n",
              "      <td>@LjYnHRVjD</td>\n",
              "      <td>1997-07-22</td>\n",
              "      <td>JP</td>\n",
              "      <td>25</td>\n",
              "      <td>20-35</td>\n",
              "    </tr>\n",
              "  </tbody>\n",
              "</table>\n",
              "<p>2393 rows × 8 columns</p>\n",
              "</div>\n",
              "      <button class=\"colab-df-convert\" onclick=\"convertToInteractive('df-0a4c8a49-2409-4b4c-ac59-94b919937322')\"\n",
              "              title=\"Convert this dataframe to an interactive table.\"\n",
              "              style=\"display:none;\">\n",
              "        \n",
              "  <svg xmlns=\"http://www.w3.org/2000/svg\" height=\"24px\"viewBox=\"0 0 24 24\"\n",
              "       width=\"24px\">\n",
              "    <path d=\"M0 0h24v24H0V0z\" fill=\"none\"/>\n",
              "    <path d=\"M18.56 5.44l.94 2.06.94-2.06 2.06-.94-2.06-.94-.94-2.06-.94 2.06-2.06.94zm-11 1L8.5 8.5l.94-2.06 2.06-.94-2.06-.94L8.5 2.5l-.94 2.06-2.06.94zm10 10l.94 2.06.94-2.06 2.06-.94-2.06-.94-.94-2.06-.94 2.06-2.06.94z\"/><path d=\"M17.41 7.96l-1.37-1.37c-.4-.4-.92-.59-1.43-.59-.52 0-1.04.2-1.43.59L10.3 9.45l-7.72 7.72c-.78.78-.78 2.05 0 2.83L4 21.41c.39.39.9.59 1.41.59.51 0 1.02-.2 1.41-.59l7.78-7.78 2.81-2.81c.8-.78.8-2.07 0-2.86zM5.41 20L4 18.59l7.72-7.72 1.47 1.35L5.41 20z\"/>\n",
              "  </svg>\n",
              "      </button>\n",
              "      \n",
              "  <style>\n",
              "    .colab-df-container {\n",
              "      display:flex;\n",
              "      flex-wrap:wrap;\n",
              "      gap: 12px;\n",
              "    }\n",
              "\n",
              "    .colab-df-convert {\n",
              "      background-color: #E8F0FE;\n",
              "      border: none;\n",
              "      border-radius: 50%;\n",
              "      cursor: pointer;\n",
              "      display: none;\n",
              "      fill: #1967D2;\n",
              "      height: 32px;\n",
              "      padding: 0 0 0 0;\n",
              "      width: 32px;\n",
              "    }\n",
              "\n",
              "    .colab-df-convert:hover {\n",
              "      background-color: #E2EBFA;\n",
              "      box-shadow: 0px 1px 2px rgba(60, 64, 67, 0.3), 0px 1px 3px 1px rgba(60, 64, 67, 0.15);\n",
              "      fill: #174EA6;\n",
              "    }\n",
              "\n",
              "    [theme=dark] .colab-df-convert {\n",
              "      background-color: #3B4455;\n",
              "      fill: #D2E3FC;\n",
              "    }\n",
              "\n",
              "    [theme=dark] .colab-df-convert:hover {\n",
              "      background-color: #434B5C;\n",
              "      box-shadow: 0px 1px 3px 1px rgba(0, 0, 0, 0.15);\n",
              "      filter: drop-shadow(0px 1px 2px rgba(0, 0, 0, 0.3));\n",
              "      fill: #FFFFFF;\n",
              "    }\n",
              "  </style>\n",
              "\n",
              "      <script>\n",
              "        const buttonEl =\n",
              "          document.querySelector('#df-0a4c8a49-2409-4b4c-ac59-94b919937322 button.colab-df-convert');\n",
              "        buttonEl.style.display =\n",
              "          google.colab.kernel.accessAllowed ? 'block' : 'none';\n",
              "\n",
              "        async function convertToInteractive(key) {\n",
              "          const element = document.querySelector('#df-0a4c8a49-2409-4b4c-ac59-94b919937322');\n",
              "          const dataTable =\n",
              "            await google.colab.kernel.invokeFunction('convertToInteractive',\n",
              "                                                     [key], {});\n",
              "          if (!dataTable) return;\n",
              "\n",
              "          const docLinkHtml = 'Like what you see? Visit the ' +\n",
              "            '<a target=\"_blank\" href=https://colab.research.google.com/notebooks/data_table.ipynb>data table notebook</a>'\n",
              "            + ' to learn more about interactive tables.';\n",
              "          element.innerHTML = '';\n",
              "          dataTable['output_type'] = 'display_data';\n",
              "          await google.colab.output.renderOutput(dataTable, element);\n",
              "          const docLink = document.createElement('div');\n",
              "          docLink.innerHTML = docLinkHtml;\n",
              "          element.appendChild(docLink);\n",
              "        }\n",
              "      </script>\n",
              "    </div>\n",
              "  </div>\n",
              "  "
            ]
          },
          "metadata": {},
          "execution_count": 21
        }
      ]
    },
    {
      "cell_type": "code",
      "source": [
        "from pyspark.sql import Window\n",
        "from pyspark.sql.functions import rank,sum,col\n",
        "import pyspark.sql.functions as f\n",
        "\n",
        "\n",
        "window = Window.rowsBetween(Window.unboundedPreceding,Window.unboundedFollowing)\n",
        "\n",
        "w = Window.partitionBy('x')\n",
        "\n",
        "users_with_age_df_grouped = users_with_age_df.groupBy('age_group').count()\\\n",
        "        .select('age_group', f.col('count').alias('age_group_count'))\\\n",
        "        .sort(f.asc(\"age_group\")) \n",
        "\n",
        "\n",
        "users_with_age_df_grouped.show()"
      ],
      "metadata": {
        "colab": {
          "base_uri": "https://localhost:8080/"
        },
        "id": "xXHSMuHrB0pe",
        "outputId": "71e2ef3e-7e9b-40ec-c1fb-58b4c5425e01"
      },
      "execution_count": null,
      "outputs": [
        {
          "output_type": "stream",
          "name": "stdout",
          "text": [
            "+---------+---------------+\n",
            "|age_group|age_group_count|\n",
            "+---------+---------------+\n",
            "|    20-29|            310|\n",
            "|    30-39|            602|\n",
            "|    40-49|            552|\n",
            "|    50-59|            432|\n",
            "|    60-70|            325|\n",
            "|    70-79|            172|\n",
            "+---------+---------------+\n",
            "\n"
          ]
        }
      ]
    },
    {
      "cell_type": "code",
      "source": [
        "team_df = spark.read.csv(\"/content/flamingo-data/team.csv\", header=True, inferSchema=True)\n",
        "buyclicks_df = spark.read.csv(\"/content/flamingo-data/buy-clicks.csv\", header=True, inferSchema=True)\n",
        "\n",
        "\n",
        "team_buying_df = team_df.alias(\"teamdf\").join(buyclicks_df.alias(\"buyclicks\"),\\\n",
        "                            f.col(\"teamdf.teamId\") == f.col(\"buyclicks.team\"),\"inner\")\n",
        "\n",
        "team_buying_df_grouped = team_buying_df.groupBy(\"teamId\").sum(\"price\", \"strength\")\\\n",
        "         .select('teamId', f.col('sum(price)').alias('total_spending'), f.col('sum(strength)').alias('total_strength'))\\\n",
        "         .orderBy(\"sum(price)\")\n"
      ],
      "metadata": {
        "id": "OCVyMkuAb237"
      },
      "execution_count": null,
      "outputs": []
    },
    {
      "cell_type": "code",
      "execution_count": null,
      "metadata": {
        "id": "lNyAYD6h5gjt",
        "colab": {
          "base_uri": "https://localhost:8080/",
          "height": 729
        },
        "outputId": "03fba42a-b037-49aa-f596-f0baf7765d37"
      },
      "outputs": [
        {
          "output_type": "display_data",
          "data": {
            "text/plain": [
              "<Figure size 1280x800 with 1 Axes>"
            ],
            "image/png": "[encoded data removed]"
          },
          "metadata": {}
        }
      ],
      "source": [
        "\n",
        "# users_with_age_df.toPandas().hist(column = \"age\", bins = 10)\n",
        "import matplotlib.pyplot as plt\n",
        "import seaborn as sns\n",
        "\n",
        "import random\n",
        "\n",
        "# Import Data\n",
        "df_raw = users_with_age_df_grouped\n",
        "\n",
        "\n",
        "\n",
        "# Prepare Data\n",
        "df = users_with_age_df_grouped.toPandas()\n",
        "n = users_with_age_df_grouped[\"age_group\"].size+1\n",
        "\n",
        "\n",
        "all_colors = list(plt.cm.colors.cnames.keys())\n",
        "random.seed(100)\n",
        "c = random.choices(all_colors, k=7)\n",
        "\n",
        "# Plot Bars\n",
        "plt.figure(figsize=(16,10), dpi= 80)\n",
        "ax = sns.barplot(x=\"age_group\", y=\"age_group_count\", data=df,\n",
        "\n",
        "                 palette=\"vlag\")\n",
        "\n",
        "for i, val in enumerate(df['age_group_count'].values):\n",
        "    plt.text(i, val, float(val), horizontalalignment='center', verticalalignment='bottom', fontdict={'fontweight':500, 'size':12})\n",
        "\n",
        "# Decoration\n",
        "plt.gca().set_xticklabels(df['age_group'], rotation=60, horizontalalignment= 'right')\n",
        "plt.title(\"Age Distribution of Players\", fontsize=22)\n",
        "plt.ylabel('Player Distribution')\n",
        "plt.xlabel('Age Groups')\n",
        "plt.show()\n",
        "\n",
        "\n",
        "\n",
        "\n"
      ]
    },
    {
      "cell_type": "code",
      "execution_count": null,
      "metadata": {
        "id": "Xyo4nawm7U9T",
        "colab": {
          "base_uri": "https://localhost:8080/"
        },
        "outputId": "e56df6c5-8534-4470-ebd4-d28e2fa50cb6"
      },
      "outputs": [
        {
          "output_type": "stream",
          "name": "stdout",
          "text": [
            "+-------+-----+\n",
            "|country|count|\n",
            "+-------+-----+\n",
            "|     UA|    9|\n",
            "|     SD|    9|\n",
            "|     EE|    9|\n",
            "|     MR|    9|\n",
            "|     CM|    9|\n",
            "|     AZ|    9|\n",
            "+-------+-----+\n",
            "only showing top 6 rows\n",
            "\n"
          ]
        }
      ],
      "source": [
        "users_with_age_df.groupBy(\"country\").count().orderBy(\"count\").show(6)"
      ]
    },
    {
      "cell_type": "code",
      "source": [
        "!pip install scipy"
      ],
      "metadata": {
        "colab": {
          "base_uri": "https://localhost:8080/"
        },
        "id": "so_8XWzsUwVF",
        "outputId": "1cd24599-3204-457b-abce-e38e605cc66d"
      },
      "execution_count": null,
      "outputs": [
        {
          "output_type": "stream",
          "name": "stdout",
          "text": [
            "Looking in indexes: https://pypi.org/simple, https://us-python.pkg.dev/colab-wheels/public/simple/\n",
            "Requirement already satisfied: scipy in /usr/local/lib/python3.10/dist-packages (1.10.1)\n",
            "Requirement already satisfied: numpy<1.27.0,>=1.19.5 in /usr/local/lib/python3.10/dist-packages (from scipy) (1.22.4)\n"
          ]
        }
      ]
    },
    {
      "cell_type": "code",
      "source": [
        "# df = team_buying_df_grouped.toPandas() \n",
        "\n",
        "df"
      ],
      "metadata": {
        "colab": {
          "base_uri": "https://localhost:8080/",
          "height": 238
        },
        "id": "00jrlrS0YGnj",
        "outputId": "fffb03a6-0b39-4555-9aa3-d372012f89bd"
      },
      "execution_count": null,
      "outputs": [
        {
          "output_type": "execute_result",
          "data": {
            "text/plain": [
              "  age_group  age_group_count\n",
              "0     20-29              310\n",
              "1     30-39              602\n",
              "2     40-49              552\n",
              "3     50-59              432\n",
              "4     60-70              325\n",
              "5     70-79              172"
            ],
            "text/html": [
              "\n",
              "  <div id=\"df-b8525f30-cfe5-478c-95d2-29e2d42083ee\">\n",
              "    <div class=\"colab-df-container\">\n",
              "      <div>\n",
              "<style scoped>\n",
              "    .dataframe tbody tr th:only-of-type {\n",
              "        vertical-align: middle;\n",
              "    }\n",
              "\n",
              "    .dataframe tbody tr th {\n",
              "        vertical-align: top;\n",
              "    }\n",
              "\n",
              "    .dataframe thead th {\n",
              "        text-align: right;\n",
              "    }\n",
              "</style>\n",
              "<table border=\"1\" class=\"dataframe\">\n",
              "  <thead>\n",
              "    <tr style=\"text-align: right;\">\n",
              "      <th></th>\n",
              "      <th>age_group</th>\n",
              "      <th>age_group_count</th>\n",
              "    </tr>\n",
              "  </thead>\n",
              "  <tbody>\n",
              "    <tr>\n",
              "      <th>0</th>\n",
              "      <td>20-29</td>\n",
              "      <td>310</td>\n",
              "    </tr>\n",
              "    <tr>\n",
              "      <th>1</th>\n",
              "      <td>30-39</td>\n",
              "      <td>602</td>\n",
              "    </tr>\n",
              "    <tr>\n",
              "      <th>2</th>\n",
              "      <td>40-49</td>\n",
              "      <td>552</td>\n",
              "    </tr>\n",
              "    <tr>\n",
              "      <th>3</th>\n",
              "      <td>50-59</td>\n",
              "      <td>432</td>\n",
              "    </tr>\n",
              "    <tr>\n",
              "      <th>4</th>\n",
              "      <td>60-70</td>\n",
              "      <td>325</td>\n",
              "    </tr>\n",
              "    <tr>\n",
              "      <th>5</th>\n",
              "      <td>70-79</td>\n",
              "      <td>172</td>\n",
              "    </tr>\n",
              "  </tbody>\n",
              "</table>\n",
              "</div>\n",
              "      <button class=\"colab-df-convert\" onclick=\"convertToInteractive('df-b8525f30-cfe5-478c-95d2-29e2d42083ee')\"\n",
              "              title=\"Convert this dataframe to an interactive table.\"\n",
              "              style=\"display:none;\">\n",
              "        \n",
              "  <svg xmlns=\"http://www.w3.org/2000/svg\" height=\"24px\"viewBox=\"0 0 24 24\"\n",
              "       width=\"24px\">\n",
              "    <path d=\"M0 0h24v24H0V0z\" fill=\"none\"/>\n",
              "    <path d=\"M18.56 5.44l.94 2.06.94-2.06 2.06-.94-2.06-.94-.94-2.06-.94 2.06-2.06.94zm-11 1L8.5 8.5l.94-2.06 2.06-.94-2.06-.94L8.5 2.5l-.94 2.06-2.06.94zm10 10l.94 2.06.94-2.06 2.06-.94-2.06-.94-.94-2.06-.94 2.06-2.06.94z\"/><path d=\"M17.41 7.96l-1.37-1.37c-.4-.4-.92-.59-1.43-.59-.52 0-1.04.2-1.43.59L10.3 9.45l-7.72 7.72c-.78.78-.78 2.05 0 2.83L4 21.41c.39.39.9.59 1.41.59.51 0 1.02-.2 1.41-.59l7.78-7.78 2.81-2.81c.8-.78.8-2.07 0-2.86zM5.41 20L4 18.59l7.72-7.72 1.47 1.35L5.41 20z\"/>\n",
              "  </svg>\n",
              "      </button>\n",
              "      \n",
              "  <style>\n",
              "    .colab-df-container {\n",
              "      display:flex;\n",
              "      flex-wrap:wrap;\n",
              "      gap: 12px;\n",
              "    }\n",
              "\n",
              "    .colab-df-convert {\n",
              "      background-color: #E8F0FE;\n",
              "      border: none;\n",
              "      border-radius: 50%;\n",
              "      cursor: pointer;\n",
              "      display: none;\n",
              "      fill: #1967D2;\n",
              "      height: 32px;\n",
              "      padding: 0 0 0 0;\n",
              "      width: 32px;\n",
              "    }\n",
              "\n",
              "    .colab-df-convert:hover {\n",
              "      background-color: #E2EBFA;\n",
              "      box-shadow: 0px 1px 2px rgba(60, 64, 67, 0.3), 0px 1px 3px 1px rgba(60, 64, 67, 0.15);\n",
              "      fill: #174EA6;\n",
              "    }\n",
              "\n",
              "    [theme=dark] .colab-df-convert {\n",
              "      background-color: #3B4455;\n",
              "      fill: #D2E3FC;\n",
              "    }\n",
              "\n",
              "    [theme=dark] .colab-df-convert:hover {\n",
              "      background-color: #434B5C;\n",
              "      box-shadow: 0px 1px 3px 1px rgba(0, 0, 0, 0.15);\n",
              "      filter: drop-shadow(0px 1px 2px rgba(0, 0, 0, 0.3));\n",
              "      fill: #FFFFFF;\n",
              "    }\n",
              "  </style>\n",
              "\n",
              "      <script>\n",
              "        const buttonEl =\n",
              "          document.querySelector('#df-b8525f30-cfe5-478c-95d2-29e2d42083ee button.colab-df-convert');\n",
              "        buttonEl.style.display =\n",
              "          google.colab.kernel.accessAllowed ? 'block' : 'none';\n",
              "\n",
              "        async function convertToInteractive(key) {\n",
              "          const element = document.querySelector('#df-b8525f30-cfe5-478c-95d2-29e2d42083ee');\n",
              "          const dataTable =\n",
              "            await google.colab.kernel.invokeFunction('convertToInteractive',\n",
              "                                                     [key], {});\n",
              "          if (!dataTable) return;\n",
              "\n",
              "          const docLinkHtml = 'Like what you see? Visit the ' +\n",
              "            '<a target=\"_blank\" href=https://colab.research.google.com/notebooks/data_table.ipynb>data table notebook</a>'\n",
              "            + ' to learn more about interactive tables.';\n",
              "          element.innerHTML = '';\n",
              "          dataTable['output_type'] = 'display_data';\n",
              "          await google.colab.output.renderOutput(dataTable, element);\n",
              "          const docLink = document.createElement('div');\n",
              "          docLink.innerHTML = docLinkHtml;\n",
              "          element.appendChild(docLink);\n",
              "        }\n",
              "      </script>\n",
              "    </div>\n",
              "  </div>\n",
              "  "
            ]
          },
          "metadata": {},
          "execution_count": 27
        }
      ]
    },
    {
      "cell_type": "code",
      "execution_count": null,
      "metadata": {
        "id": "u_UkE_ET9J7f",
        "colab": {
          "base_uri": "https://localhost:8080/"
        },
        "outputId": "d590c9b3-82c0-44db-f214-90bda92703b4"
      },
      "outputs": [
        {
          "output_type": "stream",
          "name": "stdout",
          "text": [
            "Looking in indexes: https://pypi.org/simple, https://us-python.pkg.dev/colab-wheels/public/simple/\n",
            "Collecting pycountry_convert\n",
            "  Downloading pycountry_convert-0.7.2-py3-none-any.whl (13 kB)\n",
            "Collecting pprintpp>=0.3.0 (from pycountry_convert)\n",
            "  Downloading pprintpp-0.4.0-py2.py3-none-any.whl (16 kB)\n",
            "Collecting pycountry>=16.11.27.1 (from pycountry_convert)\n",
            "  Downloading pycountry-22.3.5.tar.gz (10.1 MB)\n",
            "\u001b[2K     \u001b[90m━━━━━━━━━━━━━━━━━━━━━━━━━━━━━━━━━━━━━━━━\u001b[0m \u001b[32m10.1/10.1 MB\u001b[0m \u001b[31m44.5 MB/s\u001b[0m eta \u001b[36m0:00:00\u001b[0m\n",
            "\u001b[?25h  Installing build dependencies ... \u001b[?25l\u001b[?25hdone\n",
            "  Getting requirements to build wheel ... \u001b[?25l\u001b[?25hdone\n",
            "  Preparing metadata (pyproject.toml) ... \u001b[?25l\u001b[?25hdone\n",
            "Requirement already satisfied: pytest>=3.4.0 in /usr/local/lib/python3.10/dist-packages (from pycountry_convert) (7.2.2)\n",
            "Collecting pytest-mock>=1.6.3 (from pycountry_convert)\n",
            "  Downloading pytest_mock-3.10.0-py3-none-any.whl (9.3 kB)\n",
            "Collecting pytest-cov>=2.5.1 (from pycountry_convert)\n",
            "  Downloading pytest_cov-4.0.0-py3-none-any.whl (21 kB)\n",
            "Collecting repoze.lru>=0.7 (from pycountry_convert)\n",
            "  Downloading repoze.lru-0.7-py3-none-any.whl (10 kB)\n",
            "Requirement already satisfied: wheel>=0.30.0 in /usr/local/lib/python3.10/dist-packages (from pycountry_convert) (0.40.0)\n",
            "Requirement already satisfied: setuptools in /usr/local/lib/python3.10/dist-packages (from pycountry>=16.11.27.1->pycountry_convert) (67.7.2)\n",
            "Requirement already satisfied: attrs>=19.2.0 in /usr/local/lib/python3.10/dist-packages (from pytest>=3.4.0->pycountry_convert) (23.1.0)\n",
            "Requirement already satisfied: iniconfig in /usr/local/lib/python3.10/dist-packages (from pytest>=3.4.0->pycountry_convert) (2.0.0)\n",
            "Requirement already satisfied: packaging in /usr/local/lib/python3.10/dist-packages (from pytest>=3.4.0->pycountry_convert) (23.1)\n",
            "Requirement already satisfied: pluggy<2.0,>=0.12 in /usr/local/lib/python3.10/dist-packages (from pytest>=3.4.0->pycountry_convert) (1.0.0)\n",
            "Requirement already satisfied: exceptiongroup>=1.0.0rc8 in /usr/local/lib/python3.10/dist-packages (from pytest>=3.4.0->pycountry_convert) (1.1.1)\n",
            "Requirement already satisfied: tomli>=1.0.0 in /usr/local/lib/python3.10/dist-packages (from pytest>=3.4.0->pycountry_convert) (2.0.1)\n",
            "Collecting coverage[toml]>=5.2.1 (from pytest-cov>=2.5.1->pycountry_convert)\n",
            "  Downloading coverage-7.2.5-cp310-cp310-manylinux_2_5_x86_64.manylinux1_x86_64.manylinux_2_17_x86_64.manylinux2014_x86_64.whl (228 kB)\n",
            "\u001b[2K     \u001b[90m━━━━━━━━━━━━━━━━━━━━━━━━━━━━━━━━━━━━━━\u001b[0m \u001b[32m228.2/228.2 kB\u001b[0m \u001b[31m11.0 MB/s\u001b[0m eta \u001b[36m0:00:00\u001b[0m\n",
            "\u001b[?25hBuilding wheels for collected packages: pycountry\n",
            "  Building wheel for pycountry (pyproject.toml) ... \u001b[?25l\u001b[?25hdone\n",
            "  Created wheel for pycountry: filename=pycountry-22.3.5-py2.py3-none-any.whl size=10681832 sha256=d41b07c79ea13cab337486d06dea7bef5c87d349e7dee3958cf1012478aa40c5\n",
            "  Stored in directory: /root/.cache/pip/wheels/03/57/cc/290c5252ec97a6d78d36479a3c5e5ecc76318afcb241ad9dbe\n",
            "Successfully built pycountry\n",
            "Installing collected packages: repoze.lru, pprintpp, pycountry, coverage, pytest-mock, pytest-cov, pycountry_convert\n",
            "Successfully installed coverage-7.2.5 pprintpp-0.4.0 pycountry-22.3.5 pycountry_convert-0.7.2 pytest-cov-4.0.0 pytest-mock-3.10.0 repoze.lru-0.7\n"
          ]
        }
      ],
      "source": [
        "!pip install pycountry_convert "
      ]
    },
    {
      "cell_type": "code",
      "execution_count": null,
      "metadata": {
        "id": "OP8d24wo7j5e"
      },
      "outputs": [],
      "source": [
        "############# TEAM SPENDING WITH AGE GROUP\n",
        "team_user_buying_df = team_buying_df.alias(\"team_buying_df\").join(users_df.alias(\"users_df\"),\\\n",
        "                           f.col(\"team_buying_df.userId\") == f.col(\"users_df.userId\"),\"inner\")"
      ]
    },
    {
      "cell_type": "code",
      "execution_count": null,
      "metadata": {
        "id": "wjWaSFGp9UVv",
        "colab": {
          "base_uri": "https://localhost:8080/"
        },
        "outputId": "0c199e6f-e365-4e0d-a29e-f1c1a4dea125"
      },
      "outputs": [
        {
          "output_type": "stream",
          "name": "stdout",
          "text": [
            "+------+-----------+-------------------+-------------------+---------------+------------+-------------------+----+-------------+----+------+-----+-----+-------------------+------+----------+----------+----------+-------+-------------+\n",
            "|teamId|       name|   teamCreationTime|        teamEndTime|       strength|currentLevel|          timestamp|txId|userSessionId|team|userId|buyId|price|          timestamp|userId|      nick|   twitter|       dob|country|    continent|\n",
            "+------+-----------+-------------------+-------------------+---------------+------------+-------------------+----+-------------+----+------+-----+-----+-------------------+------+----------+----------+----------+-------+-------------+\n",
            "|     9|  pDG2bAh8T|2016-06-13 17:39:55|9999-12-31 23:59:59| 0.952175553216|           1|2016-05-26 15:36:54|6004|         5820|   9|  1300|    2|  3.0|2013-12-01 09:30:47|  1300|   2hh0NNM|  @RY1URF2|1998-05-06|     GR|       Europe|\n",
            "|    35|b3PqpjmZ6TT|2016-06-14 02:08:07|9999-12-31 23:59:59| 0.836061494696|           1|2016-05-26 15:36:54|6005|         5775|  35|   868|    4| 10.0|2016-06-02 03:34:07|   868|    aS4OMV| @vVu0R8P1|1984-06-01|     CX|         Asia|\n",
            "|    97|     LjcMqQ|2016-06-14 09:53:46|9999-12-31 23:59:59| 0.340788463107|           1|2016-05-26 15:36:54|6006|         5679|  97|   819|    5| 20.0|2013-04-20 12:40:52|   819|  xtzD469v|  @RempL28|1979-11-02|     AR|South America|\n",
            "|    18|  VpF5Lrtz7|2016-06-13 12:23:36|9999-12-31 23:59:59| 0.885469892018|           1|2016-05-26 16:36:54|6067|         5665|  18|   121|    2|  3.0|2015-07-19 00:29:29|   121|  gzrwXVUd|  @4MNadvF|1964-10-04|     UY|South America|\n",
            "|    11|R5SYibpiHpE|2016-06-15 05:38:15|9999-12-31 23:59:59|0.0495931577569|           1|2016-05-26 17:06:54|6093|         5709|  11|  2222|    5| 20.0|2016-04-30 16:05:51|  2222|  hYk0fs5a|  @9IdVVDV|1974-03-03|     BF|       Africa|\n",
            "|    77|   U96mANQ8|2016-06-16 10:00:06|9999-12-31 23:59:59| 0.793839493486|           1|2016-05-26 17:06:54|6094|         5798|  77|  1304|    5| 20.0|2013-08-23 19:32:47|  1304|   xv4Csoi|@6WZbE0bme|1996-04-26|     AQ|         None|\n",
            "|     9|  pDG2bAh8T|2016-06-13 17:39:55|9999-12-31 23:59:59| 0.952175553216|           1|2016-05-26 18:06:54|6155|         5920|   9|  1027|    5| 20.0|2014-01-31 04:55:04|  1027|  BtEYpQcB|  @gU6A6AB|1956-07-04|     GD|North America|\n",
            "|    35|b3PqpjmZ6TT|2016-06-14 02:08:07|9999-12-31 23:59:59| 0.836061494696|           1|2016-05-26 18:06:54|6156|         5697|  35|  2199|    2|  3.0|2014-08-26 05:19:22|  2199|    JBPZZb|@u6yOOu0vJ|1989-02-24|     HR|       Europe|\n",
            "|    64|gjaVPd9DE2P|2016-06-15 03:44:35|9999-12-31 23:59:59| 0.406089913506|           1|2016-05-26 18:36:54|6183|         5893|  64|  1544|    5| 20.0|2015-05-28 20:57:48|  1544|   YiTBCKk|  @7X7lBXy|1990-09-08|     AI|North America|\n",
            "|    35|b3PqpjmZ6TT|2016-06-14 02:08:07|9999-12-31 23:59:59| 0.836061494696|           1|2016-05-26 18:36:54|6184|         5697|  35|  2199|    1|  2.0|2014-08-26 05:19:22|  2199|    JBPZZb|@u6yOOu0vJ|1989-02-24|     HR|       Europe|\n",
            "|    13|   cz8t6Wli|2016-06-16 08:54:54|9999-12-31 23:59:59| 0.885665267397|           1|2016-05-26 19:36:54|6243|         5659|  13|  1623|    4| 10.0|2013-11-30 20:39:19|  1623|    L6fCuA|    @EIqID|1947-11-02|     SV|North America|\n",
            "|     9|  pDG2bAh8T|2016-06-13 17:39:55|9999-12-31 23:59:59| 0.952175553216|           1|2016-05-26 19:36:54|6244|         5920|   9|  1027|    3|  5.0|2014-01-31 04:55:04|  1027|  BtEYpQcB|  @gU6A6AB|1956-07-04|     GD|North America|\n",
            "|    27|    87oPQXq|2016-06-14 16:24:14|9999-12-31 23:59:59| 0.141376627543|           1|2016-05-26 20:06:54|6269|         5785|  27|  1065|    5| 20.0|2012-07-20 10:20:22|  1065|    hOs5Cp|  @DFkyp5o|1992-07-26|     SM|       Europe|\n",
            "|    63|    eJWo4Fd|2016-06-15 22:52:38|9999-12-31 23:59:59| 0.659738471721|           1|2016-05-26 20:06:54|6270|         5661|  63|    83|    3|  5.0|2015-06-29 09:10:33|    83|yswe05OJem|    @2TIpG|1987-09-04|     GF|South America|\n",
            "|     9|  pDG2bAh8T|2016-06-13 17:39:55|9999-12-31 23:59:59| 0.952175553216|           1|2016-05-26 20:06:54|6271|         5706|   9|  1652|    0|  1.0|2014-03-30 02:59:53|  1652| lwGwd4ZVy|   @D6QUot|1960-07-11|     UG|       Africa|\n",
            "|     2|ef8SlZSnjqq|2016-06-14 07:23:05|9999-12-31 23:59:59| 0.146636553695|           1|2016-05-26 20:36:54|6292|         5921|   2|   518|    0|  1.0|2013-06-08 15:58:33|   518|   dui0qxE|  @7PTvD7P|1993-08-11|     ZA|       Africa|\n",
            "|    57|     zu8iuz|2016-06-15 17:50:52|9999-12-31 23:59:59|0.0859900712952|           1|2016-05-26 21:06:54|6327|         5860|  57|  2221|    5| 20.0|2016-04-22 20:59:23|  2221|   C4PhXaQ|   @htgJEK|1984-10-30|     BE|       Europe|\n",
            "|    32|    lFjyoVh|2016-06-13 14:51:16|9999-12-31 23:59:59| 0.276723269022|           1|2016-05-26 22:06:54|6394|         6088|  32|  1815|    2|  3.0|2013-01-09 09:30:33|  1815| j8d2xUcpY| @E2hJQ5CK|1988-11-28|     DE|       Europe|\n",
            "|    35|b3PqpjmZ6TT|2016-06-14 02:08:07|9999-12-31 23:59:59| 0.836061494696|           1|2016-05-26 22:06:54|6395|         5880|  35|  2146|    1|  2.0|2015-01-20 08:10:56|  2146|   F2u9T9T|@C0nXs4GX0|1967-06-14|     SV|North America|\n",
            "|    77|   U96mANQ8|2016-06-16 10:00:06|9999-12-31 23:59:59| 0.793839493486|           1|2016-05-26 22:36:54|6411|         6230|  77|  1457|    0|  1.0|2016-01-06 06:49:52|  1457|    AV186d|@lZ8bJ2za2|1960-04-10|     CC|         Asia|\n",
            "+------+-----------+-------------------+-------------------+---------------+------------+-------------------+----+-------------+----+------+-----+-----+-------------------+------+----------+----------+----------+-------+-------------+\n",
            "only showing top 20 rows\n",
            "\n"
          ]
        }
      ],
      "source": [
        "import pycountry_convert as pc\n",
        "from pyspark.sql.types import StringType\n",
        "\n",
        "\n",
        "\n",
        "def country_to_continent(country_name):\n",
        "  try:\n",
        "    country_continent_code = pc.country_alpha2_to_continent_code(country_name)\n",
        "    country_continent_name = pc.convert_continent_code_to_continent_name(country_continent_code)\n",
        "    return country_continent_name\n",
        "  except:\n",
        "    return \"None\"\n",
        "\n",
        "\n",
        "\n",
        "\n",
        "\n",
        "udf_country_to_continent = f.udf(country_to_continent , StringType())\n",
        "team_user_buying_df = team_user_buying_df.withColumn(\"continent\", udf_country_to_continent(f.col(\"country\") ))\n",
        "\n",
        "\n",
        "\n",
        "team_user_buying_df.show()"
      ]
    },
    {
      "cell_type": "code",
      "execution_count": null,
      "metadata": {
        "id": "CGp8dBV9JK_Q",
        "colab": {
          "base_uri": "https://localhost:8080/"
        },
        "outputId": "b94b95f7-813d-400e-aa18-f8a4fb63705c"
      },
      "outputs": [
        {
          "output_type": "stream",
          "name": "stdout",
          "text": [
            "+-------------+--------------+------------------+---------+---------+-------+------------------+\n",
            "|    continent|spending_count|         price_avg|price_min|price_max|  total|           Percent|\n",
            "+-------------+--------------+------------------+---------+---------+-------+------------------+\n",
            "|         None|         684.0|              11.4|      1.0|     20.0|16576.0| 4.126447876447877|\n",
            "|       Europe|        2974.0| 7.548223350253807|      1.0|     20.0|16576.0|17.941602316602317|\n",
            "|       Africa|        3889.0| 7.282771535580524|      1.0|     20.0|16576.0|23.461631274131275|\n",
            "|North America|        2726.0| 7.593314763231198|      1.0|     20.0|16576.0|16.445463320463322|\n",
            "|   Antarctica|          51.0|             2.125|      1.0|     10.0|16576.0|0.3076737451737452|\n",
            "|South America|        1416.0|10.114285714285714|      1.0|     20.0|16576.0| 8.542471042471043|\n",
            "|      Oceania|        1410.0| 5.802469135802469|      1.0|     20.0|16576.0|  8.50627413127413|\n",
            "|         Asia|        3426.0| 6.704500978473582|      1.0|     20.0|16576.0|20.668436293436294|\n",
            "+-------------+--------------+------------------+---------+---------+-------+------------------+\n",
            "\n"
          ]
        }
      ],
      "source": [
        "from pyspark.sql import Window\n",
        "from pyspark.sql.functions import rank,sum,col\n",
        "\n",
        "\n",
        "window = Window.rowsBetween(Window.unboundedPreceding,Window.unboundedFollowing)\n",
        "\n",
        "team_user_buying_df_stat = team_user_buying_df.groupby(\"continent\").agg(f.sum('price').alias('spending_count'),\n",
        "                                        f.mean('price').alias('price_avg'),\n",
        "                                        f.min('price').alias('price_min'),\n",
        "                                        f.max('price').alias('price_max')).\\\n",
        "   withColumn('total',sum(f.col('spending_count')).over(window)).\\\n",
        "   withColumn('Percent',f.col('spending_count')*100/f.col('total'))\n",
        "\n",
        "team_user_buying_df_stat.show()"
      ]
    },
    {
      "cell_type": "code",
      "source": [
        "!pip install squarify \n"
      ],
      "metadata": {
        "colab": {
          "base_uri": "https://localhost:8080/"
        },
        "id": "Nzkuyrdrtjl0",
        "outputId": "7052f870-d6a0-4ecb-e6ec-2b84ec277a19"
      },
      "execution_count": null,
      "outputs": [
        {
          "output_type": "stream",
          "name": "stdout",
          "text": [
            "Looking in indexes: https://pypi.org/simple, https://us-python.pkg.dev/colab-wheels/public/simple/\n",
            "Collecting squarify\n",
            "  Downloading squarify-0.4.3-py3-none-any.whl (4.3 kB)\n",
            "Installing collected packages: squarify\n",
            "Successfully installed squarify-0.4.3\n"
          ]
        }
      ]
    },
    {
      "cell_type": "code",
      "source": [
        "!pip install pywaffle"
      ],
      "metadata": {
        "colab": {
          "base_uri": "https://localhost:8080/"
        },
        "id": "8CgnD3m34Gue",
        "outputId": "a8311dc1-5bb8-4c8a-8302-93225ffd83a8"
      },
      "execution_count": null,
      "outputs": [
        {
          "output_type": "stream",
          "name": "stdout",
          "text": [
            "Looking in indexes: https://pypi.org/simple, https://us-python.pkg.dev/colab-wheels/public/simple/\n",
            "Collecting pywaffle\n",
            "  Downloading pywaffle-1.1.0-py2.py3-none-any.whl (30 kB)\n",
            "Collecting fontawesomefree (from pywaffle)\n",
            "  Downloading fontawesomefree-6.4.0-py3-none-any.whl (25.2 MB)\n",
            "\u001b[2K     \u001b[90m━━━━━━━━━━━━━━━━━━━━━━━━━━━━━━━━━━━━━━━━\u001b[0m \u001b[32m25.2/25.2 MB\u001b[0m \u001b[31m45.2 MB/s\u001b[0m eta \u001b[36m0:00:00\u001b[0m\n",
            "\u001b[?25hRequirement already satisfied: matplotlib in /usr/local/lib/python3.10/dist-packages (from pywaffle) (3.7.1)\n",
            "Requirement already satisfied: contourpy>=1.0.1 in /usr/local/lib/python3.10/dist-packages (from matplotlib->pywaffle) (1.0.7)\n",
            "Requirement already satisfied: cycler>=0.10 in /usr/local/lib/python3.10/dist-packages (from matplotlib->pywaffle) (0.11.0)\n",
            "Requirement already satisfied: fonttools>=4.22.0 in /usr/local/lib/python3.10/dist-packages (from matplotlib->pywaffle) (4.39.3)\n",
            "Requirement already satisfied: kiwisolver>=1.0.1 in /usr/local/lib/python3.10/dist-packages (from matplotlib->pywaffle) (1.4.4)\n",
            "Requirement already satisfied: numpy>=1.20 in /usr/local/lib/python3.10/dist-packages (from matplotlib->pywaffle) (1.22.4)\n",
            "Requirement already satisfied: packaging>=20.0 in /usr/local/lib/python3.10/dist-packages (from matplotlib->pywaffle) (23.1)\n",
            "Requirement already satisfied: pillow>=6.2.0 in /usr/local/lib/python3.10/dist-packages (from matplotlib->pywaffle) (8.4.0)\n",
            "Requirement already satisfied: pyparsing>=2.3.1 in /usr/local/lib/python3.10/dist-packages (from matplotlib->pywaffle) (3.0.9)\n",
            "Requirement already satisfied: python-dateutil>=2.7 in /usr/local/lib/python3.10/dist-packages (from matplotlib->pywaffle) (2.8.2)\n",
            "Requirement already satisfied: six>=1.5 in /usr/local/lib/python3.10/dist-packages (from python-dateutil>=2.7->matplotlib->pywaffle) (1.16.0)\n",
            "Installing collected packages: fontawesomefree, pywaffle\n",
            "Successfully installed fontawesomefree-6.4.0 pywaffle-1.1.0\n"
          ]
        }
      ]
    },
    {
      "cell_type": "code",
      "source": [
        "import matplotlib.pyplot as plt\n",
        "import squarify    # pip install squarify (algorithm for treemap)\n",
        "import pandas as pd\n",
        "\n",
        "\n",
        "# Get dataframe continent & Percent columns as list\n",
        "labels = list(team_user_buying_df_stat.toPandas()[\"continent\"])\n",
        "sizes =  list(team_user_buying_df_stat.toPandas()[\"Percent\"])\n",
        "\n",
        "perc = [f'{i/team_user_buying_df_stat.toPandas()[\"Percent\"].sum()*100:5.2f}%' for i in team_user_buying_df_stat.toPandas()[\"Percent\"]]\n",
        "lbl = [f'{el[0]} = {el[1]}' for el in zip(team_user_buying_df_stat.toPandas()[\"continent\"], perc)]\n",
        "# Define your custom color palette\n",
        "custom_colors = ['red', 'green', 'yellow', 'orange', 'purple','grey','cyan','magenta']\n",
        "\n",
        "# Select colors from the custom palette\n",
        "colors = custom_colors[:len(labels)]\n",
        "# select colors\n",
        "#colors = [plt.cm.Spectral(i/float(len(labels))) for i in range(len(labels))]\n",
        "# plot it\n",
        "plt.figure(figsize=(16,8), dpi= 80)\n",
        "squarify.plot(sizes=sizes, label=lbl, color=colors ,alpha=.8 )\n",
        "plt.title('Spending Trends by Continents')\n",
        "plt.axis('on')\n",
        "plt.show()"
      ],
      "metadata": {
        "colab": {
          "base_uri": "https://localhost:8080/",
          "height": 560
        },
        "id": "xeXsbP4Z2ks3",
        "outputId": "ed0b61f5-e044-4d16-8fc6-3d775cab37d8"
      },
      "execution_count": null,
      "outputs": [
        {
          "output_type": "display_data",
          "data": {
            "text/plain": [
              "<Figure size 1280x640 with 1 Axes>"
            ],
            "image/png": "[encoded data removed]"
          },
          "metadata": {}
        }
      ]
    },
    {
      "cell_type": "code",
      "execution_count": null,
      "metadata": {
        "id": "GB1ETy8gMTEY",
        "colab": {
          "base_uri": "https://localhost:8080/"
        },
        "outputId": "5b06a968-b2c6-4697-cc8f-3d8cf6a1e92e"
      },
      "outputs": [
        {
          "output_type": "stream",
          "name": "stdout",
          "text": [
            "+-------------+--------------+------------------+---------+---------+-------+------------------+\n",
            "|    continent|spending_count|         price_avg|price_min|price_max|  total|           Percent|\n",
            "+-------------+--------------+------------------+---------+---------+-------+------------------+\n",
            "|         None|         684.0|              11.4|      1.0|     20.0|16576.0| 4.126447876447877|\n",
            "|       Europe|        2974.0| 7.548223350253807|      1.0|     20.0|16576.0|17.941602316602317|\n",
            "|       Africa|        3889.0| 7.282771535580524|      1.0|     20.0|16576.0|23.461631274131275|\n",
            "|North America|        2726.0| 7.593314763231198|      1.0|     20.0|16576.0|16.445463320463322|\n",
            "|   Antarctica|          51.0|             2.125|      1.0|     10.0|16576.0|0.3076737451737452|\n",
            "|South America|        1416.0|10.114285714285714|      1.0|     20.0|16576.0| 8.542471042471043|\n",
            "|      Oceania|        1410.0| 5.802469135802469|      1.0|     20.0|16576.0|  8.50627413127413|\n",
            "|         Asia|        3426.0| 6.704500978473582|      1.0|     20.0|16576.0|20.668436293436294|\n",
            "+-------------+--------------+------------------+---------+---------+-------+------------------+\n",
            "\n"
          ]
        }
      ],
      "source": [
        "team_user_buying_df_stat.show()"
      ]
    },
    {
      "cell_type": "code",
      "source": [
        "!pip install pywaffle"
      ],
      "metadata": {
        "colab": {
          "base_uri": "https://localhost:8080/"
        },
        "id": "FQNfpPDM5Ww9",
        "outputId": "889df404-ad02-4616-c9cb-3c38753d20fa"
      },
      "execution_count": null,
      "outputs": [
        {
          "output_type": "stream",
          "name": "stdout",
          "text": [
            "Looking in indexes: https://pypi.org/simple, https://us-python.pkg.dev/colab-wheels/public/simple/\n",
            "Requirement already satisfied: pywaffle in /usr/local/lib/python3.10/dist-packages (1.1.0)\n",
            "Requirement already satisfied: fontawesomefree in /usr/local/lib/python3.10/dist-packages (from pywaffle) (6.4.0)\n",
            "Requirement already satisfied: matplotlib in /usr/local/lib/python3.10/dist-packages (from pywaffle) (3.7.1)\n",
            "Requirement already satisfied: contourpy>=1.0.1 in /usr/local/lib/python3.10/dist-packages (from matplotlib->pywaffle) (1.0.7)\n",
            "Requirement already satisfied: cycler>=0.10 in /usr/local/lib/python3.10/dist-packages (from matplotlib->pywaffle) (0.11.0)\n",
            "Requirement already satisfied: fonttools>=4.22.0 in /usr/local/lib/python3.10/dist-packages (from matplotlib->pywaffle) (4.39.3)\n",
            "Requirement already satisfied: kiwisolver>=1.0.1 in /usr/local/lib/python3.10/dist-packages (from matplotlib->pywaffle) (1.4.4)\n",
            "Requirement already satisfied: numpy>=1.20 in /usr/local/lib/python3.10/dist-packages (from matplotlib->pywaffle) (1.22.4)\n",
            "Requirement already satisfied: packaging>=20.0 in /usr/local/lib/python3.10/dist-packages (from matplotlib->pywaffle) (23.1)\n",
            "Requirement already satisfied: pillow>=6.2.0 in /usr/local/lib/python3.10/dist-packages (from matplotlib->pywaffle) (8.4.0)\n",
            "Requirement already satisfied: pyparsing>=2.3.1 in /usr/local/lib/python3.10/dist-packages (from matplotlib->pywaffle) (3.0.9)\n",
            "Requirement already satisfied: python-dateutil>=2.7 in /usr/local/lib/python3.10/dist-packages (from matplotlib->pywaffle) (2.8.2)\n",
            "Requirement already satisfied: six>=1.5 in /usr/local/lib/python3.10/dist-packages (from python-dateutil>=2.7->matplotlib->pywaffle) (1.16.0)\n"
          ]
        }
      ]
    },
    {
      "cell_type": "code",
      "execution_count": null,
      "metadata": {
        "id": "zzYtz4xIbObI",
        "colab": {
          "base_uri": "https://localhost:8080/"
        },
        "outputId": "7e2e08c5-5526-4f8d-cd8d-d5f9e8e7e590"
      },
      "outputs": [
        {
          "output_type": "execute_result",
          "data": {
            "text/plain": [
              "nan"
            ]
          },
          "metadata": {},
          "execution_count": 43
        }
      ],
      "source": [
        "################### TEAM SPENDING AND TEAM RANK CORR\n",
        "\n",
        "\n",
        "\n",
        "#team_user_buying_df.show()\n",
        "team_user_buying_df.stat.corr(\"price\",\"currentLevel\")\n",
        "\n",
        "\n",
        "\n",
        "\n"
      ]
    },
    {
      "cell_type": "code",
      "execution_count": null,
      "metadata": {
        "id": "kSgVncU6g6jY",
        "colab": {
          "base_uri": "https://localhost:8080/",
          "height": 508
        },
        "outputId": "a0c88bdc-5094-4a8f-b203-3aa5660fb261"
      },
      "outputs": [
        {
          "output_type": "execute_result",
          "data": {
            "text/plain": [
              "<matplotlib.legend.Legend at 0x7f57c01736d0>"
            ]
          },
          "metadata": {},
          "execution_count": 54
        },
        {
          "output_type": "display_data",
          "data": {
            "text/plain": [
              "<Figure size 1280x800 with 0 Axes>"
            ]
          },
          "metadata": {}
        },
        {
          "output_type": "display_data",
          "data": {
            "text/plain": [
              "<Figure size 640x480 with 1 Axes>"
            ],
            "image/png": "[encoded data removed]"
          },
          "metadata": {}
        }
      ],
      "source": [
        "#################### AD CLICK CHECK \n",
        "###### CHECK WHICH ITEM SELLS WELL\n",
        "\n",
        "from pyspark.sql.functions import rank,sum,col\n",
        "# import matplotlib.pyplot as plt\n",
        "\n",
        "adclicks_df = spark.read.csv(\"/content/flamingo-data/ad-clicks.csv\", header=True, inferSchema=True)\n",
        "buy_clicks_df = spark.read.csv(\"/content/flamingo-data/buy-clicks.csv\", header=True, inferSchema=True)\n",
        "\n",
        "item_purchases_stat_df = buy_clicks_df.groupby(\"buyId\").agg(sum(f.col(\"price\")).alias(\"total_price\")).orderBy(\"buyId\").toPandas()\n",
        "\n",
        "\n",
        "\n",
        "item_purchase_stat_df = list(item_purchases_stat_df[\"buyId\"])\n",
        "plt.figure(figsize=(16, 10), dpi= 80, facecolor='w', edgecolor='k') \n",
        "item_purchases_stat_df.plot.bar(width=1.2, color='green')\n",
        "plt.xticks(rotation=0)\n",
        "plt.title(\"Most Sold Products through Ads\")\n",
        "plt.xlabel('Product ID')\n",
        "plt.ylabel('Total Amount Spent')\n",
        "plt.legend([])\n",
        "# buy_clicks_df.show()\n",
        "\n"
      ]
    },
    {
      "cell_type": "code",
      "execution_count": null,
      "metadata": {
        "id": "X36PaPGT4_4z",
        "colab": {
          "base_uri": "https://localhost:8080/",
          "height": 972
        },
        "outputId": "ed660e71-b709-4ed2-e5ac-4a6a06fe4af0"
      },
      "outputs": [
        {
          "output_type": "stream",
          "name": "stdout",
          "text": [
            "+-------------------+----+-------------+------+------+----+-----------+\n",
            "|          timestamp|txId|userSessionId|teamId|userId|adId| adCategory|\n",
            "+-------------------+----+-------------+------+------+----+-----------+\n",
            "|2016-05-26 15:13:22|5974|         5809|    27|   611|   2|electronics|\n",
            "|2016-05-26 15:17:24|5976|         5705|    18|  1874|  21|     movies|\n",
            "|2016-05-26 15:22:52|5978|         5791|    53|  2139|  25|  computers|\n",
            "|2016-05-26 15:22:57|5973|         5756|    63|   212|  10|    fashion|\n",
            "|2016-05-26 15:22:58|5980|         5920|     9|  1027|  20|   clothing|\n",
            "|2016-05-26 15:27:19|5977|         5954|    77|   595|   4|      games|\n",
            "|2016-05-26 15:28:51|5981|         5674|    54|   770|   6|     movies|\n",
            "|2016-05-26 15:35:25|5975|         5919|    59|  2133|   3|electronics|\n",
            "|2016-05-26 15:35:37|5979|         5945|    75|   253|   3|electronics|\n",
            "|2016-05-26 15:36:38|5972|         5914|    78|  1821|  12|  computers|\n",
            "|2016-05-26 15:38:42|6000|         5955|    64|  2009|  17|      games|\n",
            "|2016-05-26 15:41:43|6001|         5892|    53|  1538|  21|     movies|\n",
            "|2016-05-26 15:43:10|5999|         5705|    18|  1874|   3|electronics|\n",
            "|2016-05-26 15:48:11|6002|         5702|    20|   355|  29| automotive|\n",
            "|2016-05-26 16:00:42|6003|         5920|     9|  1027|   0|     sports|\n",
            "|2016-05-26 16:01:01|5998|         5892|    53|  1538|  25|  computers|\n",
            "|2016-05-26 16:07:24|6031|         5938|    11|  1155|   2|electronics|\n",
            "|2016-05-26 16:08:08|6037|         5711|    18|   128|  23|    fashion|\n",
            "|2016-05-26 16:08:35|6040|         5945|    75|   253|  11|      games|\n",
            "|2016-05-26 16:17:31|6035|         5886|    64|    68|   2|electronics|\n",
            "+-------------------+----+-------------+------+------+----+-----------+\n",
            "only showing top 20 rows\n",
            "\n"
          ]
        },
        {
          "output_type": "execute_result",
          "data": {
            "text/plain": [
              "<Axes: title={'center': 'Time Series Graph of Adclick per Day'}, xlabel='Days', ylabel='Ads clicked'>"
            ]
          },
          "metadata": {},
          "execution_count": 59
        },
        {
          "output_type": "display_data",
          "data": {
            "text/plain": [
              "<Figure size 2000x2000 with 0 Axes>"
            ]
          },
          "metadata": {}
        },
        {
          "output_type": "display_data",
          "data": {
            "text/plain": [
              "<Figure size 640x480 with 1 Axes>"
            ],
            "image/png": "[encoded data removed]"
          },
          "metadata": {}
        }
      ],
      "source": [
        "adclicks_df = spark.read.csv(\"/content/flamingo-data/ad-clicks.csv\", header=True, inferSchema=True)\n",
        "\n",
        "\n",
        "adclicks_df.show()\n",
        "#######  FORMAT THE TIMESTAMP COLUMN IN DF AND THEN GROUP BY THE FORMATTED DF \n",
        "# To groupby newly created month column which holds  date in yyyy-MM-dd form. \n",
        "# count the occurance of each date. as each new date represents a click on ad.\n",
        "plt.figure(figsize=(20,20))\n",
        "# adclicks_df.groupby(\"adCategory\").count().orderBy(\"count\").show()\n",
        "adclicks_df.withColumn(\"tstamp\",f.date_format(adclicks_df.timestamp,'yyyy-MM-dd') )\\\n",
        ".withColumn(\"hstamp\",f.date_format(adclicks_df.timestamp,'hh:mm:ss') )\\\n",
        ".withColumn(\"month\",f.date_format(adclicks_df.timestamp,'yyyy-MM-dd') )\\\n",
        ".select(\"month\")\\\n",
        ".groupBy(\"month\")\\\n",
        ".count()\\\n",
        ".orderBy(\"count\")\\\n",
        ".toPandas()\\\n",
        ".plot.line(x=\"month\", y=\"count\", xlabel=\"Days\", ylabel=\"Ads clicked\", title=\"Time Series Graph of Adclick per Day\")"
      ]
    },
    {
      "cell_type": "code",
      "source": [
        "import seaborn as sns\n",
        "import matplotlib.pyplot as plt\n",
        "sns.set_theme(style=\"whitegrid\")\n",
        "\n",
        "# Initialize the matplotlib figure\n",
        "f, ax = plt.subplots(figsize=(20, 8))\n",
        "\n",
        "# Load the example car crash dataset\n",
        "crashes = game_clicks_user_session_pf_df.toPandas()\n",
        "\n",
        "print(crashes.head())\n",
        "\n",
        "# Plot the total crashes\n",
        "sns.set_color_codes(\"pastel\")\n",
        "sns.barplot(x=\"total_hits\", y=\"platformType\", data=crashes,\n",
        "            label=\"Total clicks\", color=\"b\")\n",
        "\n",
        "\n",
        "for bar, percentage in zip(ax.patches, crashes['percentage'].values[::-1]):\n",
        "    ax.annotate( str(round(float(percentage),5) * 100 ) + \" %\" ,xy=(bar.get_width(), bar.get_y()+bar.get_height()/2),\n",
        "            xytext=(5, 0), textcoords='offset points', ha=\"left\", va=\"center\")\n",
        "\n",
        "# for bar, percentage in zip(ax.patches, crashes['percentage'].values[::-1]):\n",
        "#     ax.text(0.8, bar.get_y()+bar.get_height()/2, percentage, color = 'white', ha = 'left', va = 'center')\n",
        "\n",
        "# for i, val in enumerate(crashes['percentage'].values):\n",
        "#     ax.text(val, i, str(round(float(val),4) * 100 ) + \" %\", horizontalalignment='center', verticalalignment='bottom', fontdict={'fontweight':500, 'size':12})\n",
        "\n",
        "# Plot the crashes where alcohol was involved\n",
        "sns.set_color_codes(\"dark\")\n",
        "sns.barplot(x=\"platform_hit_count\", y=\"platformType\", data=crashes,\n",
        "            label=\"Hit counts\", color=\"y\")\n",
        "\n",
        "\n",
        "# Add a legend and informative axis label\n",
        "\n",
        "ax.legend(ncol=2, loc=\"lower right\", frameon=True)\n",
        "ax.set(ylabel=\"Platforms\",\n",
        "       xlabel=\"Hit Clicks vs Total Cicks, Platform-wise Statistics\")\n",
        "sns.despine(left=True, bottom=True)"
      ],
      "metadata": {
        "colab": {
          "base_uri": "https://localhost:8080/",
          "height": 674
        },
        "id": "G39gyBrmQWZC",
        "outputId": "384d9f41-8afe-46b0-a28a-298c21882076"
      },
      "execution_count": null,
      "outputs": [
        {
          "output_type": "stream",
          "name": "stdout",
          "text": [
            "  platformType  platform_hit_count  total_hits  percentage\n",
            "0          mac               30582      276852    0.110463\n",
            "1        linux               53910      498808    0.108078\n",
            "2      windows              113098     1042214    0.108517\n",
            "3      android              299576     2747372    0.109041\n",
            "4       iphone              348976     3066988    0.113785\n"
          ]
        },
        {
          "output_type": "display_data",
          "data": {
            "text/plain": [
              "<Figure size 2000x800 with 1 Axes>"
            ],
            "image/png": "[encoded data removed]"
          },
          "metadata": {}
        }
      ]
    },
    {
      "cell_type": "code",
      "source": [
        "############# CORR\n",
        "from pyspark.sql import functions as f\n",
        "\n",
        "team_df = spark.read.csv(\"/content/flamingo-data/team.csv\", header=True, inferSchema=True)\n",
        "buyclicks_df = spark.read.csv(\"/content/flamingo-data/buy-clicks.csv\", header=True, inferSchema=True)\n",
        "\n",
        "\n",
        "team_buying_df = team_df.alias(\"teamdf\").join(buyclicks_df.alias(\"buyclicks\"),\\\n",
        "                            f.col(\"teamdf.teamId\") == f.col(\"buyclicks.team\"),\"inner\")\n",
        "\n",
        "\n",
        "\n",
        "########## HISTOGRAM OF SPENDING COUNT HOW MUCH SPENDING IS DISTRIBUTED && CORRELATION\n",
        "\n",
        "# team_buying_df.groupBy(\"teamId\").sum(\"price\", \"strength\").orderBy(\"sum(price)\").toPandas().hist(column = \"sum(price)\")\n",
        "\n",
        "\n",
        "team_buying_df_grouped = team_buying_df.groupBy(\"teamId\").sum(\"price\", \"strength\")\\\n",
        "         .select('teamId', f.col('sum(price)').alias('total_spending'), f.col('sum(strength)').alias('total_strength'))\\\n",
        "         .orderBy(\"sum(price)\")\n",
        "\n",
        "team_buying_df.stat.corr(\"price\",\"strength\")\n",
        "# team_buying_df_grouped.show()"
      ],
      "metadata": {
        "colab": {
          "base_uri": "https://localhost:8080/"
        },
        "id": "L96uaURdTfhA",
        "outputId": "7c3a6c8f-4b77-44bd-914c-b101c1b84d56"
      },
      "execution_count": null,
      "outputs": [
        {
          "output_type": "execute_result",
          "data": {
            "text/plain": [
              "-0.06938790495270436"
            ]
          },
          "metadata": {},
          "execution_count": 52
        }
      ]
    },
    {
      "cell_type": "code",
      "execution_count": 14,
      "metadata": {
        "id": "Jw4KtXoEHl5D"
      },
      "outputs": [],
      "source": [
        "################ CLUSTERING ANALYSIS\n",
        "\n",
        "# Utility functions for Spark Cluster Analysis Hands-On\n",
        "#\n",
        "#\n",
        "from itertools import cycle, islice\n",
        "from math import sqrt\n",
        "from numpy import array\n",
        "from pandas.plotting import parallel_coordinates\n",
        "from pyspark.ml.clustering import KMeans as KM\n",
        "from pyspark.mllib.linalg import DenseVector\n",
        "import matplotlib.pyplot as plt\n",
        "import numpy as np\n",
        "import pandas as pd\n",
        "\n",
        "def computeCost(featuresAndPrediction, model):\n",
        "    allClusterCenters = [DenseVector(c) for c in model.clusterCenters()]\n",
        "    arrayCollection   = featuresAndPrediction.rdd.map(array)\n",
        "\n",
        "    def error(point, predictedCluster):\n",
        "        center = allClusterCenters[predictedCluster]\n",
        "        z      = point - center\n",
        "        return sqrt((z*z).sum())\n",
        "    \n",
        "    return arrayCollection.map(lambda row: error(row[0], row[1])).reduce(lambda x, y: x + y)\n",
        "\n",
        "\n",
        "def elbow(elbowset, clusters):\n",
        "\twsseList = []\t\n",
        "\tfor k in clusters:\n",
        "\t\tprint(\"Training for cluster size {} \".format(k))\n",
        "\t\tkmeans = KM(k = k, seed = 1)\n",
        "\t\tmodel = kmeans.fit(elbowset)\n",
        "\t\ttransformed = model.transform(elbowset)\n",
        "\t\tfeaturesAndPrediction = transformed.select(\"features\", \"prediction\")\n",
        "\n",
        "\t\tW = computeCost(featuresAndPrediction, model)\n",
        "\t\tprint(\"......................WSSE = {} \".format(W))\n",
        "\n",
        "\t\twsseList.append(W)\n",
        "\treturn wsseList\n",
        "\n",
        "def elbow_plot(wsseList, clusters):\n",
        "\twsseDF = pd.DataFrame({'WSSE' : wsseList, 'k' : clusters })\n",
        "\twsseDF.plot(y='WSSE', x='k', figsize=(15,10), grid=True, marker='o')\n",
        "\n",
        "def pd_centers(featuresUsed, centers):\n",
        "\tcolNames = list(featuresUsed)\n",
        "\tcolNames.append('prediction')\n",
        "\n",
        "\t# Zip with a column called 'prediction' (index)\n",
        "\tZ = [np.append(A, index) for index, A in enumerate(centers)]\n",
        "\n",
        "\t# Convert to pandas for plotting\n",
        "\tP = pd.DataFrame(Z, columns=colNames)\n",
        "\tP['prediction'] = P['prediction'].astype(int)\n",
        "\treturn P\n",
        "\n",
        "def parallel_plot(data, P):\n",
        "\tmy_colors = list(islice(cycle(['b', 'r', 'g', 'y', 'k']), None, len(P)))\n",
        "\tplt.figure(figsize=(15,8)).gca().axes.set_ylim([-3,+3])\n",
        "\tparallel_coordinates(data, 'prediction', color = my_colors, marker='o')\n",
        "\n"
      ]
    },
    {
      "cell_type": "code",
      "execution_count": 15,
      "metadata": {
        "id": "aKWi5VYTaR9K",
        "colab": {
          "base_uri": "https://localhost:8080/"
        },
        "outputId": "2cb83bf8-b7f0-4b85-d272-a7e0f43328b4"
      },
      "outputs": [
        {
          "output_type": "execute_result",
          "data": {
            "text/plain": [
              "DataFrame[userId: int, userSessionId: int, teamLevel: int, platformType: string, count_gameclicks: int, count_hits: int, count_buyId: string, avg_price: string]"
            ]
          },
          "metadata": {},
          "execution_count": 15
        }
      ],
      "source": [
        "df = spark.read.csv(\"/content/combined-data.csv\", header=True, inferSchema=True)\n",
        "\n",
        "df"
      ]
    },
    {
      "cell_type": "code",
      "execution_count": 16,
      "metadata": {
        "id": "dkiC_gv1a67Z",
        "colab": {
          "base_uri": "https://localhost:8080/"
        },
        "outputId": "ad9865b8-77d7-4623-d5b6-23e84907b042"
      },
      "outputs": [
        {
          "output_type": "execute_result",
          "data": {
            "text/plain": [
              "4619"
            ]
          },
          "metadata": {},
          "execution_count": 16
        }
      ],
      "source": [
        "df.count()\n",
        "df.na.drop().count()\n",
        "\n",
        "\n",
        "\n"
      ]
    },
    {
      "cell_type": "code",
      "execution_count": 17,
      "metadata": {
        "id": "O-4BpCuara4g",
        "colab": {
          "base_uri": "https://localhost:8080/"
        },
        "outputId": "9d56c9fd-95f7-47e5-aa65-901cde6fed6c"
      },
      "outputs": [
        {
          "output_type": "execute_result",
          "data": {
            "text/plain": [
              "['userId',\n",
              " 'userSessionId',\n",
              " 'teamLevel',\n",
              " 'platformType',\n",
              " 'count_gameclicks',\n",
              " 'count_hits',\n",
              " 'count_buyId',\n",
              " 'avg_price']"
            ]
          },
          "metadata": {},
          "execution_count": 17
        }
      ],
      "source": [
        "df.columns"
      ]
    },
    {
      "cell_type": "code",
      "execution_count": 66,
      "metadata": {
        "id": "rbBLYLKIo_qS"
      },
      "outputs": [],
      "source": [
        "################ K-MEANS CLUSTERING\n",
        "ad_click_df = spark.read.csv(\"/content/flamingo-data/ad-clicks.csv\", header=True, inferSchema=True)\n",
        "buy_click_df = spark.read.csv(\"/content/flamingo-data/buy-clicks.csv\", header=True, inferSchema=True)\n",
        "game_click_df = spark.read.csv(\"/content/flamingo-data/game-clicks.csv\", header=True, inferSchema=True)\n",
        "level_events_df = spark.read.csv(\"/content/flamingo-data/level-events.csv\", header=True, inferSchema=True)\n",
        "team_assignments_df = spark.read.csv(\"/content/flamingo-data/team-assignments.csv\", header=True, inferSchema=True)\n",
        "team_df = spark.read.csv(\"/content/flamingo-data/team.csv\", header=True, inferSchema=True)\n",
        "users_df = spark.read.csv(\"/content/flamingo-data/users.csv\", header=True, inferSchema=True)\n",
        "users_session_df = spark.read.csv(\"/content/flamingo-data/user-session.csv\", header=True, inferSchema=True)\n",
        "\n",
        "\n",
        "\n",
        "\n",
        "\n",
        "\n",
        "\n",
        "\n",
        "\n",
        "\n"
      ]
    },
    {
      "cell_type": "code",
      "execution_count": 65,
      "metadata": {
        "id": "9hxz-a6gvTfA",
        "colab": {
          "base_uri": "https://localhost:8080/",
          "height": 240
        },
        "outputId": "e095af9a-9e59-457c-e880-1e39de673ce0"
      },
      "outputs": [
        {
          "output_type": "error",
          "ename": "AttributeError",
          "evalue": "ignored",
          "traceback": [
            "\u001b[0;31m---------------------------------------------------------------------------\u001b[0m",
            "\u001b[0;31mAttributeError\u001b[0m                            Traceback (most recent call last)",
            "\u001b[0;32m<ipython-input-65-53757b31533a>\u001b[0m in \u001b[0;36m<cell line: 3>\u001b[0;34m()\u001b[0m\n\u001b[1;32m      2\u001b[0m \u001b[0;34m\u001b[0m\u001b[0m\n\u001b[1;32m      3\u001b[0m whole_dataset_df = team_assignments_df.alias(\"team_assignment_df\").join(users_df.alias(\"users_df\"),\\\n\u001b[0;32m----> 4\u001b[0;31m                            f.col(\"team_assignment_df.userId\") == f.col(\"users_df.userId\"),\"inner\")\\\n\u001b[0m\u001b[1;32m      5\u001b[0m                            \u001b[0;34m.\u001b[0m\u001b[0mjoin\u001b[0m\u001b[0;34m(\u001b[0m\u001b[0mteam_df\u001b[0m\u001b[0;34m.\u001b[0m\u001b[0malias\u001b[0m\u001b[0;34m(\u001b[0m\u001b[0;34m\"team_df\"\u001b[0m\u001b[0;34m)\u001b[0m\u001b[0;34m,\u001b[0m \u001b[0mf\u001b[0m\u001b[0;34m.\u001b[0m\u001b[0mcol\u001b[0m\u001b[0;34m(\u001b[0m\u001b[0;34m\"team_df.teamId\"\u001b[0m\u001b[0;34m)\u001b[0m \u001b[0;34m==\u001b[0m \u001b[0mf\u001b[0m\u001b[0;34m.\u001b[0m\u001b[0mcol\u001b[0m\u001b[0;34m(\u001b[0m\u001b[0;34m\"team\"\u001b[0m\u001b[0;34m)\u001b[0m\u001b[0;34m)\u001b[0m\u001b[0;31m\\\u001b[0m\u001b[0;34m\u001b[0m\u001b[0;34m\u001b[0m\u001b[0m\n\u001b[1;32m      6\u001b[0m                            \u001b[0;34m.\u001b[0m\u001b[0mjoin\u001b[0m\u001b[0;34m(\u001b[0m\u001b[0musers_session_df\u001b[0m\u001b[0;34m.\u001b[0m\u001b[0malias\u001b[0m\u001b[0;34m(\u001b[0m\u001b[0;34m\"users_session_df\"\u001b[0m\u001b[0;34m)\u001b[0m\u001b[0;34m,\u001b[0m \u001b[0mf\u001b[0m\u001b[0;34m.\u001b[0m\u001b[0mcol\u001b[0m\u001b[0;34m(\u001b[0m\u001b[0;34m\"users_session_df.userId\"\u001b[0m\u001b[0;34m)\u001b[0m \u001b[0;34m==\u001b[0m \u001b[0mf\u001b[0m\u001b[0;34m.\u001b[0m\u001b[0mcol\u001b[0m\u001b[0;34m(\u001b[0m\u001b[0;34m\"users_df.userId\"\u001b[0m\u001b[0;34m)\u001b[0m\u001b[0;34m)\u001b[0m\u001b[0;31m\\\u001b[0m\u001b[0;34m\u001b[0m\u001b[0;34m\u001b[0m\u001b[0m\n",
            "\u001b[0;31mAttributeError\u001b[0m: 'dict' object has no attribute 'col'"
          ]
        }
      ],
      "source": [
        "################# JOIN ALL TABLES\n",
        "\n",
        "whole_dataset_df = team_assignments_df.alias(\"team_assignment_df\").join(users_df.alias(\"users_df\"),\\\n",
        "                           f.col(\"team_assignment_df.userId\") == f.col(\"users_df.userId\"),\"inner\")\\\n",
        "                           .join(team_df.alias(\"team_df\"), f.col(\"team_df.teamId\") == f.col(\"team\"))\\\n",
        "                           .join(users_session_df.alias(\"users_session_df\"), f.col(\"users_session_df.userId\") == f.col(\"users_df.userId\"))\\\n",
        "                           .join(game_click_df.alias(\"game_click_df\"), f.col(\"game_click_df.userId\") == f.col(\"users_df.userId\"))\\\n",
        "                           .join(ad_click_df.alias(\"ad_click_df\"), f.col(\"ad_click_df.userId\") == f.col(\"users_df.userId\"))\\\n",
        "                           .join(buy_click_df.alias(\"buy_click_df\"), f.col(\"buy_click_df.userId\") == f.col(\"users_df.userId\"))\\\n",
        "                           .select(\"team_assignment_df.timestamp\", \"team_assignment_df.timestamp\", \n",
        "                                   \"users_df.userId\", \"users_df.nick\", \"users_df.twitter\",\"users_df.country\",\"users_df.dob\",\n",
        "                                   \"team_df.teamId\",\"team_df.teamCreationTime\", \"team_df.teamEndTime\", \"team_df.strength\",\"team_df.currentLevel\",\n",
        "                                   \"users_session_df.timestamp\",\"users_session_df.timestamp\", \"users_session_df.sessionType\",\"users_session_df.teamLevel\",\"users_session_df.platformType\",\n",
        "                                   \"game_click_df.timestamp\", \"game_click_df.isHit\",\n",
        "                                   \"ad_click_df.adId\", \"ad_click_df.adCategory\",\n",
        "                                   \"buy_click_df.txId\",\"buy_click_df.price\")\\\n",
        "                          "
      ]
    },
    {
      "cell_type": "code",
      "execution_count": 26,
      "metadata": {
        "id": "Ni6hia6h2gve"
      },
      "outputs": [],
      "source": [
        "whole_dataset_df = whole_dataset_df.select('strength',\n",
        " 'teamLevel',\n",
        " 'isHit',\n",
        " 'price').distinct()\n",
        "\n",
        "# print(whole_dataset_df.count())\n",
        "\n",
        "\n",
        "# whole_dataset_df.show()\n"
      ]
    },
    {
      "cell_type": "code",
      "source": [
        "############# CLASSIFICATION AND CLUSTERING ANALYSIS\n",
        "import pyspark.sql.functions as f\n",
        "from pyspark.sql import Window\n",
        "from pyspark.sql.functions import rank,sum,col\n",
        "\n",
        "\n",
        "window = Window.rowsBetween(Window.unboundedPreceding,Window.unboundedFollowing)\n",
        "\n",
        "\n",
        "combined_data_df = spark.read.csv(\"/content/combined-data.csv\", header=True, inferSchema=True)\n",
        "\n",
        "combined_data_df_na_removed = combined_data_df.na.drop()\n",
        "# combined_data_df_hitter = combined_data_df.withColumn('Percent',f.col('count_hits')*100/f.col('count_gameclicks'))\\\n",
        "#                           .withColumn(\"hitter\", f.when(f.col(\"Percent\") > 10, 1).otherwise(0))\\\n",
        "#                           .withColumn('total',sum(f.col('avg_price')).over(window))\\\n",
        "#                           .withColumn(\"spender\", f.when(f.col(\"avg_price\") > 5,1).otherwise(0))\n",
        "\n",
        "                          \n",
        "combined_data_df_hitter = combined_data_df\\\n",
        "                          .withColumn('total',sum(f.col('avg_price')).over(window))\\\n",
        "                          .withColumn(\"spender\", f.when(f.col(\"avg_price\") > 5,1).otherwise(0))\n",
        "\n",
        "\n",
        "\n",
        "\n",
        "\n",
        "grouped_userId_combined_data_df  = combined_data_df_hitter.groupby(\"userId\")\\\n",
        "                                  .agg(f.sum(\"count_gameclicks\").alias('count_gameclicks_total'), \n",
        "                                       f.sum(\"count_hits\").alias(\"count_hits_total\"), \n",
        "                                       f.sum(\"avg_price\").alias(\"avg_price_total\"))\\\n",
        "                                  .withColumn('Percent',f.col('count_hits_total')*100/f.col('count_gameclicks_total'))\\\n",
        "                                  .withColumn(\"hitter\", f.when(f.col(\"Percent\") > 10, 1).otherwise(0))\\\n",
        "                                  \n",
        "\n",
        "\n",
        "combined_grouped_df = combined_data_df_hitter.alias(\"combined_data_df_hitter\").join(grouped_userId_combined_data_df.alias(\"grouped_userId_combined_data_df\"),\\\n",
        "                           f.col(\"combined_data_df_hitter.userId\") == f.col(\"grouped_userId_combined_data_df.userId\"),\"inner\")\\\n",
        "\n",
        "                          \n",
        "combined_grouped_df.show()\n",
        "\n",
        "\n",
        "# team_user_buying_df_stat = team_user_buying_df.groupby(\"continent\").agg(f.sum('price').alias('spending_count'),\n",
        "#                                         f.mean('price').alias('price_avg'),\n",
        "#                                         f.min('price').alias('price_min'),\n",
        "#                                         f.max('price').alias('price_max')).\\\n",
        "#    withColumn('total',sum(f.col('spending_count')).over(window)).\\\n",
        "\n",
        "# combined_data_df_hitter = combined_data_df_hitter.groupby(\"userId\")\\\n",
        "#                           .agg(f.sum('avg_price').alias('total'))\\\n",
        "#                           .withColumn(\"spender\", f.when(f.col(\"total\") > 5,1).otherwise(0))\n",
        "# max_value = combined_data_df_hitter.agg({\"Percent\": \"max\"}).collect()[0][0]\n",
        "# print(max_value)\n",
        "# team_user_buying_df.groupby(\"continent\").agg(f.sum('price').alias('spending_count'),\n",
        "#                                         f.mean('price').alias('price_avg'),\n",
        "#                                         f.min('price').alias('price_min'),\n",
        "#                                         f.max('price').alias('price_max')).\\\n",
        "#    withColumn('total',sum(f.col('spending_count')).over(window)).\\\n",
        "#    withColumn('Percent',f.col('spending_count')*100/f.col('total'))\n",
        "\n",
        "# combined_data_df.show()\n",
        "# combined_data\n",
        "\n",
        "\n",
        "\n"
      ],
      "metadata": {
        "colab": {
          "base_uri": "https://localhost:8080/"
        },
        "id": "tDR-cikxOKmy",
        "outputId": "2b58bfd7-b83c-4ae3-c482-cb9072d8a682"
      },
      "execution_count": 27,
      "outputs": [
        {
          "output_type": "stream",
          "name": "stdout",
          "text": [
            "+------+-------------+---------+------------+----------------+----------+-----------+---------+------------------+-------+------+----------------------+----------------+---------------+------------------+------+\n",
            "|userId|userSessionId|teamLevel|platformType|count_gameclicks|count_hits|count_buyId|avg_price|             total|spender|userId|count_gameclicks_total|count_hits_total|avg_price_total|           Percent|hitter|\n",
            "+------+-------------+---------+------------+----------------+----------+-----------+---------+------------------+-------+------+----------------------+----------------+---------------+------------------+------+\n",
            "|   812|         5648|        1|     android|              69|         8|       NULL|     NULL|10179.410000000002|      0|   812|                   669|              74|           null|11.061285500747385|     1|\n",
            "|  1658|         5649|        1|      iphone|              31|         5|       NULL|     NULL|10179.410000000002|      0|  1658|                   403|              58|           37.5|14.392059553349876|     1|\n",
            "|  1589|         5650|        1|      iphone|              26|         2|       NULL|     NULL|10179.410000000002|      0|  1589|                   289|              25|           null| 8.650519031141869|     0|\n",
            "|  1863|         5651|        1|     android|              35|         4|       NULL|     NULL|10179.410000000002|      0|  1863|                   371|              41|           13.0| 11.05121293800539|     1|\n",
            "|   937|         5652|        1|     android|              39|         0|          1|     1.00|10179.410000000002|      0|   937|                   145|              14|            1.0| 9.655172413793103|     0|\n",
            "|   342|         5653|        1|     android|              36|         5|       NULL|     NULL|10179.410000000002|      0|   342|                   283|              35|           null| 12.36749116607774|     1|\n",
            "|   849|         5654|        1|      iphone|              40|         5|       NULL|     NULL|10179.410000000002|      0|   849|                   420|              52|           null|12.380952380952381|     1|\n",
            "|  1277|         5655|        1|     windows|              46|         8|       NULL|     NULL|10179.410000000002|      0|  1277|                   530|              63|           27.0| 11.88679245283019|     1|\n",
            "|  2203|         5656|        1|     android|              68|         6|       NULL|     NULL|10179.410000000002|      0|  2203|                   726|              84|           null|11.570247933884298|     1|\n",
            "|   585|         5657|        1|      iphone|              76|         9|       NULL|     NULL|10179.410000000002|      0|   585|                   902|              97|           12.5|10.753880266075388|     1|\n",
            "|  1370|         5658|        1|      iphone|              69|         6|       NULL|     NULL|10179.410000000002|      0|  1370|                   694|              70|           47.5|10.086455331412104|     1|\n",
            "|  1623|         5659|        1|      iphone|             129|         9|          1|    10.00|10179.410000000002|      1|  1623|                   783|              79|           44.0|10.089399744572159|     1|\n",
            "|   881|         5660|        1|      iphone|              36|         6|       NULL|     NULL|10179.410000000002|      0|   881|                   365|              41|           94.0|11.232876712328768|     1|\n",
            "|    83|         5661|        1|     android|             102|        14|          1|     5.00|10179.410000000002|      0|    83|                   900|             106|          17.67|11.777777777777779|     1|\n",
            "|   453|         5662|        1|     android|             102|         7|       NULL|     NULL|10179.410000000002|      0|   453|                   846|              90|           null|10.638297872340425|     1|\n",
            "|  1966|         5663|        1|      iphone|              63|         8|       NULL|     NULL|10179.410000000002|      0|  1966|                   981|             119|           10.0|12.130479102956167|     1|\n",
            "|  1073|         5664|        1|     android|             141|        21|       NULL|     NULL|10179.410000000002|      0|  1073|                  1078|             119|           null| 11.03896103896104|     1|\n",
            "|   121|         5665|        1|     android|              39|         4|          1|     3.00|10179.410000000002|      0|   121|                   402|              39|           14.0| 9.701492537313433|     0|\n",
            "|   462|         5666|        1|     android|              90|        10|          1|     3.00|10179.410000000002|      0|   462|                   897|             104|           13.5|11.594202898550725|     1|\n",
            "|   708|         5667|        1|      iphone|              32|         2|       NULL|     NULL|10179.410000000002|      0|   708|                   371|              36|           null| 9.703504043126685|     0|\n",
            "+------+-------------+---------+------------+----------------+----------+-----------+---------+------------------+-------+------+----------------------+----------------+---------------+------------------+------+\n",
            "only showing top 20 rows\n",
            "\n"
          ]
        }
      ]
    },
    {
      "cell_type": "code",
      "source": [
        "\n",
        "##### INDEX THE PLATFORMTYPE CATEGORICAL COLUMN\n",
        "\n",
        "from pyspark.ml.feature import StringIndexer\n",
        "\n",
        "# Create an indexer\n",
        "indexer = StringIndexer(inputCol='platformType', outputCol='platformType_indexed')\n",
        "\n",
        "# Indexer identifies categories in the data\n",
        "indexer_model = indexer.fit(combined_grouped_df)\n",
        "\n",
        "# Indexer creates a new column with numeric index values\n",
        "combined_grouped_df_indexed = indexer_model.transform(combined_grouped_df)\n",
        "combined_grouped_df_indexed.show()\n",
        "\n"
      ],
      "metadata": {
        "id": "4Pmj0lfqmO-T",
        "colab": {
          "base_uri": "https://localhost:8080/"
        },
        "outputId": "a1baa1a1-f693-4e73-de5a-2918c748e964"
      },
      "execution_count": 28,
      "outputs": [
        {
          "output_type": "stream",
          "name": "stdout",
          "text": [
            "+------+-------------+---------+------------+----------------+----------+-----------+---------+------------------+-------+------+----------------------+----------------+---------------+------------------+------+--------------------+\n",
            "|userId|userSessionId|teamLevel|platformType|count_gameclicks|count_hits|count_buyId|avg_price|             total|spender|userId|count_gameclicks_total|count_hits_total|avg_price_total|           Percent|hitter|platformType_indexed|\n",
            "+------+-------------+---------+------------+----------------+----------+-----------+---------+------------------+-------+------+----------------------+----------------+---------------+------------------+------+--------------------+\n",
            "|   812|         5648|        1|     android|              69|         8|       NULL|     NULL|10179.410000000002|      0|   812|                   669|              74|           null|11.061285500747385|     1|                 1.0|\n",
            "|  1658|         5649|        1|      iphone|              31|         5|       NULL|     NULL|10179.410000000002|      0|  1658|                   403|              58|           37.5|14.392059553349876|     1|                 0.0|\n",
            "|  1589|         5650|        1|      iphone|              26|         2|       NULL|     NULL|10179.410000000002|      0|  1589|                   289|              25|           null| 8.650519031141869|     0|                 0.0|\n",
            "|  1863|         5651|        1|     android|              35|         4|       NULL|     NULL|10179.410000000002|      0|  1863|                   371|              41|           13.0| 11.05121293800539|     1|                 1.0|\n",
            "|   937|         5652|        1|     android|              39|         0|          1|     1.00|10179.410000000002|      0|   937|                   145|              14|            1.0| 9.655172413793103|     0|                 1.0|\n",
            "|   342|         5653|        1|     android|              36|         5|       NULL|     NULL|10179.410000000002|      0|   342|                   283|              35|           null| 12.36749116607774|     1|                 1.0|\n",
            "|   849|         5654|        1|      iphone|              40|         5|       NULL|     NULL|10179.410000000002|      0|   849|                   420|              52|           null|12.380952380952381|     1|                 0.0|\n",
            "|  1277|         5655|        1|     windows|              46|         8|       NULL|     NULL|10179.410000000002|      0|  1277|                   530|              63|           27.0| 11.88679245283019|     1|                 2.0|\n",
            "|  2203|         5656|        1|     android|              68|         6|       NULL|     NULL|10179.410000000002|      0|  2203|                   726|              84|           null|11.570247933884298|     1|                 1.0|\n",
            "|   585|         5657|        1|      iphone|              76|         9|       NULL|     NULL|10179.410000000002|      0|   585|                   902|              97|           12.5|10.753880266075388|     1|                 0.0|\n",
            "|  1370|         5658|        1|      iphone|              69|         6|       NULL|     NULL|10179.410000000002|      0|  1370|                   694|              70|           47.5|10.086455331412104|     1|                 0.0|\n",
            "|  1623|         5659|        1|      iphone|             129|         9|          1|    10.00|10179.410000000002|      1|  1623|                   783|              79|           44.0|10.089399744572159|     1|                 0.0|\n",
            "|   881|         5660|        1|      iphone|              36|         6|       NULL|     NULL|10179.410000000002|      0|   881|                   365|              41|           94.0|11.232876712328768|     1|                 0.0|\n",
            "|    83|         5661|        1|     android|             102|        14|          1|     5.00|10179.410000000002|      0|    83|                   900|             106|          17.67|11.777777777777779|     1|                 1.0|\n",
            "|   453|         5662|        1|     android|             102|         7|       NULL|     NULL|10179.410000000002|      0|   453|                   846|              90|           null|10.638297872340425|     1|                 1.0|\n",
            "|  1966|         5663|        1|      iphone|              63|         8|       NULL|     NULL|10179.410000000002|      0|  1966|                   981|             119|           10.0|12.130479102956167|     1|                 0.0|\n",
            "|  1073|         5664|        1|     android|             141|        21|       NULL|     NULL|10179.410000000002|      0|  1073|                  1078|             119|           null| 11.03896103896104|     1|                 1.0|\n",
            "|   121|         5665|        1|     android|              39|         4|          1|     3.00|10179.410000000002|      0|   121|                   402|              39|           14.0| 9.701492537313433|     0|                 1.0|\n",
            "|   462|         5666|        1|     android|              90|        10|          1|     3.00|10179.410000000002|      0|   462|                   897|             104|           13.5|11.594202898550725|     1|                 1.0|\n",
            "|   708|         5667|        1|      iphone|              32|         2|       NULL|     NULL|10179.410000000002|      0|   708|                   371|              36|           null| 9.703504043126685|     0|                 0.0|\n",
            "+------+-------------+---------+------------+----------------+----------+-----------+---------+------------------+-------+------+----------------------+----------------+---------------+------------------+------+--------------------+\n",
            "only showing top 20 rows\n",
            "\n"
          ]
        }
      ]
    },
    {
      "cell_type": "code",
      "source": [
        "########### FILL NA IN AVG PRICE WITH 0 \n",
        "\n",
        "\n",
        "combined_grouped_df_indexed = combined_grouped_df_indexed.fillna({'avg_price_total':'0'})\n",
        "\n",
        "combined_grouped_df_indexed.show()"
      ],
      "metadata": {
        "colab": {
          "base_uri": "https://localhost:8080/"
        },
        "id": "-ok4PiTkeWvb",
        "outputId": "e7b08602-943b-4c7d-e5bc-2309356c8619"
      },
      "execution_count": 29,
      "outputs": [
        {
          "output_type": "stream",
          "name": "stdout",
          "text": [
            "+------+-------------+---------+------------+----------------+----------+-----------+---------+------------------+-------+------+----------------------+----------------+---------------+------------------+------+--------------------+\n",
            "|userId|userSessionId|teamLevel|platformType|count_gameclicks|count_hits|count_buyId|avg_price|             total|spender|userId|count_gameclicks_total|count_hits_total|avg_price_total|           Percent|hitter|platformType_indexed|\n",
            "+------+-------------+---------+------------+----------------+----------+-----------+---------+------------------+-------+------+----------------------+----------------+---------------+------------------+------+--------------------+\n",
            "|   812|         5648|        1|     android|              69|         8|       NULL|     NULL|10179.410000000002|      0|   812|                   669|              74|            0.0|11.061285500747385|     1|                 1.0|\n",
            "|  1658|         5649|        1|      iphone|              31|         5|       NULL|     NULL|10179.410000000002|      0|  1658|                   403|              58|           37.5|14.392059553349876|     1|                 0.0|\n",
            "|  1589|         5650|        1|      iphone|              26|         2|       NULL|     NULL|10179.410000000002|      0|  1589|                   289|              25|            0.0| 8.650519031141869|     0|                 0.0|\n",
            "|  1863|         5651|        1|     android|              35|         4|       NULL|     NULL|10179.410000000002|      0|  1863|                   371|              41|           13.0| 11.05121293800539|     1|                 1.0|\n",
            "|   937|         5652|        1|     android|              39|         0|          1|     1.00|10179.410000000002|      0|   937|                   145|              14|            1.0| 9.655172413793103|     0|                 1.0|\n",
            "|   342|         5653|        1|     android|              36|         5|       NULL|     NULL|10179.410000000002|      0|   342|                   283|              35|            0.0| 12.36749116607774|     1|                 1.0|\n",
            "|   849|         5654|        1|      iphone|              40|         5|       NULL|     NULL|10179.410000000002|      0|   849|                   420|              52|            0.0|12.380952380952381|     1|                 0.0|\n",
            "|  1277|         5655|        1|     windows|              46|         8|       NULL|     NULL|10179.410000000002|      0|  1277|                   530|              63|           27.0| 11.88679245283019|     1|                 2.0|\n",
            "|  2203|         5656|        1|     android|              68|         6|       NULL|     NULL|10179.410000000002|      0|  2203|                   726|              84|            0.0|11.570247933884298|     1|                 1.0|\n",
            "|   585|         5657|        1|      iphone|              76|         9|       NULL|     NULL|10179.410000000002|      0|   585|                   902|              97|           12.5|10.753880266075388|     1|                 0.0|\n",
            "|  1370|         5658|        1|      iphone|              69|         6|       NULL|     NULL|10179.410000000002|      0|  1370|                   694|              70|           47.5|10.086455331412104|     1|                 0.0|\n",
            "|  1623|         5659|        1|      iphone|             129|         9|          1|    10.00|10179.410000000002|      1|  1623|                   783|              79|           44.0|10.089399744572159|     1|                 0.0|\n",
            "|   881|         5660|        1|      iphone|              36|         6|       NULL|     NULL|10179.410000000002|      0|   881|                   365|              41|           94.0|11.232876712328768|     1|                 0.0|\n",
            "|    83|         5661|        1|     android|             102|        14|          1|     5.00|10179.410000000002|      0|    83|                   900|             106|          17.67|11.777777777777779|     1|                 1.0|\n",
            "|   453|         5662|        1|     android|             102|         7|       NULL|     NULL|10179.410000000002|      0|   453|                   846|              90|            0.0|10.638297872340425|     1|                 1.0|\n",
            "|  1966|         5663|        1|      iphone|              63|         8|       NULL|     NULL|10179.410000000002|      0|  1966|                   981|             119|           10.0|12.130479102956167|     1|                 0.0|\n",
            "|  1073|         5664|        1|     android|             141|        21|       NULL|     NULL|10179.410000000002|      0|  1073|                  1078|             119|            0.0| 11.03896103896104|     1|                 1.0|\n",
            "|   121|         5665|        1|     android|              39|         4|          1|     3.00|10179.410000000002|      0|   121|                   402|              39|           14.0| 9.701492537313433|     0|                 1.0|\n",
            "|   462|         5666|        1|     android|              90|        10|          1|     3.00|10179.410000000002|      0|   462|                   897|             104|           13.5|11.594202898550725|     1|                 1.0|\n",
            "|   708|         5667|        1|      iphone|              32|         2|       NULL|     NULL|10179.410000000002|      0|   708|                   371|              36|            0.0| 9.703504043126685|     0|                 0.0|\n",
            "+------+-------------+---------+------------+----------------+----------+-----------+---------+------------------+-------+------+----------------------+----------------+---------------+------------------+------+--------------------+\n",
            "only showing top 20 rows\n",
            "\n"
          ]
        }
      ]
    },
    {
      "cell_type": "code",
      "execution_count": 30,
      "metadata": {
        "id": "Ynr_Jq9M23GP",
        "colab": {
          "base_uri": "https://localhost:8080/"
        },
        "outputId": "5ba77edf-0f7a-4ada-869b-2d9098f9574b"
      },
      "outputs": [
        {
          "output_type": "stream",
          "name": "stdout",
          "text": [
            "+------+-------------+---------+------------+----------------+----------+-----------+---------+------------------+-------+------+----------------------+----------------+---------------+------------------+------+--------------------+--------------------+\n",
            "|userId|userSessionId|teamLevel|platformType|count_gameclicks|count_hits|count_buyId|avg_price|             total|spender|userId|count_gameclicks_total|count_hits_total|avg_price_total|           Percent|hitter|platformType_indexed|            features|\n",
            "+------+-------------+---------+------------+----------------+----------+-----------+---------+------------------+-------+------+----------------------+----------------+---------------+------------------+------+--------------------+--------------------+\n",
            "|     0|        24943|        2|      iphone|             353|        35|       NULL|     NULL|10179.410000000002|      0|     0|                  1240|             124|            0.0|              10.0|     0|                 0.0|[10.0,2.0,1240.0,...|\n",
            "|     0|        28377|        3|      iphone|             381|        32|       NULL|     NULL|10179.410000000002|      0|     0|                  1240|             124|            0.0|              10.0|     0|                 0.0|[10.0,3.0,1240.0,...|\n",
            "|     0|        32029|        4|      iphone|             269|        29|       NULL|     NULL|10179.410000000002|      0|     0|                  1240|             124|            0.0|              10.0|     0|                 0.0|[10.0,4.0,1240.0,...|\n",
            "|     1|         5835|        1|     android|              73|         7|       NULL|     NULL|10179.410000000002|      0|     1|                   658|              84|            9.5| 12.76595744680851|     1|                 1.0|[12.7659574468085...|\n",
            "|     1|         7847|        2|     android|              95|        14|       NULL|     NULL|10179.410000000002|      0|     1|                   658|              84|            9.5| 12.76595744680851|     1|                 1.0|[12.7659574468085...|\n",
            "|     1|        12713|        4|     android|              88|        14|          2|     2.00|10179.410000000002|      0|     1|                   658|              84|            9.5| 12.76595744680851|     1|                 1.0|[12.7659574468085...|\n",
            "|     1|        16232|        5|     android|              83|        13|       NULL|     NULL|10179.410000000002|      0|     1|                   658|              84|            9.5| 12.76595744680851|     1|                 1.0|[12.7659574468085...|\n",
            "|     1|        21014|        6|     android|             120|        11|          2|     2.50|10179.410000000002|      0|     1|                   658|              84|            9.5| 12.76595744680851|     1|                 1.0|[12.7659574468085...|\n",
            "|     1|        26938|        7|     android|             106|        16|          2|     2.00|10179.410000000002|      0|     1|                   658|              84|            9.5| 12.76595744680851|     1|                 1.0|[12.7659574468085...|\n",
            "|     2|        12411|        4|      iphone|              39|         3|       NULL|     NULL|10179.410000000002|      0|     2|                   206|              18|            0.0| 8.737864077669903|     0|                 0.0|[8.73786407766990...|\n",
            "|     2|        15899|        5|      iphone|              35|         6|       NULL|     NULL|10179.410000000002|      0|     2|                   206|              18|            0.0| 8.737864077669903|     0|                 0.0|[8.73786407766990...|\n",
            "|     2|        20628|        6|      iphone|              52|         3|       NULL|     NULL|10179.410000000002|      0|     2|                   206|              18|            0.0| 8.737864077669903|     0|                 0.0|[8.73786407766990...|\n",
            "|     2|        26505|        7|      iphone|              73|         6|       NULL|     NULL|10179.410000000002|      0|     2|                   206|              18|            0.0| 8.737864077669903|     0|                 0.0|[8.73786407766990...|\n",
            "|     6|        28628|        7|      iphone|              90|         5|       NULL|     NULL|10179.410000000002|      0|     6|                    90|               5|            0.0| 5.555555555555555|     0|                 0.0|[5.55555555555555...|\n",
            "|     8|        27410|        4|      iphone|              25|         1|       NULL|     NULL|10179.410000000002|      0|     8|                   207|              24|           11.0|11.594202898550725|     1|                 0.0|[11.5942028985507...|\n",
            "|     8|        27918|        5|      iphone|             182|        23|          3|    11.00|10179.410000000002|      1|     8|                   207|              24|           11.0|11.594202898550725|     1|                 0.0|[11.5942028985507...|\n",
            "|     9|         9187|        2|      iphone|              17|         1|          1|    10.00|10179.410000000002|      1|     9|                   448|              54|           50.0|12.053571428571429|     1|                 0.0|[12.0535714285714...|\n",
            "|     9|        16228|        5|      iphone|              98|         8|          2|    15.00|10179.410000000002|      1|     9|                   448|              54|           50.0|12.053571428571429|     1|                 0.0|[12.0535714285714...|\n",
            "|     9|        21009|        6|      iphone|              82|        14|       NULL|     NULL|10179.410000000002|      0|     9|                   448|              54|           50.0|12.053571428571429|     1|                 0.0|[12.0535714285714...|\n",
            "|     9|        26931|        7|      iphone|             106|        13|          2|    15.00|10179.410000000002|      1|     9|                   448|              54|           50.0|12.053571428571429|     1|                 0.0|[12.0535714285714...|\n",
            "+------+-------------+---------+------------+----------------+----------+-----------+---------+------------------+-------+------+----------------------+----------------+---------------+------------------+------+--------------------+--------------------+\n",
            "only showing top 20 rows\n",
            "\n"
          ]
        }
      ],
      "source": [
        "############## FEATURE VECTORIZATION\n",
        "\n",
        "\n",
        "\n",
        "from pyspark.ml.clustering import KMeans\n",
        "from pyspark.ml.feature import VectorAssembler\n",
        "from pyspark.ml.feature import StandardScaler\n",
        "featuresUsed = ['Percent',\n",
        " 'teamLevel',\n",
        "\"count_gameclicks_total\",\n",
        "\"count_hits_total\",\n",
        "\"platformType_indexed\"\n",
        " ]\n",
        "\n",
        "\n",
        "\n",
        "assembler = VectorAssembler(inputCols=featuresUsed,  outputCol='features')\n",
        "assembled = assembler.transform(combined_grouped_df_indexed)\n",
        "\n",
        "# assembled.show()\n",
        "\n",
        "# assembled  = assembled.select(featuresUsed)\n",
        "# Split into training and test sets in a 80:20 ratio\n",
        "combined_grouped_data_train, combined_grouped_data_test = assembled.randomSplit([0.8, 0.2], seed=17)\n",
        "\n",
        "\n",
        "combined_grouped_data_train.show()\n"
      ]
    },
    {
      "cell_type": "code",
      "execution_count": 31,
      "metadata": {
        "id": "F1UhXjjc4LLE"
      },
      "outputs": [],
      "source": [
        "\n",
        "\n",
        "# scaler = StandardScaler(inputCol=\"features_unscaled\", outputCol=\"features\", withStd=True, withMean=True)\n",
        "# scalerModel = scaler.fit(assembled)\n",
        "# scaledData = scalerModel.transform(assembled)\n",
        "\n"
      ]
    },
    {
      "cell_type": "code",
      "execution_count": 32,
      "metadata": {
        "id": "FWNc9sZB4Mo2",
        "colab": {
          "base_uri": "https://localhost:8080/"
        },
        "outputId": "8f3ecf68-24aa-4707-c431-760fbd1fbd95"
      },
      "outputs": [
        {
          "output_type": "stream",
          "name": "stdout",
          "text": [
            "Silhouette Score: 0.8826632454216913\n",
            "Silhouette Score: 0.6817104209006823\n",
            "Silhouette Score: 0.7154837804062976\n",
            "Silhouette Score: 0.7301533506388718\n",
            "Silhouette Score: 0.6989287234662358\n",
            "Silhouette Score: 0.6800344429798587\n",
            "Silhouette Score: 0.7046113203281112\n",
            "Silhouette Score: 0.702220691099243\n"
          ]
        }
      ],
      "source": [
        "from pyspark.ml.clustering import KMeans\n",
        "from pyspark.ml.evaluation import ClusteringEvaluator\n",
        "silhouette_score=[]\n",
        "evaluator = ClusteringEvaluator(predictionCol='prediction', featuresCol='features', \\\n",
        "                                metricName='silhouette', distanceMeasure='squaredEuclidean')\n",
        "for i in range(2,10):\n",
        "    KMeans_algo=KMeans(featuresCol='features', k=i)\n",
        "    KMeans_fit=KMeans_algo.fit(combined_grouped_data_train)\n",
        "    output=KMeans_fit.transform(combined_grouped_data_train)\n",
        "    score=evaluator.evaluate(output)\n",
        "    silhouette_score.append(score)\n",
        "    print(\"Silhouette Score:\",score)"
      ]
    },
    {
      "cell_type": "code",
      "source": [
        "import matplotlib.pyplot as plt\n",
        "fig, ax = plt.subplots(1,1, figsize =(8,6))\n",
        "ax.plot(range(2,10),silhouette_score)\n",
        "ax.set_xlabel('k')\n",
        "ax.set_ylabel('cost')"
      ],
      "metadata": {
        "id": "vnAzMOLJfoc1",
        "colab": {
          "base_uri": "https://localhost:8080/",
          "height": 560
        },
        "outputId": "c335528d-22b8-448f-9b18-e5916c3efe4b"
      },
      "execution_count": 33,
      "outputs": [
        {
          "output_type": "execute_result",
          "data": {
            "text/plain": [
              "Text(0, 0.5, 'cost')"
            ]
          },
          "metadata": {},
          "execution_count": 33
        },
        {
          "output_type": "display_data",
          "data": {
            "text/plain": [
              "<Figure size 800x600 with 1 Axes>"
            ],
            "image/png": "[encoded data removed]"
          },
          "metadata": {}
        }
      ]
    },
    {
      "cell_type": "code",
      "source": [],
      "metadata": {
        "id": "AgqGG2E7fl_9"
      },
      "execution_count": null,
      "outputs": []
    },
    {
      "cell_type": "code",
      "source": [
        "final_clustering=KMeans(featuresCol='standardized', k=3)\n",
        "KMeans_fit=KMeans_algo.fit(combined_grouped_data_test)\n",
        "clusters_output=KMeans_fit.transform(combined_grouped_data_test)\n",
        "clusters_output.show()"
      ],
      "metadata": {
        "id": "V3DxGVyribwc",
        "colab": {
          "base_uri": "https://localhost:8080/"
        },
        "outputId": "abc69b04-a21c-4671-8978-540f837d9e43"
      },
      "execution_count": 34,
      "outputs": [
        {
          "output_type": "stream",
          "name": "stdout",
          "text": [
            "+------+-------------+---------+------------+----------------+----------+-----------+---------+------------------+-------+------+----------------------+----------------+---------------+------------------+------+--------------------+--------------------+----------+\n",
            "|userId|userSessionId|teamLevel|platformType|count_gameclicks|count_hits|count_buyId|avg_price|             total|spender|userId|count_gameclicks_total|count_hits_total|avg_price_total|           Percent|hitter|platformType_indexed|            features|prediction|\n",
            "+------+-------------+---------+------------+----------------+----------+-----------+---------+------------------+-------+------+----------------------+----------------+---------------+------------------+------+--------------------+--------------------+----------+\n",
            "|     0|        23473|        1|      iphone|             237|        28|       NULL|     NULL|10179.410000000002|      0|     0|                  1240|             124|            0.0|              10.0|     0|                 0.0|[10.0,1.0,1240.0,...|         2|\n",
            "|     1|        10041|        3|     android|              93|         9|          2|     3.00|10179.410000000002|      0|     1|                   658|              84|            9.5| 12.76595744680851|     1|                 1.0|[12.7659574468085...|         8|\n",
            "|     2|        12107|        3|      iphone|               7|         0|       NULL|     NULL|10179.410000000002|      0|     2|                   206|              18|            0.0| 8.737864077669903|     0|                 0.0|[8.73786407766990...|         5|\n",
            "|     9|        10038|        3|      iphone|              54|         7|       NULL|     NULL|10179.410000000002|      0|     9|                   448|              54|           50.0|12.053571428571429|     1|                 0.0|[12.0535714285714...|         0|\n",
            "|     9|        12710|        4|      iphone|              91|        11|          1|    10.00|10179.410000000002|      1|     9|                   448|              54|           50.0|12.053571428571429|     1|                 0.0|[12.0535714285714...|         0|\n",
            "|    10|        24461|        4|       linux|             456|        50|          2|     1.50|10179.410000000002|      0|    10|                  2918|             324|            4.5|11.103495544893763|     1|                 3.0|[11.1034955448937...|         7|\n",
            "|    14|        29631|        7|       linux|              93|         6|       NULL|     NULL|10179.410000000002|      0|    14|                    93|               6|            0.0| 6.451612903225806|     0|                 3.0|[6.45161290322580...|         5|\n",
            "|    15|        25875|        6|     windows|               4|         0|       NULL|     NULL|10179.410000000002|      0|    15|                   125|              14|            1.0|              11.2|     1|                 2.0|[11.2,6.0,125.0,1...|         5|\n",
            "|    16|         9604|        2|     android|             596|        81|       NULL|     NULL|10179.410000000002|      0|    16|                  2305|             256|            0.0|11.106290672451193|     1|                 1.0|[11.1062906724511...|         1|\n",
            "|    16|        11793|        3|     android|             317|        33|       NULL|     NULL|10179.410000000002|      0|    16|                  2305|             256|            0.0|11.106290672451193|     1|                 1.0|[11.1062906724511...|         1|\n",
            "|    16|        18366|        2|      iphone|              23|         1|       NULL|     NULL|10179.410000000002|      0|    16|                  2305|             256|            0.0|11.106290672451193|     1|                 0.0|[11.1062906724511...|         1|\n",
            "|    16|        31615|        6|      iphone|             135|        22|       NULL|     NULL|10179.410000000002|      0|    16|                  2305|             256|            0.0|11.106290672451193|     1|                 0.0|[11.1062906724511...|         1|\n",
            "|    17|        22207|        6|     android|              70|         8|       NULL|     NULL|10179.410000000002|      0|    17|                   170|              18|            0.0|10.588235294117647|     1|                 1.0|[10.5882352941176...|         5|\n",
            "|    17|        26934|        7|     android|             100|        10|       NULL|     NULL|10179.410000000002|      0|    17|                   170|              18|            0.0|10.588235294117647|     1|                 1.0|[10.5882352941176...|         5|\n",
            "|    20|        30803|        6|      iphone|             133|        14|       NULL|     NULL|10179.410000000002|      0|    20|                   133|              14|            0.0|10.526315789473685|     1|                 0.0|[10.5263157894736...|         5|\n",
            "|    21|        26404|        7|     android|              96|        17|          3|     2.33|10179.410000000002|      0|    21|                   527|              52|          10.33| 9.867172675521822|     0|                 1.0|[9.86717267552182...|         0|\n",
            "|    23|        13838|        4|     android|             262|        25|       NULL|     NULL|10179.410000000002|      0|    23|                  1227|             122|            0.0| 9.942950285248573|     0|                 1.0|[9.94295028524857...|         2|\n",
            "|    23|        22505|        6|     android|             254|        30|       NULL|     NULL|10179.410000000002|      0|    23|                  1227|             122|            0.0| 9.942950285248573|     0|                 1.0|[9.94295028524857...|         2|\n",
            "|    27|        31978|        7|         mac|              30|         1|       NULL|     NULL|10179.410000000002|      0|    27|                    30|               1|            0.0|3.3333333333333335|     0|                 4.0|[3.33333333333333...|         5|\n",
            "|    28|         5740|        1|      iphone|              27|         3|       NULL|     NULL|10179.410000000002|      0|    28|                   388|              37|            0.0| 9.536082474226804|     0|                 0.0|[9.53608247422680...|         0|\n",
            "+------+-------------+---------+------------+----------------+----------+-----------+---------+------------------+-------+------+----------------------+----------------+---------------+------------------+------+--------------------+--------------------+----------+\n",
            "only showing top 20 rows\n",
            "\n"
          ]
        }
      ]
    },
    {
      "cell_type": "code",
      "source": [
        "from logging import Handler\n",
        "####### PLOT K MEANS\n",
        "import numpy as np \n",
        "import matplotlib.pyplot as plt\n",
        "\n",
        "df = clusters_output.toPandas()\n",
        "label = df.prediction.tolist()\n",
        "\n",
        "u_labels = np.unique(label)\n",
        "\n",
        "\n",
        "\n",
        "filtereddf = df[df['prediction'] == 1]\n",
        "\n",
        "\n",
        "\n",
        "##################### ATTEMPT 1 AT PLOTTING\n",
        "# https://rsandstroem.github.io/sparkkmeans.html\n",
        "\n",
        "# threedee = plt.figure(figsize=(12,10)).gca(projection='3d')\n",
        "# threedee.scatter(df.avg_price_total, df.count_hits_total, df.teamLevel  , c=df.prediction)\n",
        "# threedee.set_xlabel('teamLevel')\n",
        "# threedee.set_ylabel('count_hits_total')\n",
        "# threedee.set_zlabel('avg_price_total')\n",
        "\n",
        "# print(u_labels)\n",
        "# plt.legend(labels = u_labels, bbox_to_anchor=(1.05, 1), loc=2, )\n",
        "# plt.show()\n",
        "\n",
        "\n",
        "\n",
        "###################### ATTEMPT 2 \n",
        "# https://stackoverflow.com/questions/69887186/legends-not-appearing-in-3d-plot\n",
        "\n",
        "\n",
        "\n",
        "plt.rcParams[\"figure.figsize\"]=(14,8)\n",
        "plt.rcParams['legend.fontsize'] = 10\n",
        "from mpl_toolkits.mplot3d import Axes3D\n",
        "fig = plt.figure()\n",
        "ax = Axes3D(fig)\n",
        "\n",
        "ax.scatter(df.avg_price_total, df.count_hits_total, df.teamLevel  , c=df.prediction, s =150,cmap='rainbow')\n",
        "\n",
        "\n",
        "scatter = ax.scatter(df.avg_price_total, df.count_hits_total, df.teamLevel, c=df.prediction, s =150,cmap='rainbow')\n",
        "legend1 = ax.legend(*scatter.legend_elements(),\n",
        "                    loc=\"upper left\", title=\"Classes\")\n",
        "ax.add_artist(legend1)\n",
        "\n",
        "ax.legend(loc = 'upper left')\n",
        "\n",
        "ax.set_xlabel('Price Total',fontsize=20,labelpad=10)\n",
        "ax.set_ylabel('Total Hit Counts', fontsize=20, rotation=150,labelpad=10)\n",
        "ax.set_zlabel('Team Level', fontsize=20, rotation=60,labelpad=15)\n",
        "\n",
        "\n",
        "\n",
        "\n",
        "\n",
        "\n",
        "\n"
      ],
      "metadata": {
        "id": "4C9O3YjirLlc",
        "colab": {
          "base_uri": "https://localhost:8080/",
          "height": 91
        },
        "outputId": "7aea009b-8e9c-4fc1-e026-ea900b0bfdda"
      },
      "execution_count": 35,
      "outputs": [
        {
          "output_type": "stream",
          "name": "stderr",
          "text": [
            "WARNING:matplotlib.legend:No artists with labels found to put in legend.  Note that artists whose label start with an underscore are ignored when legend() is called with no argument.\n"
          ]
        },
        {
          "output_type": "execute_result",
          "data": {
            "text/plain": [
              "Text(0.5, 0, 'Team Level')"
            ]
          },
          "metadata": {},
          "execution_count": 35
        },
        {
          "output_type": "display_data",
          "data": {
            "text/plain": [
              "<Figure size 1400x800 with 0 Axes>"
            ]
          },
          "metadata": {}
        }
      ]
    },
    {
      "cell_type": "code",
      "source": [
        "clusters_output.show()"
      ],
      "metadata": {
        "id": "J6bVZjUeiqY4",
        "colab": {
          "base_uri": "https://localhost:8080/"
        },
        "outputId": "cda1cacc-7c3e-4667-88b7-b15ddc65bfbb"
      },
      "execution_count": 36,
      "outputs": [
        {
          "output_type": "stream",
          "name": "stdout",
          "text": [
            "+------+-------------+---------+------------+----------------+----------+-----------+---------+------------------+-------+------+----------------------+----------------+---------------+------------------+------+--------------------+--------------------+----------+\n",
            "|userId|userSessionId|teamLevel|platformType|count_gameclicks|count_hits|count_buyId|avg_price|             total|spender|userId|count_gameclicks_total|count_hits_total|avg_price_total|           Percent|hitter|platformType_indexed|            features|prediction|\n",
            "+------+-------------+---------+------------+----------------+----------+-----------+---------+------------------+-------+------+----------------------+----------------+---------------+------------------+------+--------------------+--------------------+----------+\n",
            "|     0|        23473|        1|      iphone|             237|        28|       NULL|     NULL|10179.410000000002|      0|     0|                  1240|             124|            0.0|              10.0|     0|                 0.0|[10.0,1.0,1240.0,...|         2|\n",
            "|     1|        10041|        3|     android|              93|         9|          2|     3.00|10179.410000000002|      0|     1|                   658|              84|            9.5| 12.76595744680851|     1|                 1.0|[12.7659574468085...|         8|\n",
            "|     2|        12107|        3|      iphone|               7|         0|       NULL|     NULL|10179.410000000002|      0|     2|                   206|              18|            0.0| 8.737864077669903|     0|                 0.0|[8.73786407766990...|         5|\n",
            "|     9|        10038|        3|      iphone|              54|         7|       NULL|     NULL|10179.410000000002|      0|     9|                   448|              54|           50.0|12.053571428571429|     1|                 0.0|[12.0535714285714...|         0|\n",
            "|     9|        12710|        4|      iphone|              91|        11|          1|    10.00|10179.410000000002|      1|     9|                   448|              54|           50.0|12.053571428571429|     1|                 0.0|[12.0535714285714...|         0|\n",
            "|    10|        24461|        4|       linux|             456|        50|          2|     1.50|10179.410000000002|      0|    10|                  2918|             324|            4.5|11.103495544893763|     1|                 3.0|[11.1034955448937...|         7|\n",
            "|    14|        29631|        7|       linux|              93|         6|       NULL|     NULL|10179.410000000002|      0|    14|                    93|               6|            0.0| 6.451612903225806|     0|                 3.0|[6.45161290322580...|         5|\n",
            "|    15|        25875|        6|     windows|               4|         0|       NULL|     NULL|10179.410000000002|      0|    15|                   125|              14|            1.0|              11.2|     1|                 2.0|[11.2,6.0,125.0,1...|         5|\n",
            "|    16|         9604|        2|     android|             596|        81|       NULL|     NULL|10179.410000000002|      0|    16|                  2305|             256|            0.0|11.106290672451193|     1|                 1.0|[11.1062906724511...|         1|\n",
            "|    16|        11793|        3|     android|             317|        33|       NULL|     NULL|10179.410000000002|      0|    16|                  2305|             256|            0.0|11.106290672451193|     1|                 1.0|[11.1062906724511...|         1|\n",
            "|    16|        18366|        2|      iphone|              23|         1|       NULL|     NULL|10179.410000000002|      0|    16|                  2305|             256|            0.0|11.106290672451193|     1|                 0.0|[11.1062906724511...|         1|\n",
            "|    16|        31615|        6|      iphone|             135|        22|       NULL|     NULL|10179.410000000002|      0|    16|                  2305|             256|            0.0|11.106290672451193|     1|                 0.0|[11.1062906724511...|         1|\n",
            "|    17|        22207|        6|     android|              70|         8|       NULL|     NULL|10179.410000000002|      0|    17|                   170|              18|            0.0|10.588235294117647|     1|                 1.0|[10.5882352941176...|         5|\n",
            "|    17|        26934|        7|     android|             100|        10|       NULL|     NULL|10179.410000000002|      0|    17|                   170|              18|            0.0|10.588235294117647|     1|                 1.0|[10.5882352941176...|         5|\n",
            "|    20|        30803|        6|      iphone|             133|        14|       NULL|     NULL|10179.410000000002|      0|    20|                   133|              14|            0.0|10.526315789473685|     1|                 0.0|[10.5263157894736...|         5|\n",
            "|    21|        26404|        7|     android|              96|        17|          3|     2.33|10179.410000000002|      0|    21|                   527|              52|          10.33| 9.867172675521822|     0|                 1.0|[9.86717267552182...|         0|\n",
            "|    23|        13838|        4|     android|             262|        25|       NULL|     NULL|10179.410000000002|      0|    23|                  1227|             122|            0.0| 9.942950285248573|     0|                 1.0|[9.94295028524857...|         2|\n",
            "|    23|        22505|        6|     android|             254|        30|       NULL|     NULL|10179.410000000002|      0|    23|                  1227|             122|            0.0| 9.942950285248573|     0|                 1.0|[9.94295028524857...|         2|\n",
            "|    27|        31978|        7|         mac|              30|         1|       NULL|     NULL|10179.410000000002|      0|    27|                    30|               1|            0.0|3.3333333333333335|     0|                 4.0|[3.33333333333333...|         5|\n",
            "|    28|         5740|        1|      iphone|              27|         3|       NULL|     NULL|10179.410000000002|      0|    28|                   388|              37|            0.0| 9.536082474226804|     0|                 0.0|[9.53608247422680...|         0|\n",
            "+------+-------------+---------+------------+----------------+----------+-----------+---------+------------------+-------+------+----------------------+----------------+---------------+------------------+------+--------------------+--------------------+----------+\n",
            "only showing top 20 rows\n",
            "\n"
          ]
        }
      ]
    },
    {
      "cell_type": "code",
      "source": [
        "combined_grouped_df_indexed.show()"
      ],
      "metadata": {
        "id": "BZvDvyUPUPxd",
        "colab": {
          "base_uri": "https://localhost:8080/"
        },
        "outputId": "c0a2158b-31f5-42c8-b041-22fe274131fa"
      },
      "execution_count": 37,
      "outputs": [
        {
          "output_type": "stream",
          "name": "stdout",
          "text": [
            "+------+-------------+---------+------------+----------------+----------+-----------+---------+------------------+-------+------+----------------------+----------------+---------------+------------------+------+--------------------+\n",
            "|userId|userSessionId|teamLevel|platformType|count_gameclicks|count_hits|count_buyId|avg_price|             total|spender|userId|count_gameclicks_total|count_hits_total|avg_price_total|           Percent|hitter|platformType_indexed|\n",
            "+------+-------------+---------+------------+----------------+----------+-----------+---------+------------------+-------+------+----------------------+----------------+---------------+------------------+------+--------------------+\n",
            "|   812|         5648|        1|     android|              69|         8|       NULL|     NULL|10179.410000000002|      0|   812|                   669|              74|            0.0|11.061285500747385|     1|                 1.0|\n",
            "|  1658|         5649|        1|      iphone|              31|         5|       NULL|     NULL|10179.410000000002|      0|  1658|                   403|              58|           37.5|14.392059553349876|     1|                 0.0|\n",
            "|  1589|         5650|        1|      iphone|              26|         2|       NULL|     NULL|10179.410000000002|      0|  1589|                   289|              25|            0.0| 8.650519031141869|     0|                 0.0|\n",
            "|  1863|         5651|        1|     android|              35|         4|       NULL|     NULL|10179.410000000002|      0|  1863|                   371|              41|           13.0| 11.05121293800539|     1|                 1.0|\n",
            "|   937|         5652|        1|     android|              39|         0|          1|     1.00|10179.410000000002|      0|   937|                   145|              14|            1.0| 9.655172413793103|     0|                 1.0|\n",
            "|   342|         5653|        1|     android|              36|         5|       NULL|     NULL|10179.410000000002|      0|   342|                   283|              35|            0.0| 12.36749116607774|     1|                 1.0|\n",
            "|   849|         5654|        1|      iphone|              40|         5|       NULL|     NULL|10179.410000000002|      0|   849|                   420|              52|            0.0|12.380952380952381|     1|                 0.0|\n",
            "|  1277|         5655|        1|     windows|              46|         8|       NULL|     NULL|10179.410000000002|      0|  1277|                   530|              63|           27.0| 11.88679245283019|     1|                 2.0|\n",
            "|  2203|         5656|        1|     android|              68|         6|       NULL|     NULL|10179.410000000002|      0|  2203|                   726|              84|            0.0|11.570247933884298|     1|                 1.0|\n",
            "|   585|         5657|        1|      iphone|              76|         9|       NULL|     NULL|10179.410000000002|      0|   585|                   902|              97|           12.5|10.753880266075388|     1|                 0.0|\n",
            "|  1370|         5658|        1|      iphone|              69|         6|       NULL|     NULL|10179.410000000002|      0|  1370|                   694|              70|           47.5|10.086455331412104|     1|                 0.0|\n",
            "|  1623|         5659|        1|      iphone|             129|         9|          1|    10.00|10179.410000000002|      1|  1623|                   783|              79|           44.0|10.089399744572159|     1|                 0.0|\n",
            "|   881|         5660|        1|      iphone|              36|         6|       NULL|     NULL|10179.410000000002|      0|   881|                   365|              41|           94.0|11.232876712328768|     1|                 0.0|\n",
            "|    83|         5661|        1|     android|             102|        14|          1|     5.00|10179.410000000002|      0|    83|                   900|             106|          17.67|11.777777777777779|     1|                 1.0|\n",
            "|   453|         5662|        1|     android|             102|         7|       NULL|     NULL|10179.410000000002|      0|   453|                   846|              90|            0.0|10.638297872340425|     1|                 1.0|\n",
            "|  1966|         5663|        1|      iphone|              63|         8|       NULL|     NULL|10179.410000000002|      0|  1966|                   981|             119|           10.0|12.130479102956167|     1|                 0.0|\n",
            "|  1073|         5664|        1|     android|             141|        21|       NULL|     NULL|10179.410000000002|      0|  1073|                  1078|             119|            0.0| 11.03896103896104|     1|                 1.0|\n",
            "|   121|         5665|        1|     android|              39|         4|          1|     3.00|10179.410000000002|      0|   121|                   402|              39|           14.0| 9.701492537313433|     0|                 1.0|\n",
            "|   462|         5666|        1|     android|              90|        10|          1|     3.00|10179.410000000002|      0|   462|                   897|             104|           13.5|11.594202898550725|     1|                 1.0|\n",
            "|   708|         5667|        1|      iphone|              32|         2|       NULL|     NULL|10179.410000000002|      0|   708|                   371|              36|            0.0| 9.703504043126685|     0|                 0.0|\n",
            "+------+-------------+---------+------------+----------------+----------+-----------+---------+------------------+-------+------+----------------------+----------------+---------------+------------------+------+--------------------+\n",
            "only showing top 20 rows\n",
            "\n"
          ]
        }
      ]
    },
    {
      "cell_type": "code",
      "source": [
        "#################### KMEANS \n",
        "featuresUsed = [\"platformType_indexed\",\"teamLevel\",\"hitter\",\"spender\", \"count_gameclicks_total\",\"avg_price_total\",\"count_hits_total\"]\n",
        "\n",
        "# featuresUsed = ['count_gameclicks', 'count_hits' ]\n",
        "from pyspark.ml.feature import VectorAssembler\n",
        "\n",
        "\n",
        "assembler = VectorAssembler(inputCols=featuresUsed, outputCol=\"features_unscaled\")\n",
        "assembled_feature = assembler.transform(combined_grouped_df_indexed)\n",
        "\n",
        "\n",
        "# SCALE THE DATA TO STANDARDIZE DIFFERENT UNITS\n",
        "scaler = StandardScaler(inputCol=\"features_unscaled\", outputCol=\"features\", withStd=True, withMean=True)\n",
        "scalerModel = scaler.fit(assembled_feature)\n",
        "scaledData = scalerModel.transform(assembled_feature)\n",
        "\n",
        "\n",
        "\n",
        "# assembled_feature.show()\n",
        "\n",
        "elbowset = scaledData.select(\"features\",\"platformType_indexed\",\"count_gameclicks_total\",\"avg_price_total\",\"count_hits_total\",\"teamLevel\")\n",
        "clusters = range(2,31)\n",
        "\n",
        "wsseList = elbow(elbowset, clusters)\n",
        "\n",
        "\n",
        "# PLOT ELBOW METHOD\n",
        "elbow_plot(wsseList, clusters)\n",
        "\n",
        "\n",
        "\n",
        "# SELECT FEATURE COLUMN\n",
        "scaledDataFeat = scaledData.select(\"features\",\"teamLevel\", \"platformType_indexed\",\"count_gameclicks_total\",\"avg_price_total\",\"count_hits_total\",\"spender\",\"hitter\")\n",
        "scaledDataFeat.persist()\n",
        "\n",
        "\n",
        "### TRAIN KMEANS MODEL WITH !2 CLusters\n",
        "kmeans = KMeans(k=5, seed=1)\n",
        "model = kmeans.fit(scaledDataFeat)\n",
        "transformed = model.transform(scaledDataFeat)\n",
        "\n",
        "## GET CENTERIODS\n",
        "centers = model.clusterCenters()\n",
        "centers\n",
        "\n",
        "\n",
        "P = pd_centers(featuresUsed, centers)\n",
        "\n",
        "P.head()\n",
        "\n",
        "\n",
        "\n",
        "\n",
        "\n",
        "\n",
        "\n",
        "\n",
        "\n",
        "\n",
        "\n"
      ],
      "metadata": {
        "id": "IDup2xu5Aa7e",
        "colab": {
          "base_uri": "https://localhost:8080/",
          "height": 1000
        },
        "outputId": "190c2175-6063-4eff-bce6-695e16a21074"
      },
      "execution_count": 38,
      "outputs": [
        {
          "output_type": "stream",
          "name": "stdout",
          "text": [
            "Training for cluster size 2 \n",
            "......................WSSE = 9897.832947236197 \n",
            "Training for cluster size 3 \n",
            "......................WSSE = 9052.35131149152 \n",
            "Training for cluster size 4 \n",
            "......................WSSE = 7804.294332262038 \n",
            "Training for cluster size 5 \n",
            "......................WSSE = 7402.3832302379515 \n",
            "Training for cluster size 6 \n",
            "......................WSSE = 7048.319723977783 \n",
            "Training for cluster size 7 \n",
            "......................WSSE = 7011.454831986224 \n",
            "Training for cluster size 8 \n",
            "......................WSSE = 6648.859149339848 \n",
            "Training for cluster size 9 \n",
            "......................WSSE = 6363.240529222316 \n",
            "Training for cluster size 10 \n",
            "......................WSSE = 5828.245776956924 \n",
            "Training for cluster size 11 \n",
            "......................WSSE = 5822.26276530395 \n",
            "Training for cluster size 12 \n",
            "......................WSSE = 5596.8897051554895 \n",
            "Training for cluster size 13 \n",
            "......................WSSE = 5466.591940879645 \n",
            "Training for cluster size 14 \n",
            "......................WSSE = 5379.907360972269 \n",
            "Training for cluster size 15 \n",
            "......................WSSE = 5257.270145903736 \n",
            "Training for cluster size 16 \n",
            "......................WSSE = 5168.471260452605 \n",
            "Training for cluster size 17 \n",
            "......................WSSE = 5086.526336788247 \n",
            "Training for cluster size 18 \n",
            "......................WSSE = 4886.484499042484 \n",
            "Training for cluster size 19 \n",
            "......................WSSE = 4845.878922970416 \n",
            "Training for cluster size 20 \n",
            "......................WSSE = 5021.968923943889 \n",
            "Training for cluster size 21 \n",
            "......................WSSE = 4837.522549109814 \n",
            "Training for cluster size 22 \n",
            "......................WSSE = 4676.619418096217 \n",
            "Training for cluster size 23 \n",
            "......................WSSE = 4555.773854633121 \n",
            "Training for cluster size 24 \n",
            "......................WSSE = 4522.743305321572 \n",
            "Training for cluster size 25 \n",
            "......................WSSE = 4458.486636641451 \n",
            "Training for cluster size 26 \n",
            "......................WSSE = 4399.8522329159205 \n",
            "Training for cluster size 27 \n",
            "......................WSSE = 4367.919198424647 \n",
            "Training for cluster size 28 \n",
            "......................WSSE = 4344.1711148785735 \n",
            "Training for cluster size 29 \n",
            "......................WSSE = 4209.930513286421 \n",
            "Training for cluster size 30 \n",
            "......................WSSE = 4176.476063579039 \n"
          ]
        },
        {
          "output_type": "execute_result",
          "data": {
            "text/plain": [
              "   platformType_indexed  teamLevel    hitter   spender  \\\n",
              "0             -0.159078  -0.036365  0.560036 -0.372151   \n",
              "1              0.147503  -0.453602  0.287198 -0.137452   \n",
              "2              2.360239   0.004245 -0.201248 -0.292081   \n",
              "3             -0.751559   0.301983  0.390343  2.561660   \n",
              "4             -0.195034   0.118900 -1.785211 -0.358450   \n",
              "\n",
              "   count_gameclicks_total  avg_price_total  count_hits_total  prediction  \n",
              "0               -0.217321        -0.160085         -0.179910           0  \n",
              "1                2.530351        -0.054809          2.514082           1  \n",
              "2               -0.246001        -0.399195         -0.261021           2  \n",
              "3               -0.209781         1.790676         -0.104333           3  \n",
              "4               -0.328588        -0.454844         -0.479037           4  "
            ],
            "text/html": [
              "\n",
              "  <div id=\"df-523a8462-0639-4aa1-b81b-18c786ac9bff\">\n",
              "    <div class=\"colab-df-container\">\n",
              "      <div>\n",
              "<style scoped>\n",
              "    .dataframe tbody tr th:only-of-type {\n",
              "        vertical-align: middle;\n",
              "    }\n",
              "\n",
              "    .dataframe tbody tr th {\n",
              "        vertical-align: top;\n",
              "    }\n",
              "\n",
              "    .dataframe thead th {\n",
              "        text-align: right;\n",
              "    }\n",
              "</style>\n",
              "<table border=\"1\" class=\"dataframe\">\n",
              "  <thead>\n",
              "    <tr style=\"text-align: right;\">\n",
              "      <th></th>\n",
              "      <th>platformType_indexed</th>\n",
              "      <th>teamLevel</th>\n",
              "      <th>hitter</th>\n",
              "      <th>spender</th>\n",
              "      <th>count_gameclicks_total</th>\n",
              "      <th>avg_price_total</th>\n",
              "      <th>count_hits_total</th>\n",
              "      <th>prediction</th>\n",
              "    </tr>\n",
              "  </thead>\n",
              "  <tbody>\n",
              "    <tr>\n",
              "      <th>0</th>\n",
              "      <td>-0.159078</td>\n",
              "      <td>-0.036365</td>\n",
              "      <td>0.560036</td>\n",
              "      <td>-0.372151</td>\n",
              "      <td>-0.217321</td>\n",
              "      <td>-0.160085</td>\n",
              "      <td>-0.179910</td>\n",
              "      <td>0</td>\n",
              "    </tr>\n",
              "    <tr>\n",
              "      <th>1</th>\n",
              "      <td>0.147503</td>\n",
              "      <td>-0.453602</td>\n",
              "      <td>0.287198</td>\n",
              "      <td>-0.137452</td>\n",
              "      <td>2.530351</td>\n",
              "      <td>-0.054809</td>\n",
              "      <td>2.514082</td>\n",
              "      <td>1</td>\n",
              "    </tr>\n",
              "    <tr>\n",
              "      <th>2</th>\n",
              "      <td>2.360239</td>\n",
              "      <td>0.004245</td>\n",
              "      <td>-0.201248</td>\n",
              "      <td>-0.292081</td>\n",
              "      <td>-0.246001</td>\n",
              "      <td>-0.399195</td>\n",
              "      <td>-0.261021</td>\n",
              "      <td>2</td>\n",
              "    </tr>\n",
              "    <tr>\n",
              "      <th>3</th>\n",
              "      <td>-0.751559</td>\n",
              "      <td>0.301983</td>\n",
              "      <td>0.390343</td>\n",
              "      <td>2.561660</td>\n",
              "      <td>-0.209781</td>\n",
              "      <td>1.790676</td>\n",
              "      <td>-0.104333</td>\n",
              "      <td>3</td>\n",
              "    </tr>\n",
              "    <tr>\n",
              "      <th>4</th>\n",
              "      <td>-0.195034</td>\n",
              "      <td>0.118900</td>\n",
              "      <td>-1.785211</td>\n",
              "      <td>-0.358450</td>\n",
              "      <td>-0.328588</td>\n",
              "      <td>-0.454844</td>\n",
              "      <td>-0.479037</td>\n",
              "      <td>4</td>\n",
              "    </tr>\n",
              "  </tbody>\n",
              "</table>\n",
              "</div>\n",
              "      <button class=\"colab-df-convert\" onclick=\"convertToInteractive('df-523a8462-0639-4aa1-b81b-18c786ac9bff')\"\n",
              "              title=\"Convert this dataframe to an interactive table.\"\n",
              "              style=\"display:none;\">\n",
              "        \n",
              "  <svg xmlns=\"http://www.w3.org/2000/svg\" height=\"24px\"viewBox=\"0 0 24 24\"\n",
              "       width=\"24px\">\n",
              "    <path d=\"M0 0h24v24H0V0z\" fill=\"none\"/>\n",
              "    <path d=\"M18.56 5.44l.94 2.06.94-2.06 2.06-.94-2.06-.94-.94-2.06-.94 2.06-2.06.94zm-11 1L8.5 8.5l.94-2.06 2.06-.94-2.06-.94L8.5 2.5l-.94 2.06-2.06.94zm10 10l.94 2.06.94-2.06 2.06-.94-2.06-.94-.94-2.06-.94 2.06-2.06.94z\"/><path d=\"M17.41 7.96l-1.37-1.37c-.4-.4-.92-.59-1.43-.59-.52 0-1.04.2-1.43.59L10.3 9.45l-7.72 7.72c-.78.78-.78 2.05 0 2.83L4 21.41c.39.39.9.59 1.41.59.51 0 1.02-.2 1.41-.59l7.78-7.78 2.81-2.81c.8-.78.8-2.07 0-2.86zM5.41 20L4 18.59l7.72-7.72 1.47 1.35L5.41 20z\"/>\n",
              "  </svg>\n",
              "      </button>\n",
              "      \n",
              "  <style>\n",
              "    .colab-df-container {\n",
              "      display:flex;\n",
              "      flex-wrap:wrap;\n",
              "      gap: 12px;\n",
              "    }\n",
              "\n",
              "    .colab-df-convert {\n",
              "      background-color: #E8F0FE;\n",
              "      border: none;\n",
              "      border-radius: 50%;\n",
              "      cursor: pointer;\n",
              "      display: none;\n",
              "      fill: #1967D2;\n",
              "      height: 32px;\n",
              "      padding: 0 0 0 0;\n",
              "      width: 32px;\n",
              "    }\n",
              "\n",
              "    .colab-df-convert:hover {\n",
              "      background-color: #E2EBFA;\n",
              "      box-shadow: 0px 1px 2px rgba(60, 64, 67, 0.3), 0px 1px 3px 1px rgba(60, 64, 67, 0.15);\n",
              "      fill: #174EA6;\n",
              "    }\n",
              "\n",
              "    [theme=dark] .colab-df-convert {\n",
              "      background-color: #3B4455;\n",
              "      fill: #D2E3FC;\n",
              "    }\n",
              "\n",
              "    [theme=dark] .colab-df-convert:hover {\n",
              "      background-color: #434B5C;\n",
              "      box-shadow: 0px 1px 3px 1px rgba(0, 0, 0, 0.15);\n",
              "      filter: drop-shadow(0px 1px 2px rgba(0, 0, 0, 0.3));\n",
              "      fill: #FFFFFF;\n",
              "    }\n",
              "  </style>\n",
              "\n",
              "      <script>\n",
              "        const buttonEl =\n",
              "          document.querySelector('#df-523a8462-0639-4aa1-b81b-18c786ac9bff button.colab-df-convert');\n",
              "        buttonEl.style.display =\n",
              "          google.colab.kernel.accessAllowed ? 'block' : 'none';\n",
              "\n",
              "        async function convertToInteractive(key) {\n",
              "          const element = document.querySelector('#df-523a8462-0639-4aa1-b81b-18c786ac9bff');\n",
              "          const dataTable =\n",
              "            await google.colab.kernel.invokeFunction('convertToInteractive',\n",
              "                                                     [key], {});\n",
              "          if (!dataTable) return;\n",
              "\n",
              "          const docLinkHtml = 'Like what you see? Visit the ' +\n",
              "            '<a target=\"_blank\" href=https://colab.research.google.com/notebooks/data_table.ipynb>data table notebook</a>'\n",
              "            + ' to learn more about interactive tables.';\n",
              "          element.innerHTML = '';\n",
              "          dataTable['output_type'] = 'display_data';\n",
              "          await google.colab.output.renderOutput(dataTable, element);\n",
              "          const docLink = document.createElement('div');\n",
              "          docLink.innerHTML = docLinkHtml;\n",
              "          element.appendChild(docLink);\n",
              "        }\n",
              "      </script>\n",
              "    </div>\n",
              "  </div>\n",
              "  "
            ]
          },
          "metadata": {},
          "execution_count": 38
        },
        {
          "output_type": "display_data",
          "data": {
            "text/plain": [
              "<Figure size 1500x1000 with 1 Axes>"
            ],
            "image/png": "[encoded data removed]"
          },
          "metadata": {}
        }
      ]
    },
    {
      "cell_type": "code",
      "source": [
        "transformed.show()\n",
        "centers"
      ],
      "metadata": {
        "id": "H_KPW31YMQdV",
        "colab": {
          "base_uri": "https://localhost:8080/"
        },
        "outputId": "3233b52b-c168-4c14-fa5b-ca4022bece60"
      },
      "execution_count": 39,
      "outputs": [
        {
          "output_type": "stream",
          "name": "stdout",
          "text": [
            "+--------------------+---------+--------------------+----------------------+---------------+----------------+-------+------+----------+\n",
            "|            features|teamLevel|platformType_indexed|count_gameclicks_total|avg_price_total|count_hits_total|spender|hitter|prediction|\n",
            "+--------------------+---------+--------------------+----------------------+---------------+----------------+-------+------+----------+\n",
            "|[0.05614147219518...|        1|                 1.0|                   669|            0.0|              74|      0|     1|         0|\n",
            "|[-0.8902726156499...|        1|                 0.0|                   403|           37.5|              58|      0|     1|         0|\n",
            "|[-0.8902726156499...|        1|                 0.0|                   289|            0.0|              25|      0|     0|         4|\n",
            "|[0.05614147219518...|        1|                 1.0|                   371|           13.0|              41|      0|     1|         0|\n",
            "|[0.05614147219518...|        1|                 1.0|                   145|            1.0|              14|      0|     0|         4|\n",
            "|[0.05614147219518...|        1|                 1.0|                   283|            0.0|              35|      0|     1|         0|\n",
            "|[-0.8902726156499...|        1|                 0.0|                   420|            0.0|              52|      0|     1|         0|\n",
            "|[1.00255556004032...|        1|                 2.0|                   530|           27.0|              63|      0|     1|         0|\n",
            "|[0.05614147219518...|        1|                 1.0|                   726|            0.0|              84|      0|     1|         0|\n",
            "|[-0.8902726156499...|        1|                 0.0|                   902|           12.5|              97|      0|     1|         0|\n",
            "|[-0.8902726156499...|        1|                 0.0|                   694|           47.5|              70|      0|     1|         0|\n",
            "|[-0.8902726156499...|        1|                 0.0|                   783|           44.0|              79|      1|     1|         3|\n",
            "|[-0.8902726156499...|        1|                 0.0|                   365|           94.0|              41|      0|     1|         3|\n",
            "|[0.05614147219518...|        1|                 1.0|                   900|          17.67|             106|      0|     1|         0|\n",
            "|[0.05614147219518...|        1|                 1.0|                   846|            0.0|              90|      0|     1|         0|\n",
            "|[-0.8902726156499...|        1|                 0.0|                   981|           10.0|             119|      0|     1|         0|\n",
            "|[0.05614147219518...|        1|                 1.0|                  1078|            0.0|             119|      0|     1|         0|\n",
            "|[0.05614147219518...|        1|                 1.0|                   402|           14.0|              39|      0|     0|         4|\n",
            "|[0.05614147219518...|        1|                 1.0|                   897|           13.5|             104|      0|     1|         0|\n",
            "|[-0.8902726156499...|        1|                 0.0|                   371|            0.0|              36|      0|     0|         4|\n",
            "+--------------------+---------+--------------------+----------------------+---------------+----------------+-------+------+----------+\n",
            "only showing top 20 rows\n",
            "\n"
          ]
        },
        {
          "output_type": "execute_result",
          "data": {
            "text/plain": [
              "[array([-0.15907806, -0.03636503,  0.56003647, -0.37215053, -0.21732124,\n",
              "        -0.1600847 , -0.17990985]),\n",
              " array([ 0.14750323, -0.45360234,  0.28719822, -0.13745186,  2.53035053,\n",
              "        -0.0548085 ,  2.51408176]),\n",
              " array([ 2.3602386 ,  0.00424472, -0.20124819, -0.29208106, -0.24600105,\n",
              "        -0.39919541, -0.26102093]),\n",
              " array([-0.75155886,  0.30198308,  0.3903432 ,  2.56166   , -0.20978065,\n",
              "         1.79067607, -0.10433334]),\n",
              " array([-0.1950345 ,  0.11889969, -1.78521144, -0.35844995, -0.32858808,\n",
              "        -0.45484407, -0.47903675])]"
            ]
          },
          "metadata": {},
          "execution_count": 39
        }
      ]
    },
    {
      "cell_type": "code",
      "source": [
        "parallel_plot(P[P['hitter'] < -0.5], P)"
      ],
      "metadata": {
        "id": "VidtgJn51zjO",
        "colab": {
          "base_uri": "https://localhost:8080/",
          "height": 682
        },
        "outputId": "0bdf57ce-98f6-40d9-efde-4ea3b19714a5"
      },
      "execution_count": 40,
      "outputs": [
        {
          "output_type": "display_data",
          "data": {
            "text/plain": [
              "<Figure size 1500x800 with 1 Axes>"
            ],
            "image/png": "[encoded data removed]"
          },
          "metadata": {}
        }
      ]
    },
    {
      "cell_type": "code",
      "source": [
        "from pyspark.ml.feature import VectorAssembler\n",
        "\n",
        "# Create an assembler object\n",
        "featuresUsed = [\"avg_price_total\",\n",
        " 'teamLevel',\n",
        "\"platformType_indexed\"\n",
        " ]\n",
        "\n",
        "\n",
        "\n",
        "assembler = VectorAssembler(inputCols=featuresUsed,  outputCol='features')\n",
        "assembled = assembler.transform(combined_grouped_df_indexed)\n",
        "\n",
        "\n",
        "# assembled  = assembled.select(featuresUsed)\n",
        "# Split into training and test sets in a 80:20 ratio\n",
        "combined_grouped_data_train, combined_grouped_data_test = assembled.randomSplit([0.8, 0.2], seed=17)\n",
        "\n",
        "\n",
        "\n",
        "# Check the resulting column\n",
        "combined_grouped_data_train.show(5, truncate=False)\n",
        "\n",
        "\n"
      ],
      "metadata": {
        "id": "DrBwqZR6uO8b",
        "colab": {
          "base_uri": "https://localhost:8080/"
        },
        "outputId": "d8b7efe4-2b2f-4daf-ac30-849012259b1d"
      },
      "execution_count": 42,
      "outputs": [
        {
          "output_type": "stream",
          "name": "stdout",
          "text": [
            "+------+-------------+---------+------------+----------------+----------+-----------+---------+------------------+-------+------+----------------------+----------------+---------------+-----------------+------+--------------------+-------------+\n",
            "|userId|userSessionId|teamLevel|platformType|count_gameclicks|count_hits|count_buyId|avg_price|total             |spender|userId|count_gameclicks_total|count_hits_total|avg_price_total|Percent          |hitter|platformType_indexed|features     |\n",
            "+------+-------------+---------+------------+----------------+----------+-----------+---------+------------------+-------+------+----------------------+----------------+---------------+-----------------+------+--------------------+-------------+\n",
            "|0     |24943        |2        |iphone      |353             |35        |NULL       |NULL     |10179.410000000002|0      |0     |1240                  |124             |0.0            |10.0             |0     |0.0                 |[0.0,2.0,0.0]|\n",
            "|0     |28377        |3        |iphone      |381             |32        |NULL       |NULL     |10179.410000000002|0      |0     |1240                  |124             |0.0            |10.0             |0     |0.0                 |[0.0,3.0,0.0]|\n",
            "|0     |32029        |4        |iphone      |269             |29        |NULL       |NULL     |10179.410000000002|0      |0     |1240                  |124             |0.0            |10.0             |0     |0.0                 |[0.0,4.0,0.0]|\n",
            "|1     |5835         |1        |android     |73              |7         |NULL       |NULL     |10179.410000000002|0      |1     |658                   |84              |9.5            |12.76595744680851|1     |1.0                 |[9.5,1.0,1.0]|\n",
            "|1     |7847         |2        |android     |95              |14        |NULL       |NULL     |10179.410000000002|0      |1     |658                   |84              |9.5            |12.76595744680851|1     |1.0                 |[9.5,2.0,1.0]|\n",
            "+------+-------------+---------+------------+----------------+----------+-----------+---------+------------------+-------+------+----------------------+----------------+---------------+-----------------+------+--------------------+-------------+\n",
            "only showing top 5 rows\n",
            "\n"
          ]
        }
      ]
    },
    {
      "cell_type": "code",
      "source": [
        "!pip install pydotplus"
      ],
      "metadata": {
        "id": "A0SNIBzCCkiP",
        "colab": {
          "base_uri": "https://localhost:8080/"
        },
        "outputId": "0b4d1e1f-d038-48ab-ac40-d80ef40d6b6c"
      },
      "execution_count": 44,
      "outputs": [
        {
          "output_type": "stream",
          "name": "stdout",
          "text": [
            "Looking in indexes: https://pypi.org/simple, https://us-python.pkg.dev/colab-wheels/public/simple/\n",
            "Requirement already satisfied: pydotplus in /usr/local/lib/python3.10/dist-packages (2.0.2)\n",
            "Requirement already satisfied: pyparsing>=2.0.1 in /usr/local/lib/python3.10/dist-packages (from pydotplus) (3.0.9)\n"
          ]
        }
      ]
    },
    {
      "cell_type": "code",
      "source": [
        "################ LOGISTIC REGRESSIOn FOR Spender\n",
        "\n",
        "from pyspark.ml.classification import LogisticRegression\n",
        "\n",
        "# Selecting numeric columns\n",
        "# Create an assembler object\n",
        "featuresUsed = [\"count_hits_total\",\n",
        " 'teamLevel',\n",
        "\"platformType_indexed\"\n",
        " ]\n",
        "\n",
        "\n",
        "\n",
        "assembler = VectorAssembler(inputCols=featuresUsed,  outputCol='features')\n",
        "assembled = assembler.transform(combined_grouped_df_indexed)\n",
        "\n",
        "\n",
        "# assembled  = assembled.select(featuresUsed)\n",
        "# Split into training and test sets in a 80:20 ratio\n",
        "combined_grouped_data_train, combined_grouped_data_test = assembled.randomSplit([0.8, 0.2], seed=17)\n",
        "\n",
        "\n",
        "\n",
        "\n",
        "\n",
        "# Create classifier object and train on training data\n",
        "logistic = LogisticRegression(labelCol='spender').fit(combined_grouped_data_train)\n",
        "\n",
        "# Create a predictions for the test data and show confusion matrix\n",
        "prediction = logistic.transform(combined_grouped_data_test)\n",
        "prediction.groupBy(\"spender\", \"prediction\").count().show()\n",
        "\n",
        "\n",
        "\n",
        "\n",
        "\n"
      ],
      "metadata": {
        "id": "EbAZPr04D9ff",
        "colab": {
          "base_uri": "https://localhost:8080/"
        },
        "outputId": "622b2da7-c455-4875-f9bc-bfec9c6ced46"
      },
      "execution_count": 51,
      "outputs": [
        {
          "output_type": "stream",
          "name": "stdout",
          "text": [
            "+-------+----------+-----+\n",
            "|spender|prediction|count|\n",
            "+-------+----------+-----+\n",
            "|      0|       0.0|  821|\n",
            "|      1|       0.0|  112|\n",
            "|      1|       1.0|    1|\n",
            "+-------+----------+-----+\n",
            "\n"
          ]
        }
      ]
    },
    {
      "cell_type": "code",
      "source": [
        "#  Calculate the elements of the confusion matrix FOR SPENDER\n",
        "TN = prediction.filter('prediction = 0 AND spender = prediction').count()\n",
        "TP = prediction.filter('prediction = 1 AND spender = prediction').count()\n",
        "FN = prediction.filter('prediction = 0 AND spender = 1').count()\n",
        "FP = prediction.filter('prediction = 1 AND spender = 0').count()\n",
        "\n",
        "\n",
        "\n",
        "# Accuracy measures the proportion of correct predictions FOR SPENDER\n",
        "accuracy = (TN + TP) / (TN + TP + FN + FP)\n",
        "print(accuracy)\n",
        "\n",
        "\n"
      ],
      "metadata": {
        "id": "dFrpCY9TJLvm",
        "colab": {
          "base_uri": "https://localhost:8080/"
        },
        "outputId": "08325067-29a1-43f9-f49d-7f0a55be9583"
      },
      "execution_count": 52,
      "outputs": [
        {
          "output_type": "stream",
          "name": "stdout",
          "text": [
            "0.880085653104925\n"
          ]
        }
      ]
    },
    {
      "cell_type": "code",
      "source": [
        "\n",
        "from pyspark.ml.evaluation import MulticlassClassificationEvaluator, BinaryClassificationEvaluator\n",
        "\n",
        "# Calculate precision and recall\n",
        "precision = TP / (TP + FP)\n",
        "recall = TP / (TP + FN)\n",
        "print('precision = {:.2f}\\nrecall   = {:.2f}'.format(precision, recall))\n",
        "\n",
        "# Find weighted precision\n",
        "multi_evaluator = MulticlassClassificationEvaluator().setLabelCol(\"spender\")\n",
        "weighted_precision = multi_evaluator.evaluate(prediction, {multi_evaluator.metricName: \"weightedPrecision\"})\n",
        "\n",
        "# Find AUC\n",
        "binary_evaluator = BinaryClassificationEvaluator().setLabelCol(\"spender\")\n",
        "auc = binary_evaluator.evaluate(prediction, {binary_evaluator.metricName: \"areaUnderROC\"})\n",
        "\n",
        "print(auc)\n",
        "print(weighted_precision)\n"
      ],
      "metadata": {
        "id": "37wWWf7k9BlP",
        "colab": {
          "base_uri": "https://localhost:8080/"
        },
        "outputId": "e9804749-f60a-4431-ba15-c20f7cac1b21"
      },
      "execution_count": 53,
      "outputs": [
        {
          "output_type": "stream",
          "name": "stdout",
          "text": [
            "precision = 1.00\n",
            "recall   = 0.01\n",
            "0.8175708449656757\n",
            "0.894480515754709\n"
          ]
        }
      ]
    },
    {
      "cell_type": "code",
      "source": [
        "############## LOGISTIC REGRESSION FOR HITTER"
      ],
      "metadata": {
        "id": "bwYdbJzp9jWu"
      },
      "execution_count": null,
      "outputs": []
    },
    {
      "cell_type": "code",
      "source": [
        "\n",
        "from pyspark.ml.classification import LogisticRegression\n",
        "from pyspark.ml.feature import VectorAssembler\n",
        "\n",
        "# Create an assembler object\n",
        "featuresUsed = [\"avg_price_total\",\n",
        " 'teamLevel',\n",
        "\"spender\",\n",
        "\"platformType_indexed\"\n",
        " ]\n",
        "\n",
        "\n",
        "\n",
        "assembler = VectorAssembler(inputCols=featuresUsed,  outputCol='features')\n",
        "assembled = assembler.transform(combined_grouped_df_indexed)\n",
        "\n",
        "\n",
        "# assembled  = assembled.select(featuresUsed)\n",
        "# Split into training and test sets in a 80:20 ratio\n",
        "combined_grouped_data_train, combined_grouped_data_test = assembled.randomSplit([0.8, 0.2], seed=17)\n",
        "\n",
        "\n",
        "\n",
        "# Create classifier object and train on training data\n",
        "logistic = LogisticRegression(labelCol='hitter').fit(combined_grouped_data_train)\n",
        "\n",
        "# Create a predictions for the test data and show confusion matrix\n",
        "prediction = logistic.transform(combined_grouped_data_test)\n",
        "prediction.groupBy(\"hitter\", \"prediction\").count().show()\n",
        "\n"
      ],
      "metadata": {
        "id": "jfZ2baLXJKyH",
        "colab": {
          "base_uri": "https://localhost:8080/"
        },
        "outputId": "a8f5a991-a9c6-427d-9b36-3d179e3eb6d4"
      },
      "execution_count": 54,
      "outputs": [
        {
          "output_type": "stream",
          "name": "stdout",
          "text": [
            "+------+----------+-----+\n",
            "|hitter|prediction|count|\n",
            "+------+----------+-----+\n",
            "|     0|       1.0|  209|\n",
            "|     1|       1.0|  725|\n",
            "+------+----------+-----+\n",
            "\n"
          ]
        }
      ]
    },
    {
      "cell_type": "code",
      "source": [
        "#  Calculate the elements of the confusion matrix FOR HITTER\n",
        "TN = prediction.filter('prediction = 0 AND hitter = prediction').count()\n",
        "TP = prediction.filter('prediction = 1 AND hitter = prediction').count()\n",
        "FN = prediction.filter('prediction = 0 AND hitter = 1').count()\n",
        "FP = prediction.filter('prediction = 1 AND hitter = 0').count()\n",
        "\n",
        "\n",
        "\n",
        "\n",
        "\n",
        "# Accuracy measures the proportion of correct predictions FOR SPENDER\n",
        "accuracy = (TN + TP) / (TN + TP + FN + FP)\n",
        "print(accuracy)\n"
      ],
      "metadata": {
        "id": "SNtJXT8593o3",
        "colab": {
          "base_uri": "https://localhost:8080/"
        },
        "outputId": "be17bfea-d5e1-4833-98f7-44871bda80aa"
      },
      "execution_count": 55,
      "outputs": [
        {
          "output_type": "stream",
          "name": "stdout",
          "text": [
            "0.7762312633832976\n"
          ]
        }
      ]
    },
    {
      "cell_type": "code",
      "source": [
        "\n",
        "from pyspark.ml.evaluation import MulticlassClassificationEvaluator, BinaryClassificationEvaluator\n",
        "\n",
        "# Calculate precision and recall\n",
        "precision = TP / (TP + FP)\n",
        "recall = TP / (TP + FN)\n",
        "print('precision = {:.2f}\\nrecall   = {:.2f}'.format(precision, recall))\n",
        "\n",
        "# Find weighted precision\n",
        "multi_evaluator = MulticlassClassificationEvaluator().setLabelCol(\"hitter\")\n",
        "weighted_precision = multi_evaluator.evaluate(prediction, {multi_evaluator.metricName: \"weightedPrecision\"})\n",
        "\n",
        "# Find AUC\n",
        "binary_evaluator = BinaryClassificationEvaluator().setLabelCol(\"hitter\")\n",
        "auc = binary_evaluator.evaluate(prediction, {binary_evaluator.metricName: \"areaUnderROC\"})\n",
        "\n",
        "print(auc)\n",
        "print(weighted_precision)\n"
      ],
      "metadata": {
        "id": "HyfhR6YO9_8C",
        "colab": {
          "base_uri": "https://localhost:8080/"
        },
        "outputId": "b905372d-1780-4431-e18b-9ed265d8e842"
      },
      "execution_count": 56,
      "outputs": [
        {
          "output_type": "stream",
          "name": "stdout",
          "text": [
            "precision = 0.78\n",
            "recall   = 1.00\n",
            "0.6587460815047023\n",
            "0.6025349742536303\n"
          ]
        }
      ]
    },
    {
      "cell_type": "code",
      "execution_count": 57,
      "metadata": {
        "id": "7xAG_6R_4eYq"
      },
      "outputs": [],
      "source": [
        "kmeans = KMeans(k=12, seed=1)\n",
        "model = kmeans.fit(scaledDataFeat)\n",
        "transformed = model.transform(scaledDataFeat)"
      ]
    },
    {
      "cell_type": "code",
      "execution_count": 58,
      "metadata": {
        "id": "zo63pc3v4gyW",
        "colab": {
          "base_uri": "https://localhost:8080/"
        },
        "outputId": "94ae1abd-74f7-4a4c-80e2-7b776e18e49e"
      },
      "outputs": [
        {
          "output_type": "execute_result",
          "data": {
            "text/plain": [
              "[array([ 1.5087074 , -0.94115246,  0.56003647, -0.32375411,  0.08412678,\n",
              "        -0.36923812,  0.11535971]),\n",
              " array([ 0.17997135, -0.37904643,  0.39930296, -0.1148806 ,  2.79178071,\n",
              "        -0.0463757 ,  2.78473048]),\n",
              " array([-0.7948359 , -0.98381912,  0.5403285 ,  2.686503  , -0.01166062,\n",
              "         2.28345126,  0.15971486]),\n",
              " array([ 1.5386004 ,  0.77688622,  0.56003647, -0.34728342, -0.40413587,\n",
              "        -0.40163874, -0.36280157]),\n",
              " array([-0.29017206, -0.87418978, -1.78521144, -0.37215053,  0.13492813,\n",
              "        -0.44312182, -0.06518979]),\n",
              " array([-0.61879128,  0.73219876,  0.16760455,  2.686503  , -0.46197482,\n",
              "         0.74694244, -0.41823514]),\n",
              " array([-0.36085307,  0.78475368, -1.78521144, -0.37215053, -0.58468759,\n",
              "        -0.45770486, -0.70918347]),\n",
              " array([ 1.77451544,  0.17194248, -1.78521144, -0.34396017, -0.25671494,\n",
              "        -0.47497391, -0.4140721 ]),\n",
              " array([-0.87806082,  0.73365445,  0.56003647,  2.686503  ,  0.08124872,\n",
              "         2.79058486,  0.23885763]),\n",
              " array([-0.34143002,  0.76116825,  0.56003647, -0.37215053, -0.35564061,\n",
              "        -0.36686821, -0.32537357]),\n",
              " array([-0.79933603, -0.4732595 ,  0.56003647, -0.37215053, -0.13814612,\n",
              "         1.82360909, -0.01118462]),\n",
              " array([-0.34366776, -0.94025675,  0.56003647, -0.37215053, -0.00609365,\n",
              "        -0.3691423 ,  0.01856326])]"
            ]
          },
          "metadata": {},
          "execution_count": 58
        }
      ],
      "source": [
        "centers = model.clusterCenters()\n",
        "centers"
      ]
    }
  ],
  "metadata": {
    "colab": {
      "provenance": [],
      "gpuType": "T4"
    },
    "kernelspec": {
      "display_name": "Python 3",
      "name": "python3"
    },
    "language_info": {
      "name": "python"
    },
    "gpuClass": "standard"
  },
  "nbformat": 4,
  "nbformat_minor": 0
}