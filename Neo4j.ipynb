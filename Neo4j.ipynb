{
  "nbformat": 4,
  "nbformat_minor": 0,
  "metadata": {
    "colab": {
      "provenance": []
    },
    "kernelspec": {
      "name": "python3",
      "display_name": "Python 3"
    },
    "language_info": {
      "name": "python"
    }
  },
  "cells": [
    {
      "cell_type": "markdown",
      "source": [
        "Fetching the data"
      ],
      "metadata": {
        "id": "IXJXgECAbpJ0"
      }
    },
    {
      "cell_type": "code",
      "execution_count": null,
      "metadata": {
        "id": "TFhcfW7wbkOC"
      },
      "outputs": [],
      "source": [
        "#GRAPH ANALYSIS\n",
        "\n",
        "#BELOW LINES OF CODES SHOULD BE RUN IN neo4j\n",
        "\n",
        "#Set the constraints\n",
        "\n",
        "CREATE CONSTRAINT ON (u:User) ASSERT u.id IS UNIQUE; \n",
        "CREATE CONSTRAINT ON (t:Team) ASSERT t.id IS UNIQUE; \n",
        "CREATE CONSTRAINT ON (c:TeamChatSession) ASSERT c.id IS UNIQUE; \n",
        "CREATE CONSTRAINT ON (i:ChatItem) ASSERT i.id IS UNIQUE; \n",
        "\n",
        "\n",
        "#Load the dataset into neo4j\n",
        "\n",
        "#Create Team dataset\n",
        "\n",
        "LOAD CSV with headers FROM \"https://drive.google.com/uc?export=download&id=1l-wWSIc2GUAfiUP36a0olS0mtJhYg0LU\" AS row \n",
        "MERGE (u:User {id: row.user_id})\n",
        "MERGE (t:Team {id: row.team_id})\n",
        "MERGE (c:TeamChatSession {id: row.assignmentId})\n",
        "MERGE (u)-[:CreatesSession{timeStamp: row.date}]->(c)\n",
        "MERGE (c)-[:OwnedBy{timeStamp: row.date}]->(t)\n",
        "\n",
        "\n",
        "#Join chat dataset\n",
        "\n",
        "LOAD CSV with headers FROM \"https://drive.google.com/uc?export=download&id=1zIfm80OGQvsksCcPqD1zBs94m9NgFGd9\" AS row\n",
        "MERGE (u:User {id: row.user_id}) \n",
        "MERGE (c:TeamChatSession {id: row.assignmentId}) \n",
        "MERGE (u)-[:Join{timeStamp: row.date}]->(c)\n",
        "\n",
        "#Leave chat dataset\n",
        "\n",
        "LOAD CSV with headers FROM \"https://drive.google.com/uc?export=download&id=1JA3EHBabiHz_LwHmB2bS4Z2cLCemKCsb\" AS row \n",
        "MERGE (u:User {id: row.user_id}) \n",
        "MERGE (c:TeamChatSession {id: row.assignmentId}) \n",
        "MERGE (u)-[:Leaves{timeStamp: row.date}]->(c)\n",
        "\n",
        "\n",
        "#Chat item dataset\n",
        "LOAD CSV with headers FROM \"https://drive.google.com/uc?export=download&id=1uOONrvPDLMkPKrq_HZwIksOmimeOCWU3\" AS row \n",
        "MERGE (u:User {id: row.user_id}) \n",
        "MERGE (c:TeamChatSession {id: row.click_id}) \n",
        "MERGE (i:ChatItem {id: row.tx_id}) \n",
        "MERGE (u)-[:CreateChat{timeStamp: row.date}]->(i) \n",
        "MERGE (i)-[:PartOf{timeStamp: row.date}]->(c)\n",
        "\n",
        "#mentions dataset\n",
        "LOAD CSV with headers FROM \"https://drive.google.com/uc?export=download&id=1SaRYi2XikyRDVuzgTZ-JlWVnSz2Yv3WB\" AS row \n",
        "MERGE (i:ChatItem {id: row.tx_id}) \n",
        "MERGE (u:User {id: row.user_id}) \n",
        "MERGE (i)-[:Mentioned{timeStamp: row.date}]->(u)\n",
        "\n",
        "#response dataset\n",
        "LOAD CSV with headers FROM \"https://drive.google.com/uc?export=download&id=1NX-VCREo62vlInWCkXr0q9_mzJHmBWzv\" AS row \n",
        "MERGE (i:ChatItem {id: row.assignmentId}) \n",
        "MERGE (j:ChatItem {id: row.tx_id}) \n",
        "MERGE (i)-[:ResponseTo{timeStamp: row.date}]->(j)"
      ]
    },
    {
      "cell_type": "code",
      "source": [
        "// Show meta-graph\n",
        "CALL db.schema.visualization()"
      ],
      "metadata": {
        "id": "Y4m3DL5FcslV"
      },
      "execution_count": null,
      "outputs": []
    },
    {
      "cell_type": "code",
      "source": [
        "MATCH ()-[r]-() return r limit 3000"
      ],
      "metadata": {
        "id": "27srCQKvctLc"
      },
      "execution_count": null,
      "outputs": []
    },
    {
      "cell_type": "code",
      "source": [
        "MATCH (n:ChatItem) RETURN n LIMIT 25"
      ],
      "metadata": {
        "id": "nk1OhPdecwgp"
      },
      "execution_count": null,
      "outputs": []
    },
    {
      "cell_type": "code",
      "source": [
        "MATCH (n:Team) RETURN n LIMIT 25"
      ],
      "metadata": {
        "id": "YiPmqNoQcyXn"
      },
      "execution_count": null,
      "outputs": []
    },
    {
      "cell_type": "code",
      "source": [
        "MATCH (n:Team) RETURN n LIMIT 15000"
      ],
      "metadata": {
        "id": "9rj-c3eqc1v9"
      },
      "execution_count": null,
      "outputs": []
    },
    {
      "cell_type": "code",
      "source": [
        "MATCH (n:ChatItem) RETURN n LIMIT 15000"
      ],
      "metadata": {
        "id": "6co4WKicc2aO"
      },
      "execution_count": null,
      "outputs": []
    },
    {
      "cell_type": "code",
      "source": [
        "match g = (p:User) - [:Join] - (q:TeamChatSession) - [:Leaves] -() return g limit 100"
      ],
      "metadata": {
        "id": "V-H3vn6Kc4nT"
      },
      "execution_count": null,
      "outputs": []
    },
    {
      "cell_type": "code",
      "source": [
        "match g = (p:User) - [:Mentioned] - (a:ChatItem) - [:ResponseTo] -() return g limit 100"
      ],
      "metadata": {
        "id": "Oezb69gTc6xP"
      },
      "execution_count": null,
      "outputs": []
    },
    {
      "cell_type": "code",
      "source": [
        "MATCH p= ()-->() RETURN p LIMIT 25"
      ],
      "metadata": {
        "id": "vNIeRTVBc-mQ"
      },
      "execution_count": null,
      "outputs": []
    },
    {
      "cell_type": "code",
      "source": [
        "match p=(a)-[:ResponseTo*]->(c) return length(p) order by length(p) desc limit 1"
      ],
      "metadata": {
        "id": "6Fcx_TyydBmd"
      },
      "execution_count": null,
      "outputs": []
    },
    {
      "cell_type": "code",
      "source": [
        "match p=(a)-[:ResponseTo*]->(c) where length(p)=9 return p"
      ],
      "metadata": {
        "id": "6HzsIulkdD5Q"
      },
      "execution_count": null,
      "outputs": []
    }
  ]
}